{
  "cells": [
    {
      "cell_type": "code",
      "execution_count": null,
      "id": "42f51f29-1652-4982-bfac-12e27705f57c",
      "metadata": {
        "tags": [],
        "id": "42f51f29-1652-4982-bfac-12e27705f57c"
      },
      "outputs": [],
      "source": [
        "from copy import copy\n",
        "from sympy import *\n",
        "import numpy as np\n",
        "import matplotlib.pyplot as plt\n",
        "from sklearn.metrics import mean_squared_error as MSE"
      ]
    },
    {
      "cell_type": "code",
      "execution_count": null,
      "id": "68f6dbaf-ddcf-4da7-8ddc-a5123abc2621",
      "metadata": {
        "tags": [],
        "id": "68f6dbaf-ddcf-4da7-8ddc-a5123abc2621"
      },
      "outputs": [],
      "source": [
        "N = 30\n",
        "q = 1\n",
        "T = 5000\n",
        "\n",
        "alphas = [80/np.sqrt(np.sum([((4*np.pi**2)**k)*((j/2)**(2*k)) for k in range(3)])) for j in range(2*N + 1)]\n",
        "alphas_4 = [4*alphas[j] for j in range(len(alphas))]\n",
        "D_2m = sum(alphas_4)\n",
        "\n",
        "b = 80\n",
        "C = 1\n",
        "D = C*np.sqrt(b)\n",
        "L = C*b\n",
        "G = C*np.sqrt(b**3)\n",
        "\n",
        "M = int(np.ceil(0.5*np.log2((G**2*T)/(8*L**2*D**2))) + 1)\n",
        "eta = np.array([min(1/(8*L), np.sqrt(D**2/(8*G**2*T)*2**i)) for i in range(1, M+1)])"
      ]
    },
    {
      "cell_type": "code",
      "execution_count": null,
      "id": "45f0004d-df90-4a69-b762-3f0730bd0d4f",
      "metadata": {
        "tags": [],
        "id": "45f0004d-df90-4a69-b762-3f0730bd0d4f"
      },
      "outputs": [],
      "source": [
        "def join_arrs(a0, arr1, arr2):\n",
        "    new_arr = np.zeros(len(arr1) + len(arr2))\n",
        "    new_arr[::2] = arr1\n",
        "    new_arr[1::2] = arr2\n",
        "    new_arr = np.concatenate(([a0], new_arr))\n",
        "    return new_arr\n",
        "\n",
        "def solve_euler(h, q):\n",
        "    t = symbols('t')\n",
        "    x = Function('x')\n",
        "    C1 = symbols('C1')\n",
        "    C2 = symbols('C2')\n",
        "    x = dsolve(- diff(x(t), t, t) + q**2*x(t) - h , x(t)).rhs\n",
        "    cond1 = x.subs(t, 0) - x.subs(t, 1)\n",
        "    cond2 = diff(x, t).subs(t, 0) - diff(x, t).subs(t, 1)\n",
        "    solution = solve([cond1, cond2], [C1, C2])\n",
        "    x = x.subs(C1, solution[C1]).subs(C2, solution[C2])\n",
        "    return x\n",
        "\n",
        "def pop_fourier_coefs(func):\n",
        "    a0 =  np.trapezoid(func(np.linspace(0, 1, 100)), np.linspace(0, 1, 100))\n",
        "    an = np.zeros(N)\n",
        "    bn = np.zeros(N)\n",
        "\n",
        "    for n in range(1, N+1):\n",
        "        an[n-1] =  np.trapezoid(func(np.linspace(0, 1, 100)) * np.sqrt(2)*np.cos(n * 2*np.pi * np.linspace(0, 1, 100)), np.linspace(0, 1, 100))\n",
        "        bn[n-1] =  np.trapezoid(func(np.linspace(0, 1, 100)) * np.sqrt(2)*np.sin(n * 2*np.pi * np.linspace(0, 1, 100)), np.linspace(0, 1, 100))\n",
        "\n",
        "    return a0, an, bn\n",
        "\n",
        "def fourier_series(t, a0, an, bn, N):\n",
        "    return a0 + np.sum([an[n] * np.sqrt(2)*np.cos((n+1) * 2*np.pi * t) + bn[n] * np.sqrt(2)*np.sin((n+1) * 2*np.pi * t) for n in range(N)])\n"
      ]
    },
    {
      "cell_type": "markdown",
      "id": "882d8185-8179-4fd8-8714-997ff430dc02",
      "metadata": {
        "id": "882d8185-8179-4fd8-8714-997ff430dc02"
      },
      "source": [
        "## $\\psi$ = 1.5"
      ]
    },
    {
      "cell_type": "code",
      "source": [
        "np.random.seed(0)\n",
        "# Initialize arrays\n",
        "w = np.zeros((T, 2*N+1))\n",
        "w_experts = np.zeros((T, M, 2*N+1))\n",
        "w_experts_wave = np.zeros((T, M, 2*N+1))\n",
        "\n",
        "# Initialize expert weights\n",
        "w_experts_init = np.random.random((M, 2*N+1))\n",
        "w_experts[0] = w_experts_init\n",
        "w_experts_wave[0] = w_experts_init.copy()\n",
        "\n",
        "# Initialize probabilities and tracking variables\n",
        "p = np.zeros((T, M))\n",
        "p[0] = np.ones(M) / M\n",
        "m = np.zeros((T, M))\n",
        "loss = np.zeros((T, M))\n",
        "grads = np.zeros((T, 2*N+1))\n",
        "\n",
        "# System setup\n",
        "psi = 1.5\n",
        "t = symbols('t')\n",
        "h_sp = 10*pi**2*cos(2*psi*pi*t)\n",
        "h = lambdify(t, 10*pi**2*cos(2*psi*pi*t))\n",
        "x = lambdify(t, solve_euler(h_sp, q))\n",
        "\n",
        "# Precompute Fourier coefficients\n",
        "a0, an, bn = pop_fourier_coefs(x)\n",
        "h_a0, h_an, h_bn = pop_fourier_coefs(h)\n",
        "x_hat = join_arrs(a0, an, bn)\n",
        "h_hat = join_arrs(h_a0, h_an, h_bn)\n",
        "\n",
        "# Precompute common terms\n",
        "ceil_j_sq = np.ceil(np.arange(2*N+1)/2)**2\n",
        "freq_terms = (2*np.pi)**2 * ceil_j_sq\n",
        "sqrt_alphas = np.sqrt(alphas)\n",
        "\n",
        "# Tracking variables\n",
        "lam = 1  # Regularization parameter\n",
        "V = 0  # Gradient variation\n",
        "Regret_J_n, Regret_J_n_sqrt = [], []  # Regret metrics\n",
        "Dif_J_n = []  # Objective differences\n",
        "\n",
        "# Vectorized functions\n",
        "def gradient(w):\n",
        "    return alphas*(q**2 + freq_terms)*w - sqrt_alphas*h_hat\n",
        "\n",
        "def J_n(w):\n",
        "    term1 = 0.5*np.sum(alphas*(q**2 + freq_terms)*w**2)\n",
        "    term2 = np.sum(sqrt_alphas*h_hat*w)\n",
        "    return term1 - term2\n",
        "\n",
        "# Main optimization loop\n",
        "for i in range(T-1):\n",
        "    # Update combined weights\n",
        "    w[i] = np.einsum('i,ij->j', p[i], w_experts[i])\n",
        "\n",
        "    # Compute gradient\n",
        "    gradient_w = gradient(w[i])\n",
        "    grads[i+1] = gradient_w\n",
        "\n",
        "    # Update V and epsilon\n",
        "    grad_diff = grads[i+1] - grads[i]\n",
        "    V += np.sum(grad_diff**2)\n",
        "    eps = min(1/(8*D**2*L), np.sqrt(np.log(M)/(D**2*V)))\n",
        "\n",
        "    # Update experts\n",
        "    grad_term = eta[:, None] * gradient_w\n",
        "    w_experts_wave[i+1] = np.clip(w_experts_wave[i] - grad_term, -np.sqrt(alphas), np.sqrt(alphas))\n",
        "    w_experts[i+1] = np.clip(w_experts_wave[i+1] - grad_term, -np.sqrt(alphas), np.sqrt(alphas))\n",
        "\n",
        "    # Compute losses\n",
        "    if i == 0:\n",
        "        loss[i] = np.dot(w_experts[i], gradient_w)\n",
        "    else:\n",
        "        expert_diffs = w_experts[i] - w_experts[i-1]\n",
        "        loss[i] = np.dot(w_experts[i], gradient_w) + lam*np.sum(expert_diffs**2, axis=1)\n",
        "\n",
        "    # Compute m[i+1]\n",
        "    next_diffs = w_experts[i+1] - w_experts[i]\n",
        "    m[i+1] = np.dot(w_experts[i+1], gradient_w) + lam*np.sum(next_diffs**2, axis=1)\n",
        "\n",
        "    # Update probabilities\n",
        "    cum_loss = np.sum(loss[:i+1], axis=0) if i > 0 else loss[0]\n",
        "    p[i+1] = np.exp(-eps*(cum_loss + m[i+1]))\n",
        "    p[i+1] /= p[i+1].sum()\n",
        "\n",
        "    # Track performance\n",
        "    current_diff = J_n(w[i]) - J_n(x_hat/sqrt_alphas)\n",
        "    Dif_J_n.append(current_diff)\n",
        "    n = len(Dif_J_n)\n",
        "    Regret_J_n_sqrt.append(sum(Dif_J_n)/np.sqrt(n))\n",
        "    Regret_J_n.append(sum(Dif_J_n)/n)"
      ],
      "metadata": {
        "id": "Gzu0GTNlGfrn"
      },
      "id": "Gzu0GTNlGfrn",
      "execution_count": null,
      "outputs": []
    },
    {
      "cell_type": "code",
      "execution_count": null,
      "id": "61e9640e-422f-434b-8873-22895dc69f92",
      "metadata": {
        "colab": {
          "base_uri": "https://localhost:8080/"
        },
        "id": "61e9640e-422f-434b-8873-22895dc69f92",
        "outputId": "2084e33d-d9cc-4704-a73c-cd7c26a9779c"
      },
      "outputs": [
        {
          "output_type": "stream",
          "name": "stdout",
          "text": [
            "7.578343545233679e-05\n"
          ]
        }
      ],
      "source": [
        "print(np.abs(J_n(w[i]) - J_n(x_hat/np.sqrt(alphas))))"
      ]
    },
    {
      "cell_type": "code",
      "execution_count": null,
      "id": "ad78d0c8-8cdc-4584-bfed-9f55c7439b0b",
      "metadata": {
        "colab": {
          "base_uri": "https://localhost:8080/"
        },
        "id": "ad78d0c8-8cdc-4584-bfed-9f55c7439b0b",
        "outputId": "c6ec46e7-ea7d-4f73-8fea-226a6778bb6f"
      },
      "outputs": [
        {
          "output_type": "execute_result",
          "data": {
            "text/plain": [
              "np.float64(0.6850266806483145)"
            ]
          },
          "metadata": {},
          "execution_count": 59
        }
      ],
      "source": [
        "Regret_J_n[-1]"
      ]
    },
    {
      "cell_type": "code",
      "execution_count": null,
      "id": "4a249abe-c723-43de-a46f-3753b61c2e48",
      "metadata": {
        "colab": {
          "base_uri": "https://localhost:8080/",
          "height": 449
        },
        "id": "4a249abe-c723-43de-a46f-3753b61c2e48",
        "outputId": "24b65eda-7af6-49c3-a5b2-b59031daa208"
      },
      "outputs": [
        {
          "output_type": "display_data",
          "data": {
            "text/plain": [
              "<Figure size 640x480 with 1 Axes>"
            ],
            "image/png": "[encoded data removed]"
          },
          "metadata": {}
        }
      ],
      "source": [
        "plt.plot(Regret_J_n)\n",
        "plt.xlabel('Number of iterations')\n",
        "plt.ylabel('Regret/iteration')\n",
        "plt.show()"
      ]
    },
    {
      "cell_type": "markdown",
      "id": "7b808494-7695-45ae-88c5-7667c70f75c4",
      "metadata": {
        "id": "7b808494-7695-45ae-88c5-7667c70f75c4"
      },
      "source": [
        "## $\\psi$ = N(0, 0.03)"
      ]
    },
    {
      "cell_type": "code",
      "source": [
        "np.random.seed(0)\n",
        "# Precompute constants\n",
        "t = symbols('t')\n",
        "psi = np.random.normal(0, 0.03, T)  # Random psi values for each timestep\n",
        "ceil_j_sq = np.ceil(np.arange(2*N+1)/2)**2  # Precomputed ceiling terms\n",
        "\n",
        "\n",
        "# Initialize arrays\n",
        "w = np.zeros((T, 2*N+1))  # Main weight vector\n",
        "w_experts = np.random.random((T, M, 2*N+1))  # Expert weights\n",
        "w_experts_wave = w_experts.copy()  # Auxiliary expert weights\n",
        "\n",
        "p = np.zeros((T, M))  # Expert probabilities\n",
        "p[0] = np.ones(M) / M  # Uniform initial probabilities\n",
        "\n",
        "m = np.zeros((T, M))  # Auxiliary tracking variable\n",
        "loss = np.zeros((T, M))  # Loss tracking\n",
        "grads = np.zeros((T, 2*N+1))  # Gradient history\n",
        "\n",
        "# Tracking variables\n",
        "lam = 1  # Regularization parameter\n",
        "V = 0  # Gradient variation\n",
        "Regret_J_n, Regret_J_n_sqrt = [], []  # Regret metrics\n",
        "Dif_J_n = []  # Objective differences\n",
        "\n",
        "# Vectorized functions\n",
        "def compute_gradient(w, h_hat):\n",
        "    \"\"\"Compute gradient of objective function\"\"\"\n",
        "    terms = alphas * (q**2 + (2*np.pi)**2 * ceil_j_sq)\n",
        "    return terms * w - np.sqrt(alphas) * h_hat\n",
        "\n",
        "def compute_J_n(w, h_hat):\n",
        "    \"\"\"Compute objective function value\"\"\"\n",
        "    terms = alphas * (q**2 + (2*np.pi)**2 * ceil_j_sq)\n",
        "    return 0.5 * np.sum(terms * w**2) - np.sum(np.sqrt(alphas) * h_hat * w)\n",
        "\n",
        "# Main optimization loop\n",
        "for i in range(T-1):\n",
        "    # Symbolic computations for current psi\n",
        "    h_sp = 10*pi**2*cos(2*psi[i]*pi*t)\n",
        "    h = lambdify(t, h_sp)\n",
        "    x_sp = solve_euler(h_sp, q)\n",
        "    x = lambdify(t, x_sp)\n",
        "\n",
        "    # Compute Fourier coefficients\n",
        "    a0, an, bn = pop_fourier_coefs(x)\n",
        "    h_a0, h_an, h_bn = pop_fourier_coefs(h)\n",
        "    x_hat = join_arrs(a0, an, bn)\n",
        "    h_hat = join_arrs(h_a0, h_an, h_bn)\n",
        "\n",
        "    # Update main weights\n",
        "    w[i] = np.einsum('i,ij->j', p[i], w_experts[i])\n",
        "\n",
        "    # Compute and store gradient\n",
        "    gradient_w = compute_gradient(w[i], h_hat)\n",
        "    grads[i+1] = gradient_w\n",
        "\n",
        "    # Update gradient variation V\n",
        "    grad_diff = grads[i+1] - grads[i]\n",
        "    V += np.sum(grad_diff**2)\n",
        "    eps = min(1/(8*D**2*L), np.sqrt(np.log(M)/(D**2*V)))\n",
        "\n",
        "    # Update expert weights\n",
        "    grad_term = eta[:, np.newaxis] * gradient_w\n",
        "    w_experts_wave[i+1] = np.clip(w_experts_wave[i] - grad_term, -np.sqrt(alphas), np.sqrt(alphas))\n",
        "    w_experts[i+1] = np.clip(w_experts_wave[i+1] - grad_term, -np.sqrt(alphas), np.sqrt(alphas))\n",
        "\n",
        "    # Compute losses\n",
        "    if i == 0:\n",
        "        loss[i] = np.dot(w_experts[i], gradient_w)\n",
        "    else:\n",
        "        expert_diffs = w_experts[i] - w_experts[i-1]\n",
        "        loss[i] = np.dot(w_experts[i], gradient_w) + lam * np.sum(expert_diffs**2, axis=1)\n",
        "\n",
        "    # Compute m[i+1] for next step\n",
        "    next_expert_diffs = w_experts[i+1] - w_experts[i]\n",
        "    m[i+1] = np.dot(w_experts[i+1], gradient_w) + lam * np.sum(next_expert_diffs**2, axis=1)\n",
        "\n",
        "    # Update expert probabilities\n",
        "    cumulative_loss = np.sum(loss[:i+1], axis=0) if i > 0 else loss[0]\n",
        "    p[i+1] = np.exp(-eps * (cumulative_loss + m[i+1]))\n",
        "    p[i+1] /= p[i+1].sum()  # Normalize\n",
        "\n",
        "    # Update performance metrics\n",
        "    current_diff = compute_J_n(w[i], h_hat) - compute_J_n(x_hat/np.sqrt(alphas), h_hat)\n",
        "    Dif_J_n.append(current_diff)\n",
        "    n = len(Dif_J_n)\n",
        "    Regret_J_n_sqrt.append(np.sum(Dif_J_n)/np.sqrt(n))\n",
        "    Regret_J_n.append(np.sum(Dif_J_n)/n)"
      ],
      "metadata": {
        "id": "S9tDUI4KHj_Q"
      },
      "id": "S9tDUI4KHj_Q",
      "execution_count": null,
      "outputs": []
    },
    {
      "cell_type": "code",
      "execution_count": null,
      "id": "5b7fad45-45bc-4e43-8d0c-43d411b8a5ed",
      "metadata": {
        "tags": [],
        "colab": {
          "base_uri": "https://localhost:8080/"
        },
        "id": "5b7fad45-45bc-4e43-8d0c-43d411b8a5ed",
        "outputId": "548583b8-264d-4836-df0d-f2af9650adff"
      },
      "outputs": [
        {
          "output_type": "execute_result",
          "data": {
            "text/plain": [
              "np.float64(174.19896961224094)"
            ]
          },
          "metadata": {},
          "execution_count": 62
        }
      ],
      "source": [
        "np.abs(J_n(w[i]) - J_n(x_hat/np.sqrt(alphas)))"
      ]
    },
    {
      "cell_type": "code",
      "execution_count": null,
      "id": "bf168c5f-cf9a-4ec6-80ce-a752695c199b",
      "metadata": {
        "colab": {
          "base_uri": "https://localhost:8080/"
        },
        "id": "bf168c5f-cf9a-4ec6-80ce-a752695c199b",
        "outputId": "48eccacb-8707-4366-cbb0-7aaa68055279"
      },
      "outputs": [
        {
          "output_type": "execute_result",
          "data": {
            "text/plain": [
              "np.float64(181.30561363866576)"
            ]
          },
          "metadata": {},
          "execution_count": 63
        }
      ],
      "source": [
        "Regret_J_n[-1]"
      ]
    },
    {
      "cell_type": "code",
      "execution_count": null,
      "id": "6ae513bc-324b-4720-9aeb-ecff24431f44",
      "metadata": {
        "tags": [],
        "colab": {
          "base_uri": "https://localhost:8080/",
          "height": 448
        },
        "id": "6ae513bc-324b-4720-9aeb-ecff24431f44",
        "outputId": "0c18ce83-6a37-42cf-f782-b135a4170f7f"
      },
      "outputs": [
        {
          "output_type": "execute_result",
          "data": {
            "text/plain": [
              "[<matplotlib.lines.Line2D at 0x7a916194c110>]"
            ]
          },
          "metadata": {},
          "execution_count": 64
        },
        {
          "output_type": "display_data",
          "data": {
            "text/plain": [
              "<Figure size 640x480 with 1 Axes>"
            ],
            "image/png": "[encoded data removed]"
          },
          "metadata": {}
        }
      ],
      "source": [
        "plt.plot(Regret_J_n)"
      ]
    },
    {
      "cell_type": "markdown",
      "id": "1e054b38-fc19-44b1-a906-eb29379a38ad",
      "metadata": {
        "id": "1e054b38-fc19-44b1-a906-eb29379a38ad"
      },
      "source": [
        "## $\\psi$ = [2, 3]"
      ]
    },
    {
      "cell_type": "code",
      "execution_count": null,
      "id": "5ee5c5fd-cae6-4558-8f65-8dd989a8328c",
      "metadata": {
        "tags": [],
        "id": "5ee5c5fd-cae6-4558-8f65-8dd989a8328c"
      },
      "outputs": [],
      "source": [
        "# Precompute constants\n",
        "t = symbols('t')\n",
        "psi = np.linspace(2, 3, T)  #  psi values for each timestep\n",
        "ceil_j_sq = np.ceil(np.arange(2*N+1)/2)**2  # Precomputed ceiling terms\n",
        "\n",
        "np.random.seed(0)\n",
        "\n",
        "# Initialize arrays\n",
        "w = np.zeros((T, 2*N+1))  # Main weight vector\n",
        "w_experts = np.random.random((T, M, 2*N+1))  # Expert weights\n",
        "w_experts_wave = w_experts.copy()  # Auxiliary expert weights\n",
        "\n",
        "p = np.zeros((T, M))  # Expert probabilities\n",
        "p[0] = np.ones(M) / M  # Uniform initial probabilities\n",
        "\n",
        "m = np.zeros((T, M))  # Auxiliary tracking variable\n",
        "loss = np.zeros((T, M))  # Loss tracking\n",
        "grads = np.zeros((T, 2*N+1))  # Gradient history\n",
        "\n",
        "# Tracking variables\n",
        "lam = 1  # Regularization parameter\n",
        "V = 0  # Gradient variation\n",
        "Regret_J_n, Regret_J_n_sqrt = [], []  # Regret metrics\n",
        "Dif_J_n = []  # Objective differences\n",
        "\n",
        "# Vectorized functions\n",
        "def compute_gradient(w, h_hat):\n",
        "    \"\"\"Compute gradient of objective function\"\"\"\n",
        "    terms = alphas * (q**2 + (2*np.pi)**2 * ceil_j_sq)\n",
        "    return terms * w - np.sqrt(alphas) * h_hat\n",
        "\n",
        "def compute_J_n(w, h_hat):\n",
        "    \"\"\"Compute objective function value\"\"\"\n",
        "    terms = alphas * (q**2 + (2*np.pi)**2 * ceil_j_sq)\n",
        "    return 0.5 * np.sum(terms * w**2) - np.sum(np.sqrt(alphas) * h_hat * w)\n",
        "\n",
        "# Main optimization loop\n",
        "for i in range(T-1):\n",
        "    # Symbolic computations for current psi\n",
        "    h_sp = 10*pi**2*cos(2*psi[i]*pi*t)\n",
        "    h = lambdify(t, h_sp)\n",
        "    x_sp = solve_euler(h_sp, q)\n",
        "    x = lambdify(t, x_sp)\n",
        "\n",
        "    # Compute Fourier coefficients\n",
        "    a0, an, bn = pop_fourier_coefs(x)\n",
        "    h_a0, h_an, h_bn = pop_fourier_coefs(h)\n",
        "    x_hat = join_arrs(a0, an, bn)\n",
        "    h_hat = join_arrs(h_a0, h_an, h_bn)\n",
        "\n",
        "    # Update main weights\n",
        "    w[i] = np.einsum('i,ij->j', p[i], w_experts[i])\n",
        "\n",
        "    # Compute and store gradient\n",
        "    gradient_w = compute_gradient(w[i], h_hat)\n",
        "    grads[i+1] = gradient_w\n",
        "\n",
        "    # Update gradient variation V\n",
        "    grad_diff = grads[i+1] - grads[i]\n",
        "    V += np.sum(grad_diff**2)\n",
        "    eps = min(1/(8*D**2*L), np.sqrt(np.log(M)/(D**2*V)))\n",
        "\n",
        "    # Update expert weights\n",
        "    grad_term = eta[:, np.newaxis] * gradient_w\n",
        "    w_experts_wave[i+1] = np.clip(w_experts_wave[i] - grad_term, -np.sqrt(alphas), np.sqrt(alphas))\n",
        "    w_experts[i+1] = np.clip(w_experts_wave[i+1] - grad_term, -np.sqrt(alphas), np.sqrt(alphas))\n",
        "\n",
        "    # Compute losses\n",
        "    if i == 0:\n",
        "        loss[i] = np.dot(w_experts[i], gradient_w)\n",
        "    else:\n",
        "        expert_diffs = w_experts[i] - w_experts[i-1]\n",
        "        loss[i] = np.dot(w_experts[i], gradient_w) + lam * np.sum(expert_diffs**2, axis=1)\n",
        "\n",
        "    # Compute m[i+1] for next step\n",
        "    next_expert_diffs = w_experts[i+1] - w_experts[i]\n",
        "    m[i+1] = np.dot(w_experts[i+1], gradient_w) + lam * np.sum(next_expert_diffs**2, axis=1)\n",
        "\n",
        "    # Update expert probabilities\n",
        "    cumulative_loss = np.sum(loss[:i+1], axis=0) if i > 0 else loss[0]\n",
        "    p[i+1] = np.exp(-eps * (cumulative_loss + m[i+1]))\n",
        "    p[i+1] /= p[i+1].sum()  # Normalize\n",
        "\n",
        "    # Update performance metrics\n",
        "    current_diff = compute_J_n(w[i], h_hat) - compute_J_n(x_hat/np.sqrt(alphas), h_hat)\n",
        "    Dif_J_n.append(current_diff)\n",
        "    n = len(Dif_J_n)\n",
        "    Regret_J_n_sqrt.append(np.sum(Dif_J_n)/np.sqrt(n))\n",
        "    Regret_J_n.append(np.sum(Dif_J_n)/n)"
      ]
    },
    {
      "cell_type": "code",
      "execution_count": null,
      "id": "3502bc8e-694a-47cc-b2fd-c977b46dec03",
      "metadata": {
        "tags": [],
        "colab": {
          "base_uri": "https://localhost:8080/"
        },
        "id": "3502bc8e-694a-47cc-b2fd-c977b46dec03",
        "outputId": "fa361aae-0da5-4574-d83c-5c702d907feb"
      },
      "outputs": [
        {
          "output_type": "execute_result",
          "data": {
            "text/plain": [
              "np.float64(0.05649209752397599)"
            ]
          },
          "metadata": {},
          "execution_count": 66
        }
      ],
      "source": [
        "np.abs(J_n(w[i]) - J_n(x_hat/np.sqrt(alphas)))"
      ]
    },
    {
      "cell_type": "code",
      "execution_count": null,
      "id": "8cb48399-fea1-4ee3-bb48-1d2d8bdba5fa",
      "metadata": {
        "colab": {
          "base_uri": "https://localhost:8080/"
        },
        "id": "8cb48399-fea1-4ee3-bb48-1d2d8bdba5fa",
        "outputId": "79383e8d-7856-48a7-9f61-9cc322e6c5d6"
      },
      "outputs": [
        {
          "output_type": "execute_result",
          "data": {
            "text/plain": [
              "np.float64(0.539888509448959)"
            ]
          },
          "metadata": {},
          "execution_count": 67
        }
      ],
      "source": [
        "Regret_J_n[-1]"
      ]
    },
    {
      "cell_type": "code",
      "execution_count": null,
      "id": "37379a34-f990-4b31-926d-8f90df6168ab",
      "metadata": {
        "tags": [],
        "colab": {
          "base_uri": "https://localhost:8080/",
          "height": 448
        },
        "id": "37379a34-f990-4b31-926d-8f90df6168ab",
        "outputId": "0ef2a327-2f67-4b3a-c61d-eb575189b0a3"
      },
      "outputs": [
        {
          "output_type": "execute_result",
          "data": {
            "text/plain": [
              "[<matplotlib.lines.Line2D at 0x7a913e6a7e50>]"
            ]
          },
          "metadata": {},
          "execution_count": 68
        },
        {
          "output_type": "display_data",
          "data": {
            "text/plain": [
              "<Figure size 640x480 with 1 Axes>"
            ],
            "image/png": "[encoded data removed]"
          },
          "metadata": {}
        }
      ],
      "source": [
        "plt.plot(Regret_J_n)"
      ]
    },
    {
      "cell_type": "markdown",
      "id": "60f7c655-d62f-481d-a2bc-57c00d7a6804",
      "metadata": {
        "id": "60f7c655-d62f-481d-a2bc-57c00d7a6804"
      },
      "source": [
        "## $\\psi$ = [0.5]*(T/2) + [1.5]*(T/2)"
      ]
    },
    {
      "cell_type": "code",
      "execution_count": null,
      "id": "b647a53c-00af-4c0e-9aa7-d435c9ece29f",
      "metadata": {
        "tags": [],
        "id": "b647a53c-00af-4c0e-9aa7-d435c9ece29f"
      },
      "outputs": [],
      "source": [
        "# Precompute constants\n",
        "t = symbols('t')\n",
        "psi =  [0.5]*int(T/2) + [1.5]*int(T/2)  # psi values for each timestep\n",
        "ceil_j_sq = np.ceil(np.arange(2*N+1)/2)**2  # Precomputed ceiling terms\n",
        "\n",
        "np.random.seed(0)\n",
        "\n",
        "# Initialize arrays\n",
        "w = np.zeros((T, 2*N+1))  # Main weight vector\n",
        "w_experts = np.random.random((T, M, 2*N+1))  # Expert weights\n",
        "w_experts_wave = w_experts.copy()  # Auxiliary expert weights\n",
        "\n",
        "p = np.zeros((T, M))  # Expert probabilities\n",
        "p[0] = np.ones(M) / M  # Uniform initial probabilities\n",
        "\n",
        "m = np.zeros((T, M))  # Auxiliary tracking variable\n",
        "loss = np.zeros((T, M))  # Loss tracking\n",
        "grads = np.zeros((T, 2*N+1))  # Gradient history\n",
        "\n",
        "# Tracking variables\n",
        "lam = 1  # Regularization parameter\n",
        "V = 0  # Gradient variation\n",
        "Regret_J_n, Regret_J_n_sqrt = [], []  # Regret metrics\n",
        "Dif_J_n = []  # Objective differences\n",
        "\n",
        "# Vectorized functions\n",
        "def compute_gradient(w, h_hat):\n",
        "    \"\"\"Compute gradient of objective function\"\"\"\n",
        "    terms = alphas * (q**2 + (2*np.pi)**2 * ceil_j_sq)\n",
        "    return terms * w - np.sqrt(alphas) * h_hat\n",
        "\n",
        "def compute_J_n(w, h_hat):\n",
        "    \"\"\"Compute objective function value\"\"\"\n",
        "    terms = alphas * (q**2 + (2*np.pi)**2 * ceil_j_sq)\n",
        "    return 0.5 * np.sum(terms * w**2) - np.sum(np.sqrt(alphas) * h_hat * w)\n",
        "\n",
        "# Main optimization loop\n",
        "for i in range(T-1):\n",
        "    # Symbolic computations for current psi\n",
        "    h_sp = 10*pi**2*cos(2*psi[i]*pi*t)\n",
        "    h = lambdify(t, h_sp)\n",
        "    x_sp = solve_euler(h_sp, q)\n",
        "    x = lambdify(t, x_sp)\n",
        "\n",
        "    # Compute Fourier coefficients\n",
        "    a0, an, bn = pop_fourier_coefs(x)\n",
        "    h_a0, h_an, h_bn = pop_fourier_coefs(h)\n",
        "    x_hat = join_arrs(a0, an, bn)\n",
        "    h_hat = join_arrs(h_a0, h_an, h_bn)\n",
        "\n",
        "    # Update main weights\n",
        "    w[i] = np.einsum('i,ij->j', p[i], w_experts[i])\n",
        "\n",
        "    # Compute and store gradient\n",
        "    gradient_w = compute_gradient(w[i], h_hat)\n",
        "    grads[i+1] = gradient_w\n",
        "\n",
        "    # Update gradient variation V\n",
        "    grad_diff = grads[i+1] - grads[i]\n",
        "    V += np.sum(grad_diff**2)\n",
        "    eps = min(1/(8*D**2*L), np.sqrt(np.log(M)/(D**2*V)))\n",
        "\n",
        "    # Update expert weights\n",
        "    grad_term = eta[:, np.newaxis] * gradient_w\n",
        "    w_experts_wave[i+1] = np.clip(w_experts_wave[i] - grad_term, -np.sqrt(alphas), np.sqrt(alphas))\n",
        "    w_experts[i+1] = np.clip(w_experts_wave[i+1] - grad_term, -np.sqrt(alphas), np.sqrt(alphas))\n",
        "\n",
        "    # Compute losses\n",
        "    if i == 0:\n",
        "        loss[i] = np.dot(w_experts[i], gradient_w)\n",
        "    else:\n",
        "        expert_diffs = w_experts[i] - w_experts[i-1]\n",
        "        loss[i] = np.dot(w_experts[i], gradient_w) + lam * np.sum(expert_diffs**2, axis=1)\n",
        "\n",
        "    # Compute m[i+1] for next step\n",
        "    next_expert_diffs = w_experts[i+1] - w_experts[i]\n",
        "    m[i+1] = np.dot(w_experts[i+1], gradient_w) + lam * np.sum(next_expert_diffs**2, axis=1)\n",
        "\n",
        "    # Update expert probabilities\n",
        "    cumulative_loss = np.sum(loss[:i+1], axis=0) if i > 0 else loss[0]\n",
        "    p[i+1] = np.exp(-eps * (cumulative_loss + m[i+1]))\n",
        "    p[i+1] /= p[i+1].sum()  # Normalize\n",
        "\n",
        "    # Update performance metrics\n",
        "    current_diff = compute_J_n(w[i], h_hat) - compute_J_n(x_hat/np.sqrt(alphas), h_hat)\n",
        "    Dif_J_n.append(current_diff)\n",
        "    n = len(Dif_J_n)\n",
        "    Regret_J_n_sqrt.append(np.sum(Dif_J_n)/np.sqrt(n))\n",
        "    Regret_J_n.append(np.sum(Dif_J_n)/n)"
      ]
    },
    {
      "cell_type": "code",
      "execution_count": null,
      "id": "27e27a57-1077-4bc1-9c2a-5286946ac12c",
      "metadata": {
        "tags": [],
        "colab": {
          "base_uri": "https://localhost:8080/"
        },
        "id": "27e27a57-1077-4bc1-9c2a-5286946ac12c",
        "outputId": "125f1fbc-a83c-453a-c548-1b4780496077"
      },
      "outputs": [
        {
          "output_type": "execute_result",
          "data": {
            "text/plain": [
              "np.float64(7.578343544878408e-05)"
            ]
          },
          "metadata": {},
          "execution_count": 70
        }
      ],
      "source": [
        "np.abs(J_n(w[i]) - J_n(x_hat/np.sqrt(alphas)))"
      ]
    },
    {
      "cell_type": "code",
      "execution_count": null,
      "id": "a0b80a39-1643-4356-8e4f-956b94e8d19e",
      "metadata": {
        "colab": {
          "base_uri": "https://localhost:8080/"
        },
        "id": "a0b80a39-1643-4356-8e4f-956b94e8d19e",
        "outputId": "63c4fe06-d18c-4a88-8276-13ca81798fef"
      },
      "outputs": [
        {
          "output_type": "execute_result",
          "data": {
            "text/plain": [
              "np.float64(1.1001885692532203)"
            ]
          },
          "metadata": {},
          "execution_count": 71
        }
      ],
      "source": [
        "Regret_J_n[-1]"
      ]
    },
    {
      "cell_type": "code",
      "execution_count": null,
      "id": "f706fd68-d43b-4038-b4bd-75b8e8c5396b",
      "metadata": {
        "tags": [],
        "colab": {
          "base_uri": "https://localhost:8080/",
          "height": 448
        },
        "id": "f706fd68-d43b-4038-b4bd-75b8e8c5396b",
        "outputId": "6748a00a-0290-433c-cf60-f24a8b312f90"
      },
      "outputs": [
        {
          "output_type": "execute_result",
          "data": {
            "text/plain": [
              "[<matplotlib.lines.Line2D at 0x7a9138b14390>]"
            ]
          },
          "metadata": {},
          "execution_count": 72
        },
        {
          "output_type": "display_data",
          "data": {
            "text/plain": [
              "<Figure size 640x480 with 1 Axes>"
            ],
            "image/png": "[encoded data removed]"
          },
          "metadata": {}
        }
      ],
      "source": [
        "plt.plot(Regret_J_n)"
      ]
    },
    {
      "cell_type": "markdown",
      "id": "30d8ccc6-9f06-48db-a336-00b85b9d6db8",
      "metadata": {
        "id": "30d8ccc6-9f06-48db-a336-00b85b9d6db8"
      },
      "source": [
        "## $\\psi$ = np.linspace(2, 3, T) + np.random.normal(0, 0.03, T)"
      ]
    },
    {
      "cell_type": "code",
      "execution_count": null,
      "id": "dd9c8e68-e64c-4165-a0c7-9bce28e32b13",
      "metadata": {
        "tags": [],
        "id": "dd9c8e68-e64c-4165-a0c7-9bce28e32b13"
      },
      "outputs": [],
      "source": [
        "np.random.seed(0)\n",
        "# Precompute constants\n",
        "t = symbols('t')\n",
        "psi =  np.linspace(2, 3, T) + np.random.normal(0, 0.03, T)  # psi values for each timestep\n",
        "ceil_j_sq = np.ceil(np.arange(2*N+1)/2)**2  # Precomputed ceiling terms\n",
        "\n",
        "# Initialize arrays\n",
        "w = np.zeros((T, 2*N+1))  # Main weight vector\n",
        "w_experts = np.random.random((T, M, 2*N+1))  # Expert weights\n",
        "w_experts_wave = w_experts.copy()  # Auxiliary expert weights\n",
        "\n",
        "p = np.zeros((T, M))  # Expert probabilities\n",
        "p[0] = np.ones(M) / M  # Uniform initial probabilities\n",
        "\n",
        "m = np.zeros((T, M))  # Auxiliary tracking variable\n",
        "loss = np.zeros((T, M))  # Loss tracking\n",
        "grads = np.zeros((T, 2*N+1))  # Gradient history\n",
        "\n",
        "# Tracking variables\n",
        "lam = 1  # Regularization parameter\n",
        "V = 0  # Gradient variation\n",
        "Regret_J_n, Regret_J_n_sqrt = [], []  # Regret metrics\n",
        "Dif_J_n = []  # Objective differences\n",
        "\n",
        "# Vectorized functions\n",
        "def compute_gradient(w, h_hat):\n",
        "    \"\"\"Compute gradient of objective function\"\"\"\n",
        "    terms = alphas * (q**2 + (2*np.pi)**2 * ceil_j_sq)\n",
        "    return terms * w - np.sqrt(alphas) * h_hat\n",
        "\n",
        "def compute_J_n(w, h_hat):\n",
        "    \"\"\"Compute objective function value\"\"\"\n",
        "    terms = alphas * (q**2 + (2*np.pi)**2 * ceil_j_sq)\n",
        "    return 0.5 * np.sum(terms * w**2) - np.sum(np.sqrt(alphas) * h_hat * w)\n",
        "\n",
        "# Main optimization loop\n",
        "for i in range(T-1):\n",
        "    # Symbolic computations for current psi\n",
        "    h_sp = 10*pi**2*cos(2*psi[i]*pi*t)\n",
        "    h = lambdify(t, h_sp)\n",
        "    x_sp = solve_euler(h_sp, q)\n",
        "    x = lambdify(t, x_sp)\n",
        "\n",
        "    # Compute Fourier coefficients\n",
        "    a0, an, bn = pop_fourier_coefs(x)\n",
        "    h_a0, h_an, h_bn = pop_fourier_coefs(h)\n",
        "    x_hat = join_arrs(a0, an, bn)\n",
        "    h_hat = join_arrs(h_a0, h_an, h_bn)\n",
        "\n",
        "    # Update main weights\n",
        "    w[i] = np.einsum('i,ij->j', p[i], w_experts[i])\n",
        "\n",
        "    # Compute and store gradient\n",
        "    gradient_w = compute_gradient(w[i], h_hat)\n",
        "    grads[i+1] = gradient_w\n",
        "\n",
        "    # Update gradient variation V\n",
        "    grad_diff = grads[i+1] - grads[i]\n",
        "    V += np.sum(grad_diff**2)\n",
        "    eps = min(1/(8*D**2*L), np.sqrt(np.log(M)/(D**2*V)))\n",
        "\n",
        "    # Update expert weights\n",
        "    grad_term = eta[:, np.newaxis] * gradient_w\n",
        "    w_experts_wave[i+1] = np.clip(w_experts_wave[i] - grad_term, -np.sqrt(alphas), np.sqrt(alphas))\n",
        "    w_experts[i+1] = np.clip(w_experts_wave[i+1] - grad_term, -np.sqrt(alphas), np.sqrt(alphas))\n",
        "\n",
        "    # Compute losses\n",
        "    if i == 0:\n",
        "        loss[i] = np.dot(w_experts[i], gradient_w)\n",
        "    else:\n",
        "        expert_diffs = w_experts[i] - w_experts[i-1]\n",
        "        loss[i] = np.dot(w_experts[i], gradient_w) + lam * np.sum(expert_diffs**2, axis=1)\n",
        "\n",
        "    # Compute m[i+1] for next step\n",
        "    next_expert_diffs = w_experts[i+1] - w_experts[i]\n",
        "    m[i+1] = np.dot(w_experts[i+1], gradient_w) + lam * np.sum(next_expert_diffs**2, axis=1)\n",
        "\n",
        "    # Update expert probabilities\n",
        "    cumulative_loss = np.sum(loss[:i+1], axis=0) if i > 0 else loss[0]\n",
        "    p[i+1] = np.exp(-eps * (cumulative_loss + m[i+1]))\n",
        "    p[i+1] /= p[i+1].sum()  # Normalize\n",
        "\n",
        "    # Update performance metrics\n",
        "    current_diff = compute_J_n(w[i], h_hat) - compute_J_n(x_hat/np.sqrt(alphas), h_hat)\n",
        "    Dif_J_n.append(current_diff)\n",
        "    n = len(Dif_J_n)\n",
        "    Regret_J_n_sqrt.append(np.sum(Dif_J_n)/np.sqrt(n))\n",
        "    Regret_J_n.append(np.sum(Dif_J_n)/n)"
      ]
    },
    {
      "cell_type": "code",
      "execution_count": null,
      "id": "c1091221-95ea-4623-9e13-631a5b75f574",
      "metadata": {
        "tags": [],
        "colab": {
          "base_uri": "https://localhost:8080/"
        },
        "id": "c1091221-95ea-4623-9e13-631a5b75f574",
        "outputId": "192dd39f-712c-4467-9862-26e7767b3138"
      },
      "outputs": [
        {
          "output_type": "execute_result",
          "data": {
            "text/plain": [
              "np.float64(0.0900289838581445)"
            ]
          },
          "metadata": {},
          "execution_count": 74
        }
      ],
      "source": [
        "np.abs(J_n(w[i]) - J_n(x_hat/np.sqrt(alphas)))"
      ]
    },
    {
      "cell_type": "code",
      "execution_count": null,
      "id": "38c34890-f908-4664-ac0e-53125c415a17",
      "metadata": {
        "colab": {
          "base_uri": "https://localhost:8080/"
        },
        "id": "38c34890-f908-4664-ac0e-53125c415a17",
        "outputId": "290f7d6d-c932-44db-d20b-5d90099e8d5f"
      },
      "outputs": [
        {
          "output_type": "execute_result",
          "data": {
            "text/plain": [
              "np.float64(0.980259815380973)"
            ]
          },
          "metadata": {},
          "execution_count": 75
        }
      ],
      "source": [
        "Regret_J_n[-1]"
      ]
    },
    {
      "cell_type": "code",
      "execution_count": null,
      "id": "f679c80f-8064-4476-9013-80bf18ce9f54",
      "metadata": {
        "tags": [],
        "colab": {
          "base_uri": "https://localhost:8080/",
          "height": 448
        },
        "id": "f679c80f-8064-4476-9013-80bf18ce9f54",
        "outputId": "f6bfb909-817d-49b8-e6eb-9a9d3f880f16"
      },
      "outputs": [
        {
          "output_type": "execute_result",
          "data": {
            "text/plain": [
              "[<matplotlib.lines.Line2D at 0x7a911ac933d0>]"
            ]
          },
          "metadata": {},
          "execution_count": 76
        },
        {
          "output_type": "display_data",
          "data": {
            "text/plain": [
              "<Figure size 640x480 with 1 Axes>"
            ],
            "image/png": "[encoded data removed]"
          },
          "metadata": {}
        }
      ],
      "source": [
        "plt.plot(Regret_J_n)"
      ]
    },
    {
      "cell_type": "code",
      "execution_count": null,
      "id": "a3f69e1f-7634-4ecc-a1c5-475f17ce61f7",
      "metadata": {
        "id": "a3f69e1f-7634-4ecc-a1c5-475f17ce61f7"
      },
      "outputs": [],
      "source": []
    }
  ],
  "metadata": {
    "kernelspec": {
      "display_name": "Python 3 (ipykernel)",
      "language": "python",
      "name": "python3"
    },
    "language_info": {
      "codemirror_mode": {
        "name": "ipython",
        "version": 3
      },
      "file_extension": ".py",
      "mimetype": "text/x-python",
      "name": "python",
      "nbconvert_exporter": "python",
      "pygments_lexer": "ipython3",
      "version": "3.9.7"
    },
    "colab": {
      "provenance": [],
      "toc_visible": true
    }
  },
  "nbformat": 4,
  "nbformat_minor": 5
}