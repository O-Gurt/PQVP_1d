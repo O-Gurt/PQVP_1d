{
  "cells": [
    {
      "cell_type": "code",
      "execution_count": null,
      "id": "e85ab863-0e64-4b30-b9d1-382de0bfe28c",
      "metadata": {
        "id": "e85ab863-0e64-4b30-b9d1-382de0bfe28c"
      },
      "outputs": [],
      "source": [
        "from copy import copy\n",
        "from sympy import *\n",
        "import numpy as np\n",
        "import matplotlib.pyplot as plt\n",
        "from sklearn.metrics import mean_squared_error as MSE"
      ]
    },
    {
      "cell_type": "code",
      "execution_count": null,
      "id": "3563cfc5-a8cf-4818-8300-12531cef836a",
      "metadata": {
        "id": "3563cfc5-a8cf-4818-8300-12531cef836a"
      },
      "outputs": [],
      "source": [
        "N = 30\n",
        "q = 1\n",
        "T = 5000\n",
        "b = 80\n",
        "D = np.sqrt(b)\n",
        "L = b\n",
        "G = np.sqrt(b**3)\n",
        "np.random.seed(0)\n",
        "\n",
        "alphas = [80/np.sqrt(np.sum([((4*np.pi**2)**k)*((j/2)**(2*k)) for k in range(3)])) for j in range(2*N + 1)]\n",
        "alphas_4 = [4*alphas[j] for j in range(len(alphas))]\n",
        "D_2m = sum(alphas_4)"
      ]
    },
    {
      "cell_type": "code",
      "execution_count": null,
      "id": "0b749e7b-7b3e-47f1-9ed3-6e3e9422ee1c",
      "metadata": {
        "id": "0b749e7b-7b3e-47f1-9ed3-6e3e9422ee1c"
      },
      "outputs": [],
      "source": [
        "def join_arrs(a0, arr1, arr2):\n",
        "    new_arr = np.zeros(len(arr1) + len(arr2))\n",
        "    new_arr[::2] = arr1\n",
        "    new_arr[1::2] = arr2\n",
        "    new_arr = np.concatenate(([a0], new_arr))\n",
        "    return new_arr\n",
        "\n",
        "def solve_euler(h, q):\n",
        "    t = symbols('t')\n",
        "    x = Function('x')\n",
        "    C1 = symbols('C1')\n",
        "    C2 = symbols('C2')\n",
        "    x = dsolve(- diff(x(t), t, t) + q**2*x(t) - h , x(t)).rhs\n",
        "    cond1 = x.subs(t, 0) - x.subs(t, 1)\n",
        "    cond2 = diff(x, t).subs(t, 0) - diff(x, t).subs(t, 1)\n",
        "    solution = solve([cond1, cond2], [C1, C2])\n",
        "    x = x.subs(C1, solution[C1]).subs(C2, solution[C2])\n",
        "    return x\n",
        "\n",
        "def pop_fourier_coefs(func):\n",
        "    a0 =  np.trapezoid(func(np.linspace(0, 1, 100)), np.linspace(0, 1, 100))\n",
        "    an = np.zeros(N)\n",
        "    bn = np.zeros(N)\n",
        "\n",
        "    for n in range(1, N+1):\n",
        "        an[n-1] =  np.trapezoid(func(np.linspace(0, 1, 100)) * np.sqrt(2)*np.cos(n * 2*np.pi * np.linspace(0, 1, 100)), np.linspace(0, 1, 100))\n",
        "        bn[n-1] =  np.trapezoid(func(np.linspace(0, 1, 100)) * np.sqrt(2)*np.sin(n * 2*np.pi * np.linspace(0, 1, 100)), np.linspace(0, 1, 100))\n",
        "\n",
        "    return a0, an, bn\n",
        "\n",
        "def fourier_series(t, a0, an, bn, N):\n",
        "    return a0 + np.sum([an[n] * np.sqrt(2)*np.cos((n+1) * 2*np.pi * t) + bn[n] * np.sqrt(2)*np.sin((n+1) * 2*np.pi * t) for n in range(N)])\n"
      ]
    },
    {
      "cell_type": "code",
      "source": [
        "def J_n(w):\n",
        "    return 0.5 * np.sum(alpha_freq * w**2) - np.sum(sqrt_alphas * h_hat * w)"
      ],
      "metadata": {
        "id": "Su13k9iyASWV"
      },
      "id": "Su13k9iyASWV",
      "execution_count": null,
      "outputs": []
    },
    {
      "cell_type": "markdown",
      "id": "aaadfb13-59eb-438b-8502-dce9930945d1",
      "metadata": {
        "id": "aaadfb13-59eb-438b-8502-dce9930945d1"
      },
      "source": [
        "## $\\psi$ = 1.5"
      ]
    },
    {
      "cell_type": "code",
      "execution_count": null,
      "id": "cbl-99JF0Q1w",
      "metadata": {
        "id": "cbl-99JF0Q1w"
      },
      "outputs": [],
      "source": [
        "np.random.seed(0)\n",
        "# Initialize arrays\n",
        "w = np.zeros((T, 2*N+1))\n",
        "w_wave = np.zeros((T, 2*N+1))\n",
        "w[0] = np.random.random(2*N+1)\n",
        "w_wave[0] = np.random.random(2*N+1)\n",
        "\n",
        "# Symbolic setup\n",
        "t = symbols('t')\n",
        "h_sp = 10*pi**2*cos(2*1.5*pi*t)\n",
        "h = lambdify(t, h_sp, 'numpy')\n",
        "\n",
        "# Solve system and get Fourier coefficients\n",
        "x_sp = solve_euler(h_sp, q)\n",
        "x = lambdify(t, x_sp, 'numpy')\n",
        "a0, an, bn = pop_fourier_coefs(x)\n",
        "h_a0, h_an, h_bn = pop_fourier_coefs(h)\n",
        "x_hat = join_arrs(a0, an, bn)\n",
        "h_hat = join_arrs(h_a0, h_an, h_bn)\n",
        "\n",
        "# Precompute terms\n",
        "sqrt_alphas = np.sqrt(alphas)\n",
        "freq_terms = q**2 + (2*np.pi)**2 * ((np.arange(2*N+1) // 2)**2)\n",
        "alpha_freq = alphas * freq_terms\n",
        "\n",
        "# Define gradient and objective\n",
        "def gradient(w):\n",
        "    return alpha_freq * w - sqrt_alphas * h_hat\n",
        "\n",
        "def J_n(w):\n",
        "    return 0.5 * np.sum(alpha_freq * w**2) - np.sum(sqrt_alphas * h_hat * w)\n",
        "\n",
        "# Initialize variables\n",
        "eta = np.zeros(T)\n",
        "eta[0] = D / np.sqrt(10*D**2*L**2 + 4*G**2)\n",
        "gradient_history = np.zeros((T, 2*N+1))\n",
        "dif_grads_norm = []\n",
        "J_opt = J_n(x_hat / sqrt_alphas)\n",
        "Regret_J_n, Regret_J_n_sqrt = [], []\n",
        "Dif_J_n = []\n",
        "\n",
        "# Main loop\n",
        "for i in range(T-1):\n",
        "    gradient_history[i+1] = gradient(w[i])\n",
        "\n",
        "    grad_diff = gradient_history[i+1] - gradient_history[i]\n",
        "    dif_grads_norm.append(np.dot(grad_diff, grad_diff))\n",
        "    eta[i+1] = D / np.sqrt(10*D**2*L**2 + 4*G**2 + np.sum(dif_grads_norm))\n",
        "\n",
        "    w_wave[i+1] = np.clip(w_wave[i] - eta[i] * gradient_history[i], -np.sqrt(alphas), np.sqrt(alphas))\n",
        "    w[i+1] = np.clip(w_wave[i+1] - eta[i+1] * gradient_history[i], -np.sqrt(alphas), np.sqrt(alphas))\n",
        "\n",
        "    current_diff = J_n(w[i]) - J_opt\n",
        "    Dif_J_n.append(current_diff)\n",
        "    n = len(Dif_J_n)\n",
        "    Regret_J_n_sqrt.append(np.sum(Dif_J_n) / np.sqrt(n))\n",
        "    Regret_J_n.append(np.sum(Dif_J_n) / n)"
      ]
    },
    {
      "cell_type": "code",
      "execution_count": null,
      "id": "2Ju_Wnn90SF2",
      "metadata": {
        "colab": {
          "base_uri": "https://localhost:8080/"
        },
        "id": "2Ju_Wnn90SF2",
        "outputId": "249a6b42-4435-40eb-c272-1ee58b380806"
      },
      "outputs": [
        {
          "output_type": "execute_result",
          "data": {
            "text/plain": [
              "np.float64(101.36060713464843)"
            ]
          },
          "metadata": {},
          "execution_count": 51
        }
      ],
      "source": [
        "Regret_J_n[-1]"
      ]
    },
    {
      "cell_type": "code",
      "execution_count": null,
      "id": "ebBatzLa0cS0",
      "metadata": {
        "colab": {
          "base_uri": "https://localhost:8080/"
        },
        "id": "ebBatzLa0cS0",
        "outputId": "0af39045-6712-4581-b6f2-a525784c5a75"
      },
      "outputs": [
        {
          "output_type": "execute_result",
          "data": {
            "text/plain": [
              "np.float64(2.0484584047605807)"
            ]
          },
          "metadata": {},
          "execution_count": 52
        }
      ],
      "source": [
        "np.abs(J_n(w[i]) - J_n(x_hat/np.sqrt(alphas)))"
      ]
    },
    {
      "cell_type": "code",
      "execution_count": null,
      "id": "hgURUZ120dK6",
      "metadata": {
        "colab": {
          "base_uri": "https://localhost:8080/",
          "height": 448
        },
        "id": "hgURUZ120dK6",
        "outputId": "833c3577-da4a-415d-f86f-cf114926074b"
      },
      "outputs": [
        {
          "output_type": "execute_result",
          "data": {
            "text/plain": [
              "[<matplotlib.lines.Line2D at 0x79687beead10>]"
            ]
          },
          "metadata": {},
          "execution_count": 53
        },
        {
          "output_type": "display_data",
          "data": {
            "text/plain": [
              "<Figure size 640x480 with 1 Axes>"
            ],
            "image/png": "[encoded data removed]"
          },
          "metadata": {}
        }
      ],
      "source": [
        "plt.plot(Regret_J_n)"
      ]
    },
    {
      "cell_type": "markdown",
      "id": "24d7df6c-df84-447e-b13a-77cdd22be8a4",
      "metadata": {
        "id": "24d7df6c-df84-447e-b13a-77cdd22be8a4"
      },
      "source": [
        "## $\\psi$ = np.random.normal(0, 0.03, T)"
      ]
    },
    {
      "cell_type": "code",
      "execution_count": null,
      "id": "6fd800a8-e0db-433a-aa2c-ba191165ba85",
      "metadata": {
        "id": "6fd800a8-e0db-433a-aa2c-ba191165ba85"
      },
      "outputs": [],
      "source": [
        "np.random.seed(0)\n",
        "# Precompute constants\n",
        "sqrt_alphas = np.sqrt(alphas)\n",
        "freq_terms = q**2 + (2*np.pi)**2 * np.ceil(np.arange(2*N+1)/2)**2\n",
        "alpha_freq = alphas * freq_terms\n",
        "\n",
        "# Initialize arrays\n",
        "w = np.zeros((T, 2*N+1))\n",
        "w_wave = np.zeros((T, 2*N+1))\n",
        "w[0] = np.random.random(2*N+1)\n",
        "w_wave[0] = np.random.random(2*N+1)\n",
        "\n",
        "# Tracking variables\n",
        "Regret_J_n, Regret_J_n_sqrt = [], []\n",
        "Dif_J_n = []\n",
        "grads = []\n",
        "psi = np.random.normal(0, 0.03, T)\n",
        "\n",
        "# Learning rate setup\n",
        "eta = np.zeros(T)\n",
        "eta[0] = D/np.sqrt(10*D**2*L**2 + 4*G**2)\n",
        "gradient_w = np.zeros((T, 2*N+1))\n",
        "dif_grads_norm = []\n",
        "\n",
        "t = symbols('t')  # Time symbol\n",
        "\n",
        "for i in range(T-1):\n",
        "    # System dynamics\n",
        "    h_sp = 10*pi**2*cos(2*psi[i]*pi*t)\n",
        "    h = lambdify(t, h_sp, 'numpy')\n",
        "    x_sp = solve_euler(h_sp, q)\n",
        "    x = lambdify(t, x_sp, 'numpy')\n",
        "\n",
        "    # Fourier coefficients\n",
        "    a0, an, bn = pop_fourier_coefs(x)\n",
        "    h_a0, h_an, h_bn = pop_fourier_coefs(h)\n",
        "    x_hat = join_arrs(a0, an, bn)\n",
        "    h_hat = join_arrs(h_a0, h_an, h_bn)\n",
        "\n",
        "    # Gradient and objective\n",
        "    gradient_w[i+1] = alpha_freq * w[i] - sqrt_alphas * h_hat\n",
        "    J_n_current = 0.5*np.sum(alpha_freq * w[i]**2) - np.sum(sqrt_alphas * h_hat * w[i])\n",
        "\n",
        "    # Update learning rate\n",
        "    grad_diff = gradient_w[i+1] - gradient_w[i]\n",
        "    dif_grads_norm.append(np.dot(grad_diff, grad_diff))\n",
        "    eta[i+1] = D/np.sqrt(10*D**2*L**2 + 4*G**2 + np.sum(dif_grads_norm))\n",
        "\n",
        "    # Weight updates\n",
        "    w_wave[i+1] = np.clip(w_wave[i] - eta[i] * gradient_w[i], -np.sqrt(alphas), np.sqrt(alphas))\n",
        "    w[i+1] = np.clip(w_wave[i+1] - eta[i+1] * gradient_w[i], -np.sqrt(alphas), np.sqrt(alphas))\n",
        "\n",
        "    # Regret calculation\n",
        "    current_diff = J_n_current - (0.5*np.sum(alpha_freq * (x_hat/sqrt_alphas)**2) - np.sum(sqrt_alphas * h_hat * (x_hat/sqrt_alphas)))\n",
        "    Dif_J_n.append(current_diff)\n",
        "    n = len(Dif_J_n)\n",
        "    Regret_J_n_sqrt.append(np.sum(Dif_J_n)/np.sqrt(n))\n",
        "    Regret_J_n.append(np.sum(Dif_J_n)/n)"
      ]
    },
    {
      "cell_type": "code",
      "execution_count": null,
      "id": "87e8118c-7064-47ce-ad74-b151975e2f1a",
      "metadata": {
        "colab": {
          "base_uri": "https://localhost:8080/"
        },
        "id": "87e8118c-7064-47ce-ad74-b151975e2f1a",
        "outputId": "d9abecf6-cfae-41e2-ab73-4ff498464c0d"
      },
      "outputs": [
        {
          "output_type": "execute_result",
          "data": {
            "text/plain": [
              "np.float64(545.5074307554078)"
            ]
          },
          "metadata": {},
          "execution_count": 17
        }
      ],
      "source": [
        "np.abs(J_n(w[i]) - J_n(x_hat/np.sqrt(alphas)))"
      ]
    },
    {
      "cell_type": "code",
      "execution_count": null,
      "id": "a6e65414-6b8a-4a32-aa91-a507d3921e78",
      "metadata": {
        "colab": {
          "base_uri": "https://localhost:8080/"
        },
        "id": "a6e65414-6b8a-4a32-aa91-a507d3921e78",
        "outputId": "e4fd7ec6-b52e-42c7-839c-93a826208d06"
      },
      "outputs": [
        {
          "output_type": "execute_result",
          "data": {
            "text/plain": [
              "np.float64(1760.2311110734495)"
            ]
          },
          "metadata": {},
          "execution_count": 18
        }
      ],
      "source": [
        "Regret_J_n[-1]"
      ]
    },
    {
      "cell_type": "code",
      "execution_count": null,
      "id": "c82ccbd7-d0ed-4b25-b76b-d839dbed6158",
      "metadata": {
        "colab": {
          "base_uri": "https://localhost:8080/",
          "height": 453
        },
        "id": "c82ccbd7-d0ed-4b25-b76b-d839dbed6158",
        "outputId": "8e9f92f7-5f6a-44db-adec-fd71ac12b421"
      },
      "outputs": [
        {
          "output_type": "execute_result",
          "data": {
            "text/plain": [
              "[<matplotlib.lines.Line2D at 0x79687c88f790>]"
            ]
          },
          "metadata": {},
          "execution_count": 19
        },
        {
          "output_type": "display_data",
          "data": {
            "text/plain": [
              "<Figure size 640x480 with 1 Axes>"
            ],
            "image/png": "[encoded data removed]"
          },
          "metadata": {}
        }
      ],
      "source": [
        "plt.plot(Regret_J_n)"
      ]
    },
    {
      "cell_type": "markdown",
      "id": "4439f781-70c3-439a-9e22-938c12232914",
      "metadata": {
        "id": "4439f781-70c3-439a-9e22-938c12232914"
      },
      "source": [
        "## $\\psi$ = np.linspace(2, 3, T)"
      ]
    },
    {
      "cell_type": "code",
      "execution_count": null,
      "id": "e5d0f5e8-a31e-467f-b9dc-2497c1b22321",
      "metadata": {
        "id": "e5d0f5e8-a31e-467f-b9dc-2497c1b22321"
      },
      "outputs": [],
      "source": [
        "np.random.seed(0)\n",
        "# Precompute constants\n",
        "sqrt_alphas = np.sqrt(alphas)\n",
        "freq_terms = q**2 + (2*np.pi)**2 * np.ceil(np.arange(2*N+1)/2)**2\n",
        "alpha_freq = alphas * freq_terms\n",
        "\n",
        "# Initialize arrays\n",
        "w = np.zeros((T, 2*N+1))\n",
        "w_wave = np.zeros((T, 2*N+1))\n",
        "w[0] = np.random.random(2*N+1)\n",
        "w_wave[0] = np.random.random(2*N+1)\n",
        "\n",
        "# Tracking variables\n",
        "Regret_J_n, Regret_J_n_sqrt = [], []\n",
        "Dif_J_n = []\n",
        "grads = []\n",
        "psi = np.linspace(2, 3, T)\n",
        "\n",
        "# Learning rate setup\n",
        "eta = np.zeros(T)\n",
        "eta[0] = D/np.sqrt(10*D**2*L**2 + 4*G**2)\n",
        "gradient_w = np.zeros((T, 2*N+1))\n",
        "dif_grads_norm = []\n",
        "\n",
        "t = symbols('t')  # Time symbol\n",
        "\n",
        "for i in range(T-1):\n",
        "    # System dynamics\n",
        "    h_sp = 10*pi**2*cos(2*psi[i]*pi*t)\n",
        "    h = lambdify(t, h_sp, 'numpy')\n",
        "    x_sp = solve_euler(h_sp, q)\n",
        "    x = lambdify(t, x_sp, 'numpy')\n",
        "\n",
        "    # Fourier coefficients\n",
        "    a0, an, bn = pop_fourier_coefs(x)\n",
        "    h_a0, h_an, h_bn = pop_fourier_coefs(h)\n",
        "    x_hat = join_arrs(a0, an, bn)\n",
        "    h_hat = join_arrs(h_a0, h_an, h_bn)\n",
        "\n",
        "    # Gradient and objective\n",
        "    gradient_w[i+1] = alpha_freq * w[i] - sqrt_alphas * h_hat\n",
        "    J_n_current = 0.5*np.sum(alpha_freq * w[i]**2) - np.sum(sqrt_alphas * h_hat * w[i])\n",
        "\n",
        "    # Update learning rate\n",
        "    grad_diff = gradient_w[i+1] - gradient_w[i]\n",
        "    dif_grads_norm.append(np.dot(grad_diff, grad_diff))\n",
        "    eta[i+1] = D/np.sqrt(10*D**2*L**2 + 4*G**2 + np.sum(dif_grads_norm))\n",
        "\n",
        "    # Weight updates\n",
        "    w_wave[i+1] = np.clip(w_wave[i] - eta[i] * gradient_w[i], -np.sqrt(alphas), np.sqrt(alphas))\n",
        "    w[i+1] = np.clip(w_wave[i+1] - eta[i+1] * gradient_w[i], -np.sqrt(alphas), np.sqrt(alphas))\n",
        "\n",
        "    # Regret calculation\n",
        "    current_diff = J_n_current - (0.5*np.sum(alpha_freq * (x_hat/sqrt_alphas)**2) - np.sum(sqrt_alphas * h_hat * (x_hat/sqrt_alphas)))\n",
        "    Dif_J_n.append(current_diff)\n",
        "    n = len(Dif_J_n)\n",
        "    Regret_J_n_sqrt.append(np.sum(Dif_J_n)/np.sqrt(n))\n",
        "    Regret_J_n.append(np.sum(Dif_J_n)/n)"
      ]
    },
    {
      "cell_type": "code",
      "execution_count": null,
      "id": "0f829a41-8671-4102-91ce-d8a5a68a59f5",
      "metadata": {
        "colab": {
          "base_uri": "https://localhost:8080/"
        },
        "id": "0f829a41-8671-4102-91ce-d8a5a68a59f5",
        "outputId": "2d25a5e8-3a47-41d9-9f3b-783800cd3268"
      },
      "outputs": [
        {
          "output_type": "execute_result",
          "data": {
            "text/plain": [
              "np.float64(236.62906944923463)"
            ]
          },
          "metadata": {},
          "execution_count": 21
        }
      ],
      "source": [
        "np.abs(J_n(w[i]) - J_n(x_hat/np.sqrt(alphas)))"
      ]
    },
    {
      "cell_type": "code",
      "execution_count": null,
      "id": "16f2897c-9bfa-4c34-a99d-510a01adb176",
      "metadata": {
        "colab": {
          "base_uri": "https://localhost:8080/"
        },
        "id": "16f2897c-9bfa-4c34-a99d-510a01adb176",
        "outputId": "1784db2d-453a-4a63-dae7-82bdb97ccfdd"
      },
      "outputs": [
        {
          "output_type": "execute_result",
          "data": {
            "text/plain": [
              "np.float64(502.228282934797)"
            ]
          },
          "metadata": {},
          "execution_count": 22
        }
      ],
      "source": [
        "Regret_J_n[-1]"
      ]
    },
    {
      "cell_type": "code",
      "execution_count": null,
      "id": "e71db38e-d686-4bd5-8482-26f4362346ee",
      "metadata": {
        "colab": {
          "base_uri": "https://localhost:8080/",
          "height": 448
        },
        "id": "e71db38e-d686-4bd5-8482-26f4362346ee",
        "outputId": "bffebb47-ce1d-4ccd-89e5-8ce4e3623e52"
      },
      "outputs": [
        {
          "output_type": "execute_result",
          "data": {
            "text/plain": [
              "[<matplotlib.lines.Line2D at 0x79687c664cd0>]"
            ]
          },
          "metadata": {},
          "execution_count": 23
        },
        {
          "output_type": "display_data",
          "data": {
            "text/plain": [
              "<Figure size 640x480 with 1 Axes>"
            ],
            "image/png": "[encoded data removed]"
          },
          "metadata": {}
        }
      ],
      "source": [
        "plt.plot(Regret_J_n)"
      ]
    },
    {
      "cell_type": "markdown",
      "id": "464cbd12-4e8e-4df8-ad31-a647d8a0e32c",
      "metadata": {
        "id": "464cbd12-4e8e-4df8-ad31-a647d8a0e32c"
      },
      "source": [
        "## $\\psi$ = [0.5]*int(T/2) + [1.5]*int(T/2)"
      ]
    },
    {
      "cell_type": "code",
      "execution_count": null,
      "id": "9445d163-0b55-43d6-8369-6f4275e03dde",
      "metadata": {
        "id": "9445d163-0b55-43d6-8369-6f4275e03dde"
      },
      "outputs": [],
      "source": [
        "# Precompute constants\n",
        "sqrt_alphas = np.sqrt(alphas)\n",
        "freq_terms = q**2 + (2*np.pi)**2 * np.ceil(np.arange(2*N+1)/2)**2\n",
        "alpha_freq = alphas * freq_terms\n",
        "\n",
        "np.random.seed(0)\n",
        "\n",
        "# Initialize arrays\n",
        "w = np.zeros((T, 2*N+1))\n",
        "w_wave = np.zeros((T, 2*N+1))\n",
        "w[0] = np.random.random(2*N+1)\n",
        "w_wave[0] = np.random.random(2*N+1)\n",
        "\n",
        "# Tracking variables\n",
        "Regret_J_n, Regret_J_n_sqrt = [], []\n",
        "Dif_J_n = []\n",
        "grads = []\n",
        "psi = [0.5]*int(T/2) + [1.5]*int(T/2)\n",
        "\n",
        "# Learning rate setup\n",
        "eta = np.zeros(T)\n",
        "eta[0] = D/np.sqrt(10*D**2*L**2 + 4*G**2)\n",
        "gradient_w = np.zeros((T, 2*N+1))\n",
        "dif_grads_norm = []\n",
        "\n",
        "t = symbols('t')  # Time symbol\n",
        "\n",
        "for i in range(T-1):\n",
        "    # System dynamics\n",
        "    h_sp = 10*pi**2*cos(2*psi[i]*pi*t)\n",
        "    h = lambdify(t, h_sp, 'numpy')\n",
        "    x_sp = solve_euler(h_sp, q)\n",
        "    x = lambdify(t, x_sp, 'numpy')\n",
        "\n",
        "    # Fourier coefficients\n",
        "    a0, an, bn = pop_fourier_coefs(x)\n",
        "    h_a0, h_an, h_bn = pop_fourier_coefs(h)\n",
        "    x_hat = join_arrs(a0, an, bn)\n",
        "    h_hat = join_arrs(h_a0, h_an, h_bn)\n",
        "\n",
        "    # Gradient and objective\n",
        "    gradient_w[i+1] = alpha_freq * w[i] - sqrt_alphas * h_hat\n",
        "    J_n_current = 0.5*np.sum(alpha_freq * w[i]**2) - np.sum(sqrt_alphas * h_hat * w[i])\n",
        "\n",
        "    # Update learning rate\n",
        "    grad_diff = gradient_w[i+1] - gradient_w[i]\n",
        "    dif_grads_norm.append(np.dot(grad_diff, grad_diff))\n",
        "    eta[i+1] = D/np.sqrt(10*D**2*L**2 + 4*G**2 + np.sum(dif_grads_norm))\n",
        "\n",
        "    # Weight updates\n",
        "    w_wave[i+1] = np.clip(w_wave[i] - eta[i] * gradient_w[i], -np.sqrt(alphas), np.sqrt(alphas))\n",
        "    w[i+1] = np.clip(w_wave[i+1] - eta[i+1] * gradient_w[i], -np.sqrt(alphas), np.sqrt(alphas))\n",
        "\n",
        "    # Regret calculation\n",
        "    current_diff = J_n_current - (0.5*np.sum(alpha_freq * (x_hat/sqrt_alphas)**2) - np.sum(sqrt_alphas * h_hat * (x_hat/sqrt_alphas)))\n",
        "    Dif_J_n.append(current_diff)\n",
        "    n = len(Dif_J_n)\n",
        "    Regret_J_n_sqrt.append(np.sum(Dif_J_n)/np.sqrt(n))\n",
        "    Regret_J_n.append(np.sum(Dif_J_n)/n)"
      ]
    },
    {
      "cell_type": "code",
      "execution_count": null,
      "id": "5ec11c0b-4bb1-43e2-8fa5-dec4c08605a3",
      "metadata": {
        "colab": {
          "base_uri": "https://localhost:8080/"
        },
        "id": "5ec11c0b-4bb1-43e2-8fa5-dec4c08605a3",
        "outputId": "a89be7e5-5541-4cca-fe88-987e13a2c56b"
      },
      "outputs": [
        {
          "output_type": "execute_result",
          "data": {
            "text/plain": [
              "np.float64(430.00537231215344)"
            ]
          },
          "metadata": {},
          "execution_count": 27
        }
      ],
      "source": [
        "np.abs(J_n(w[i]) - J_n(x_hat/np.sqrt(alphas)))"
      ]
    },
    {
      "cell_type": "code",
      "execution_count": null,
      "id": "1637a72f-8457-4512-a1f3-150256b8a7ec",
      "metadata": {
        "colab": {
          "base_uri": "https://localhost:8080/"
        },
        "id": "1637a72f-8457-4512-a1f3-150256b8a7ec",
        "outputId": "6c8dbecf-c2e2-4663-aee4-e35441be9a9a"
      },
      "outputs": [
        {
          "output_type": "execute_result",
          "data": {
            "text/plain": [
              "np.float64(525.0224876376947)"
            ]
          },
          "metadata": {},
          "execution_count": 28
        }
      ],
      "source": [
        "Regret_J_n[-1]"
      ]
    },
    {
      "cell_type": "code",
      "execution_count": null,
      "id": "f66a4dc7-531f-4dfa-b4d9-6018261525ec",
      "metadata": {
        "colab": {
          "base_uri": "https://localhost:8080/",
          "height": 448
        },
        "id": "f66a4dc7-531f-4dfa-b4d9-6018261525ec",
        "outputId": "46c1839f-3fb6-42da-abd5-01ce60ba39c0"
      },
      "outputs": [
        {
          "output_type": "execute_result",
          "data": {
            "text/plain": [
              "[<matplotlib.lines.Line2D at 0x79687cb2ce50>]"
            ]
          },
          "metadata": {},
          "execution_count": 29
        },
        {
          "output_type": "display_data",
          "data": {
            "text/plain": [
              "<Figure size 640x480 with 1 Axes>"
            ],
            "image/png": "[encoded data removed]"
          },
          "metadata": {}
        }
      ],
      "source": [
        "plt.plot(Regret_J_n)"
      ]
    },
    {
      "cell_type": "markdown",
      "id": "fbdc55f1-8d2d-4b4f-b2da-816c3e6b953b",
      "metadata": {
        "id": "fbdc55f1-8d2d-4b4f-b2da-816c3e6b953b"
      },
      "source": [
        "## $\\psi$ = np.linspace(2, 3, T) + np.random.normal(0, 0.03, T)"
      ]
    },
    {
      "cell_type": "code",
      "execution_count": null,
      "id": "c1c0f77c-a5fb-4a94-8ca9-c0084895cf52",
      "metadata": {
        "id": "c1c0f77c-a5fb-4a94-8ca9-c0084895cf52"
      },
      "outputs": [],
      "source": [
        "np.random.seed(0)\n",
        "# Precompute constants\n",
        "sqrt_alphas = np.sqrt(alphas)\n",
        "freq_terms = q**2 + (2*np.pi)**2 * np.ceil(np.arange(2*N+1)/2)**2\n",
        "alpha_freq = alphas * freq_terms\n",
        "\n",
        "# Initialize arrays\n",
        "w = np.zeros((T, 2*N+1))\n",
        "w_wave = np.zeros((T, 2*N+1))\n",
        "w[0] = np.random.random(2*N+1)\n",
        "w_wave[0] = np.random.random(2*N+1)\n",
        "\n",
        "# Tracking variables\n",
        "Regret_J_n, Regret_J_n_sqrt = [], []\n",
        "Dif_J_n = []\n",
        "grads = []\n",
        "psi = np.linspace(2, 3, T) + np.random.normal(0, 0.03, T)\n",
        "\n",
        "# Learning rate setup\n",
        "eta = np.zeros(T)\n",
        "eta[0] = D/np.sqrt(10*D**2*L**2 + 4*G**2)\n",
        "gradient_w = np.zeros((T, 2*N+1))\n",
        "dif_grads_norm = []\n",
        "\n",
        "t = symbols('t')  # Time symbol\n",
        "\n",
        "for i in range(T-1):\n",
        "    # System dynamics\n",
        "    h_sp = 10*pi**2*cos(2*psi[i]*pi*t)\n",
        "    h = lambdify(t, h_sp, 'numpy')\n",
        "    x_sp = solve_euler(h_sp, q)\n",
        "    x = lambdify(t, x_sp, 'numpy')\n",
        "\n",
        "    # Fourier coefficients\n",
        "    a0, an, bn = pop_fourier_coefs(x)\n",
        "    h_a0, h_an, h_bn = pop_fourier_coefs(h)\n",
        "    x_hat = join_arrs(a0, an, bn)\n",
        "    h_hat = join_arrs(h_a0, h_an, h_bn)\n",
        "\n",
        "    # Gradient and objective\n",
        "    gradient_w[i+1] = alpha_freq * w[i] - sqrt_alphas * h_hat\n",
        "    J_n_current = 0.5*np.sum(alpha_freq * w[i]**2) - np.sum(sqrt_alphas * h_hat * w[i])\n",
        "\n",
        "    # Update learning rate\n",
        "    grad_diff = gradient_w[i+1] - gradient_w[i]\n",
        "    dif_grads_norm.append(np.dot(grad_diff, grad_diff))\n",
        "    eta[i+1] = D/np.sqrt(10*D**2*L**2 + 4*G**2 + np.sum(dif_grads_norm))\n",
        "\n",
        "    # Weight updates\n",
        "    w_wave[i+1] = np.clip(w_wave[i] - eta[i] * gradient_w[i], -np.sqrt(alphas), np.sqrt(alphas))\n",
        "    w[i+1] = np.clip(w_wave[i+1] - eta[i+1] * gradient_w[i], -np.sqrt(alphas), np.sqrt(alphas))\n",
        "\n",
        "    # Regret calculation\n",
        "    current_diff = J_n_current - (0.5*np.sum(alpha_freq * (x_hat/sqrt_alphas)**2) - np.sum(sqrt_alphas * h_hat * (x_hat/sqrt_alphas)))\n",
        "    Dif_J_n.append(current_diff)\n",
        "    n = len(Dif_J_n)\n",
        "    Regret_J_n_sqrt.append(np.sum(Dif_J_n)/np.sqrt(n))\n",
        "    Regret_J_n.append(np.sum(Dif_J_n)/n)"
      ]
    },
    {
      "cell_type": "code",
      "execution_count": null,
      "id": "b898be6a-10bc-4290-b0f4-21b20f51aad4",
      "metadata": {
        "colab": {
          "base_uri": "https://localhost:8080/",
          "height": 37
        },
        "id": "b898be6a-10bc-4290-b0f4-21b20f51aad4",
        "outputId": "be4095ab-ffb4-45d0-8b12-003d4ed6370a"
      },
      "outputs": [
        {
          "output_type": "execute_result",
          "data": {
            "text/plain": [
              "5.13020302091592"
            ],
            "text/latex": "$\\displaystyle 5.13020302091592$"
          },
          "metadata": {},
          "execution_count": 38
        }
      ],
      "source": [
        "np.abs(J_n(w[i]) - J_n(x_hat/np.sqrt(alphas)))"
      ]
    },
    {
      "cell_type": "code",
      "execution_count": null,
      "id": "7439d4ff-5c33-456f-8295-2158aa055081",
      "metadata": {
        "colab": {
          "base_uri": "https://localhost:8080/"
        },
        "id": "7439d4ff-5c33-456f-8295-2158aa055081",
        "outputId": "329c4766-0dec-4fb3-d469-79666f2c2245"
      },
      "outputs": [
        {
          "output_type": "execute_result",
          "data": {
            "text/plain": [
              "np.float64(206.2508185887221)"
            ]
          },
          "metadata": {},
          "execution_count": 39
        }
      ],
      "source": [
        "Regret_J_n[-1]"
      ]
    },
    {
      "cell_type": "code",
      "execution_count": null,
      "id": "15acad24-d005-4734-a1b4-133580b52c1b",
      "metadata": {
        "colab": {
          "base_uri": "https://localhost:8080/",
          "height": 448
        },
        "id": "15acad24-d005-4734-a1b4-133580b52c1b",
        "outputId": "46165b7d-a8af-426f-a63f-9d4cfce91acb"
      },
      "outputs": [
        {
          "output_type": "execute_result",
          "data": {
            "text/plain": [
              "[<matplotlib.lines.Line2D at 0x7e8f74084110>]"
            ]
          },
          "metadata": {},
          "execution_count": 40
        },
        {
          "output_type": "display_data",
          "data": {
            "text/plain": [
              "<Figure size 640x480 with 1 Axes>"
            ],
            "image/png": "[encoded data removed]"
          },
          "metadata": {}
        }
      ],
      "source": [
        "plt.plot(Regret_J_n)"
      ]
    },
    {
      "cell_type": "markdown",
      "id": "2e7dbfdc-99f9-4916-ac9d-93aac9b39a57",
      "metadata": {
        "id": "2e7dbfdc-99f9-4916-ac9d-93aac9b39a57"
      },
      "source": [
        "## Strong convexity (take another $\\eta$)\n",
        "eta = [2/(10*(i+1)) for i in range(T)]"
      ]
    },
    {
      "cell_type": "markdown",
      "id": "3f81530b-b6c5-4565-882d-7e8a1b5d8954",
      "metadata": {
        "id": "3f81530b-b6c5-4565-882d-7e8a1b5d8954"
      },
      "source": [
        "## $\\psi$ = 1.5"
      ]
    },
    {
      "cell_type": "code",
      "execution_count": null,
      "id": "202bcbbb-8b74-4442-b305-9aa4470b0708",
      "metadata": {
        "id": "202bcbbb-8b74-4442-b305-9aa4470b0708"
      },
      "outputs": [],
      "source": [
        "# Set random seed for reproducibility\n",
        "np.random.seed(0)\n",
        "\n",
        "# Initialize main and auxiliary weight vectors\n",
        "w, w_wave = np.zeros((T, 2*N+1)), np.zeros((T, 2*N+1))\n",
        "w[0], w_wave[0] = np.random.random(2*N+1), np.random.random(2*N+1)\n",
        "\n",
        "# Initialize performance tracking lists\n",
        "Regret_J_n, Regret_J_n_sqrt = [], []\n",
        "Dif_J_n = []\n",
        "grads = []\n",
        "\n",
        "# Define symbolic function for dynamics\n",
        "psi = 1.5\n",
        "t = symbols('t')\n",
        "h_sp = 10*pi**2*cos(2*psi*pi*t)\n",
        "h = lambdify(t, h_sp)\n",
        "\n",
        "# Solve Euler-Lagrange equation and get solution\n",
        "x_sp = solve_euler(h_sp, q)\n",
        "x = lambdify(t, x_sp)\n",
        "\n",
        "# Compute Fourier coefficients\n",
        "a0, an, bn = pop_fourier_coefs(x)\n",
        "h_a0, h_an, h_bn = pop_fourier_coefs(h)\n",
        "\n",
        "# Combine coefficients into arrays\n",
        "x_hat = join_arrs(a0, an, bn)\n",
        "h_hat = join_arrs(h_a0, h_an, h_bn)\n",
        "\n",
        "# Define gradient components\n",
        "def grad_J(w, j):\n",
        "    return alphas[j]*(q**2 + (2*np.pi)**2*np.ceil(j/2)**2)*w[j] - sqrt(alphas[j])*h_hat[j]\n",
        "\n",
        "# Full gradient computation\n",
        "def gradient(w):\n",
        "    return np.array([grad_J(w, j) for j in range(2*N+1)])\n",
        "\n",
        "# Objective function\n",
        "def J_n(w):\n",
        "    return 0.5*(np.sum([alphas[j]*(q**2 + ((2*np.pi)**2)*np.ceil(j/2)**2)*w[j]**2 for j in range(2*N + 1)]))- np.sum([sqrt(alphas[j])*h_hat[j]*w[j] for j in range(2*N + 1)])\n",
        "\n",
        "# Learning rate schedule\n",
        "eta = [2/(80*(i+1)) for i in range(T)]\n",
        "gradient_w = np.zeros((T, 2*N+1))\n",
        "dif_grads_norm = []\n",
        "\n",
        "# Main optimization loop\n",
        "for i in range(T-1):\n",
        "    # Compute current gradient\n",
        "    gradient_w[i+1] = gradient(w[i])\n",
        "    dif_grads_norm.append(np.linalg.norm(gradient_w[i+1] - gradient_w[i], 2)**2)\n",
        "\n",
        "    # Update auxiliary and main weights with projection\n",
        "    w_wave[i+1] = np.clip(w_wave[i] - eta[i]*gradient(w[i]), -np.sqrt(alphas), np.sqrt(alphas))\n",
        "    w[i+1] = np.clip(w_wave[i+1] - eta[i+1]*gradient(w[i]), -np.sqrt(alphas), np.sqrt(alphas))\n",
        "\n",
        "    # Track performance metrics\n",
        "    Dif_J_n.append(J_n(w[i]) - J_n(x_hat/np.sqrt(alphas)))\n",
        "    Regret_J_n_sqrt.append(np.sum(Dif_J_n)/np.sqrt(len(Dif_J_n)))\n",
        "    Regret_J_n.append(np.sum(Dif_J_n)/(len(Dif_J_n)))"
      ]
    },
    {
      "cell_type": "code",
      "execution_count": null,
      "id": "9d363aeb-6973-4c92-b39b-9d5d739ea02a",
      "metadata": {
        "colab": {
          "base_uri": "https://localhost:8080/",
          "height": 37
        },
        "id": "9d363aeb-6973-4c92-b39b-9d5d739ea02a",
        "outputId": "d42740c1-075e-485b-92f3-c760c36188db"
      },
      "outputs": [
        {
          "output_type": "execute_result",
          "data": {
            "text/plain": [
              "7.57834325924023e-5"
            ],
            "text/latex": "$\\displaystyle 7.57834325924023 \\cdot 10^{-5}$"
          },
          "metadata": {},
          "execution_count": 8
        }
      ],
      "source": [
        "np.abs(J_n(w[i]) - J_n(x_hat/np.sqrt(alphas)))"
      ]
    },
    {
      "cell_type": "code",
      "execution_count": null,
      "id": "ecb0ec38-35d4-4f35-9f70-bc39cb17c057",
      "metadata": {
        "colab": {
          "base_uri": "https://localhost:8080/",
          "height": 37
        },
        "id": "ecb0ec38-35d4-4f35-9f70-bc39cb17c057",
        "outputId": "2c836aaa-04f0-47f0-fcdc-b34396704b54"
      },
      "outputs": [
        {
          "output_type": "execute_result",
          "data": {
            "text/plain": [
              "3.36740326278151"
            ],
            "text/latex": "$\\displaystyle 3.36740326278151$"
          },
          "metadata": {},
          "execution_count": 9
        }
      ],
      "source": [
        "Regret_J_n[-1]"
      ]
    },
    {
      "cell_type": "code",
      "execution_count": null,
      "id": "879ee306-5052-4377-85f0-74c4887bed96",
      "metadata": {
        "colab": {
          "base_uri": "https://localhost:8080/",
          "height": 448
        },
        "id": "879ee306-5052-4377-85f0-74c4887bed96",
        "outputId": "03fc2ce9-e6e1-41a3-9804-f1f3e88fa10e"
      },
      "outputs": [
        {
          "output_type": "execute_result",
          "data": {
            "text/plain": [
              "[<matplotlib.lines.Line2D at 0x78607eabb690>]"
            ]
          },
          "metadata": {},
          "execution_count": 10
        },
        {
          "output_type": "display_data",
          "data": {
            "text/plain": [
              "<Figure size 640x480 with 1 Axes>"
            ],
            "image/png": "[encoded data removed]"
          },
          "metadata": {}
        }
      ],
      "source": [
        "plt.plot(Regret_J_n)"
      ]
    },
    {
      "cell_type": "markdown",
      "id": "319ab610-70bc-46a2-93a9-e59748549f03",
      "metadata": {
        "id": "319ab610-70bc-46a2-93a9-e59748549f03"
      },
      "source": [
        "## $\\psi$ = np.random.normal(0, 0.03, T)"
      ]
    },
    {
      "cell_type": "code",
      "execution_count": null,
      "id": "1906a6c3-d938-4c12-8ade-e6e9d7825539",
      "metadata": {
        "id": "1906a6c3-d938-4c12-8ade-e6e9d7825539"
      },
      "outputs": [],
      "source": [
        "# Set random seed for reproducibility\n",
        "np.random.seed(0)\n",
        "\n",
        "# Initialize weight vectors for main and auxiliary parameters\n",
        "w, w_wave = np.zeros((T, 2*N+1)), np.zeros((T, 2*N+1))\n",
        "w[0], w_wave[0] = np.random.random(2*N+1), np.random.random(2*N+1)\n",
        "\n",
        "# Initialize lists to track optimization performance\n",
        "Regret_J_n, Regret_J_n_sqrt = [], []\n",
        "Dif_J_n = []\n",
        "grads = []\n",
        "\n",
        "# Generate psi values for dynamics\n",
        "psi = np.random.normal(0, 0.03, T)\n",
        "\n",
        "# Learning rate schedule (decreasing with iterations)\n",
        "eta = [2/(80*(i+1)) for i in range(T)]\n",
        "gradient_w = np.zeros((T, 2*N+1))\n",
        "dif_grads_norm = []\n",
        "\n",
        "# Main optimization loop\n",
        "for i in range(T-1):\n",
        "    # Define time-dependent dynamics symbolically\n",
        "    t = symbols('t')\n",
        "    h_sp = 10*pi**2*cos(2*psi[i]*pi*t)\n",
        "    h = lambdify(t, h_sp)\n",
        "\n",
        "    # Solve the system dynamics\n",
        "    x_sp = solve_euler(h_sp, q)\n",
        "    x = lambdify(t, x_sp)\n",
        "\n",
        "    # Compute Fourier coefficients of solution and dynamics\n",
        "    a0, an, bn = pop_fourier_coefs(x)\n",
        "    h_a0, h_an, h_bn = pop_fourier_coefs(h)\n",
        "\n",
        "    # Combine Fourier coefficients into arrays\n",
        "    x_hat = join_arrs(a0, an, bn)\n",
        "    h_hat = join_arrs(h_a0, h_an, h_bn)\n",
        "\n",
        "    # Define gradient component for j-th coordinate\n",
        "    def grad_J(w, j):\n",
        "        return alphas[j]*(q**2 + (2*np.pi)**2*np.ceil(j/2)**2)*w[j] - sqrt(alphas[j])*h_hat[j]\n",
        "\n",
        "    # Compute full gradient vector\n",
        "    def gradient(w):\n",
        "        return np.array([grad_J(w, j) for j in range(2*N+1)])\n",
        "\n",
        "    # Define objective function\n",
        "    def J_n(w):\n",
        "        return 0.5*(np.sum([alphas[j]*(q**2 + ((2*np.pi)**2)*np.ceil(j/2)**2)*w[j]**2 for j in range(2*N + 1)])) - np.sum([sqrt(alphas[j])*h_hat[j]*w[j] for j in range(2*N + 1)])\n",
        "\n",
        "    # Store current gradient and compute difference from previous\n",
        "    gradient_w[i+1] = gradient(w[i])\n",
        "    dif_grads_norm.append(np.linalg.norm(gradient_w[i+1] - gradient_w[i], 2)**2)\n",
        "\n",
        "    # Update auxiliary and main weights with projection\n",
        "    w_wave[i+1] = np.clip(w_wave[i] - eta[i]*gradient(w[i]), -np.sqrt(alphas), np.sqrt(alphas))\n",
        "    w[i+1] = np.clip(w_wave[i+1] - eta[i+1]*gradient(w[i]), -np.sqrt(alphas), np.sqrt(alphas))\n",
        "\n",
        "    # Track optimization performance metrics\n",
        "    Dif_J_n.append(J_n(w[i]) - J_n(x_hat/np.sqrt(alphas)))\n",
        "    Regret_J_n_sqrt.append(np.sum(Dif_J_n)/np.sqrt(len(Dif_J_n)))\n",
        "    Regret_J_n.append(np.sum(Dif_J_n)/(len(Dif_J_n)))"
      ]
    },
    {
      "cell_type": "code",
      "execution_count": null,
      "id": "c8f8aea4-137b-45aa-8289-6714feb97e7d",
      "metadata": {
        "colab": {
          "base_uri": "https://localhost:8080/",
          "height": 37
        },
        "id": "c8f8aea4-137b-45aa-8289-6714feb97e7d",
        "outputId": "57481d1a-00a8-49f7-d2bc-4a4a4e8cbcc2"
      },
      "outputs": [
        {
          "output_type": "execute_result",
          "data": {
            "text/plain": [
              "146.718220169088"
            ],
            "text/latex": "$\\displaystyle 146.718220169088$"
          },
          "metadata": {},
          "execution_count": 12
        }
      ],
      "source": [
        "np.abs(J_n(w[i]) - J_n(x_hat/np.sqrt(alphas)))"
      ]
    },
    {
      "cell_type": "code",
      "execution_count": null,
      "id": "c9e988cc-d8e8-4606-9fc3-46886bb95a7d",
      "metadata": {
        "colab": {
          "base_uri": "https://localhost:8080/",
          "height": 37
        },
        "id": "c9e988cc-d8e8-4606-9fc3-46886bb95a7d",
        "outputId": "095f3588-0a9e-4e37-9c66-e9f28b536c82"
      },
      "outputs": [
        {
          "output_type": "execute_result",
          "data": {
            "text/plain": [
              "168.853155023666"
            ],
            "text/latex": "$\\displaystyle 168.853155023666$"
          },
          "metadata": {},
          "execution_count": 13
        }
      ],
      "source": [
        "Regret_J_n[-1]"
      ]
    },
    {
      "cell_type": "code",
      "execution_count": null,
      "id": "69779d71-adf2-4634-9932-7ffb904b9e50",
      "metadata": {
        "colab": {
          "base_uri": "https://localhost:8080/",
          "height": 448
        },
        "id": "69779d71-adf2-4634-9932-7ffb904b9e50",
        "outputId": "6e5a23b4-8daa-4aee-fded-044f9090d195"
      },
      "outputs": [
        {
          "output_type": "execute_result",
          "data": {
            "text/plain": [
              "[<matplotlib.lines.Line2D at 0x78605df7b9d0>]"
            ]
          },
          "metadata": {},
          "execution_count": 14
        },
        {
          "output_type": "display_data",
          "data": {
            "text/plain": [
              "<Figure size 640x480 with 1 Axes>"
            ],
            "image/png": "[encoded data removed]"
          },
          "metadata": {}
        }
      ],
      "source": [
        "plt.plot(Regret_J_n)"
      ]
    },
    {
      "cell_type": "markdown",
      "id": "9b563ae5-3bf3-49a8-96f9-768e8bde07e4",
      "metadata": {
        "id": "9b563ae5-3bf3-49a8-96f9-768e8bde07e4"
      },
      "source": [
        "## $\\psi$ = np.linspace(2, 3, T)"
      ]
    },
    {
      "cell_type": "code",
      "execution_count": null,
      "id": "6fab6485-751e-422e-bd05-9f6db66ca888",
      "metadata": {
        "id": "6fab6485-751e-422e-bd05-9f6db66ca888"
      },
      "outputs": [],
      "source": [
        "# Set random seed for reproducibility\n",
        "np.random.seed(0)\n",
        "\n",
        "# Initialize weight vectors for main and auxiliary parameters\n",
        "w, w_wave = np.zeros((T, 2*N+1)), np.zeros((T, 2*N+1))\n",
        "w[0], w_wave[0] = np.random.random(2*N+1), np.random.random(2*N+1)\n",
        "\n",
        "# Initialize lists to track optimization performance\n",
        "Regret_J_n, Regret_J_n_sqrt = [], []\n",
        "Dif_J_n = []\n",
        "grads = []\n",
        "\n",
        "# Generate psi values for dynamics\n",
        "psi = np.linspace(2, 3, T)\n",
        "\n",
        "# Learning rate schedule (decreasing with iterations)\n",
        "eta = [2/(80*(i+1)) for i in range(T)]\n",
        "gradient_w = np.zeros((T, 2*N+1))\n",
        "dif_grads_norm = []\n",
        "\n",
        "# Main optimization loop\n",
        "for i in range(T-1):\n",
        "    # Define time-dependent dynamics symbolically\n",
        "    t = symbols('t')\n",
        "    h_sp = 10*pi**2*cos(2*psi[i]*pi*t)\n",
        "    h = lambdify(t, h_sp)\n",
        "\n",
        "    # Solve the system dynamics\n",
        "    x_sp = solve_euler(h_sp, q)\n",
        "    x = lambdify(t, x_sp)\n",
        "\n",
        "    # Compute Fourier coefficients of solution and dynamics\n",
        "    a0, an, bn = pop_fourier_coefs(x)\n",
        "    h_a0, h_an, h_bn = pop_fourier_coefs(h)\n",
        "\n",
        "    # Combine Fourier coefficients into arrays\n",
        "    x_hat = join_arrs(a0, an, bn)\n",
        "    h_hat = join_arrs(h_a0, h_an, h_bn)\n",
        "\n",
        "    # Define gradient component for j-th coordinate\n",
        "    def grad_J(w, j):\n",
        "        return alphas[j]*(q**2 + (2*np.pi)**2*np.ceil(j/2)**2)*w[j] - sqrt(alphas[j])*h_hat[j]\n",
        "\n",
        "    # Compute full gradient vector\n",
        "    def gradient(w):\n",
        "        return np.array([grad_J(w, j) for j in range(2*N+1)])\n",
        "\n",
        "    # Define objective function\n",
        "    def J_n(w):\n",
        "        return 0.5*(np.sum([alphas[j]*(q**2 + ((2*np.pi)**2)*np.ceil(j/2)**2)*w[j]**2 for j in range(2*N + 1)])) - np.sum([sqrt(alphas[j])*h_hat[j]*w[j] for j in range(2*N + 1)])\n",
        "\n",
        "    # Store current gradient and compute difference from previous\n",
        "    gradient_w[i+1] = gradient(w[i])\n",
        "    dif_grads_norm.append(np.linalg.norm(gradient_w[i+1] - gradient_w[i], 2)**2)\n",
        "\n",
        "    # Update auxiliary and main weights with projection\n",
        "    w_wave[i+1] = np.clip(w_wave[i] - eta[i]*gradient(w[i]), -np.sqrt(alphas), np.sqrt(alphas))\n",
        "    w[i+1] = np.clip(w_wave[i+1] - eta[i+1]*gradient(w[i]), -np.sqrt(alphas), np.sqrt(alphas))\n",
        "\n",
        "    # Track optimization performance metrics\n",
        "    Dif_J_n.append(J_n(w[i]) - J_n(x_hat/np.sqrt(alphas)))\n",
        "    Regret_J_n_sqrt.append(np.sum(Dif_J_n)/np.sqrt(len(Dif_J_n)))\n",
        "    Regret_J_n.append(np.sum(Dif_J_n)/(len(Dif_J_n)))"
      ]
    },
    {
      "cell_type": "code",
      "execution_count": null,
      "id": "51d74981-8837-4d07-ab90-7d12ca33629c",
      "metadata": {
        "colab": {
          "base_uri": "https://localhost:8080/",
          "height": 37
        },
        "id": "51d74981-8837-4d07-ab90-7d12ca33629c",
        "outputId": "e4d6ca05-6f34-42f7-f31f-b19e77107bfe"
      },
      "outputs": [
        {
          "output_type": "execute_result",
          "data": {
            "text/plain": [
              "6.13803687651789"
            ],
            "text/latex": "$\\displaystyle 6.13803687651789$"
          },
          "metadata": {},
          "execution_count": 16
        }
      ],
      "source": [
        "np.abs(J_n(w[i]) - J_n(x_hat/np.sqrt(alphas)))"
      ]
    },
    {
      "cell_type": "code",
      "execution_count": null,
      "id": "39923848-6fe1-48d7-9e6a-0544361752f8",
      "metadata": {
        "colab": {
          "base_uri": "https://localhost:8080/",
          "height": 37
        },
        "id": "39923848-6fe1-48d7-9e6a-0544361752f8",
        "outputId": "78847263-a7c7-4918-e4db-a1da0a49019f"
      },
      "outputs": [
        {
          "output_type": "execute_result",
          "data": {
            "text/plain": [
              "11.5141462882255"
            ],
            "text/latex": "$\\displaystyle 11.5141462882255$"
          },
          "metadata": {},
          "execution_count": 17
        }
      ],
      "source": [
        "Regret_J_n[-1]"
      ]
    },
    {
      "cell_type": "code",
      "execution_count": null,
      "id": "55910143-ffea-4798-9ec3-e61f13d39504",
      "metadata": {
        "colab": {
          "base_uri": "https://localhost:8080/",
          "height": 448
        },
        "id": "55910143-ffea-4798-9ec3-e61f13d39504",
        "outputId": "75724dd5-3bcc-4e00-ea41-b4af5224f087"
      },
      "outputs": [
        {
          "output_type": "execute_result",
          "data": {
            "text/plain": [
              "[<matplotlib.lines.Line2D at 0x78603e8e5a10>]"
            ]
          },
          "metadata": {},
          "execution_count": 18
        },
        {
          "output_type": "display_data",
          "data": {
            "text/plain": [
              "<Figure size 640x480 with 1 Axes>"
            ],
            "image/png": "[encoded data removed]"
          },
          "metadata": {}
        }
      ],
      "source": [
        "plt.plot(Regret_J_n)"
      ]
    },
    {
      "cell_type": "markdown",
      "id": "e94c0cbb-4482-4b77-9676-48e61036b780",
      "metadata": {
        "id": "e94c0cbb-4482-4b77-9676-48e61036b780"
      },
      "source": [
        "## $\\psi$ = [0.5]*int(T/2) + [1.5]*int(T/2)"
      ]
    },
    {
      "cell_type": "code",
      "execution_count": null,
      "id": "bfbe2f06-5615-4e95-a7ed-67c29dd42c64",
      "metadata": {
        "id": "bfbe2f06-5615-4e95-a7ed-67c29dd42c64"
      },
      "outputs": [],
      "source": [
        "# Set random seed for reproducibility\n",
        "np.random.seed(0)\n",
        "\n",
        "# Initialize weight vectors for main and auxiliary parameters\n",
        "w, w_wave = np.zeros((T, 2*N+1)), np.zeros((T, 2*N+1))\n",
        "w[0], w_wave[0] = np.random.random(2*N+1), np.random.random(2*N+1)\n",
        "\n",
        "# Initialize lists to track optimization performance\n",
        "Regret_J_n, Regret_J_n_sqrt = [], []\n",
        "Dif_J_n = []\n",
        "grads = []\n",
        "\n",
        "# Generate psi values for dynamics\n",
        "psi = [0.5]*int(T/2) + [1.5]*int(T/2)\n",
        "\n",
        "# Learning rate schedule (decreasing with iterations)\n",
        "eta = [2/(80*(i+1)) for i in range(T)]\n",
        "gradient_w = np.zeros((T, 2*N+1))\n",
        "dif_grads_norm = []\n",
        "\n",
        "# Main optimization loop\n",
        "for i in range(T-1):\n",
        "    # Define time-dependent dynamics symbolically\n",
        "    t = symbols('t')\n",
        "    h_sp = 10*pi**2*cos(2*psi[i]*pi*t)\n",
        "    h = lambdify(t, h_sp)\n",
        "\n",
        "    # Solve the system dynamics\n",
        "    x_sp = solve_euler(h_sp, q)\n",
        "    x = lambdify(t, x_sp)\n",
        "\n",
        "    # Compute Fourier coefficients of solution and dynamics\n",
        "    a0, an, bn = pop_fourier_coefs(x)\n",
        "    h_a0, h_an, h_bn = pop_fourier_coefs(h)\n",
        "\n",
        "    # Combine Fourier coefficients into arrays\n",
        "    x_hat = join_arrs(a0, an, bn)\n",
        "    h_hat = join_arrs(h_a0, h_an, h_bn)\n",
        "\n",
        "    # Define gradient component for j-th coordinate\n",
        "    def grad_J(w, j):\n",
        "        return alphas[j]*(q**2 + (2*np.pi)**2*np.ceil(j/2)**2)*w[j] - sqrt(alphas[j])*h_hat[j]\n",
        "\n",
        "    # Compute full gradient vector\n",
        "    def gradient(w):\n",
        "        return np.array([grad_J(w, j) for j in range(2*N+1)])\n",
        "\n",
        "    # Define objective function\n",
        "    def J_n(w):\n",
        "        return 0.5*(np.sum([alphas[j]*(q**2 + ((2*np.pi)**2)*np.ceil(j/2)**2)*w[j]**2 for j in range(2*N + 1)])) - np.sum([sqrt(alphas[j])*h_hat[j]*w[j] for j in range(2*N + 1)])\n",
        "\n",
        "    # Store current gradient and compute difference from previous\n",
        "    gradient_w[i+1] = gradient(w[i])\n",
        "    dif_grads_norm.append(np.linalg.norm(gradient_w[i+1] - gradient_w[i], 2)**2)\n",
        "\n",
        "    # Update auxiliary and main weights with projection\n",
        "    w_wave[i+1] = np.clip(w_wave[i] - eta[i]*gradient(w[i]), -np.sqrt(alphas), np.sqrt(alphas))\n",
        "    w[i+1] = np.clip(w_wave[i+1] - eta[i+1]*gradient(w[i]), -np.sqrt(alphas), np.sqrt(alphas))\n",
        "\n",
        "    # Track optimization performance metrics\n",
        "    Dif_J_n.append(J_n(w[i]) - J_n(x_hat/np.sqrt(alphas)))\n",
        "    Regret_J_n_sqrt.append(np.sum(Dif_J_n)/np.sqrt(len(Dif_J_n)))\n",
        "    Regret_J_n.append(np.sum(Dif_J_n)/(len(Dif_J_n)))"
      ]
    },
    {
      "cell_type": "code",
      "execution_count": null,
      "id": "3bdd5717-3d71-44ee-b45a-f4355329c19a",
      "metadata": {
        "colab": {
          "base_uri": "https://localhost:8080/",
          "height": 37
        },
        "id": "3bdd5717-3d71-44ee-b45a-f4355329c19a",
        "outputId": "90458a25-18f4-4574-b50b-04b8a472c04d"
      },
      "outputs": [
        {
          "output_type": "execute_result",
          "data": {
            "text/plain": [
              "6.86222991140434"
            ],
            "text/latex": "$\\displaystyle 6.86222991140434$"
          },
          "metadata": {},
          "execution_count": 20
        }
      ],
      "source": [
        "np.abs(J_n(w[i]) - J_n(x_hat/np.sqrt(alphas)))"
      ]
    },
    {
      "cell_type": "code",
      "execution_count": null,
      "id": "04b1381d-0c5a-4632-a45d-6fccfcd47408",
      "metadata": {
        "colab": {
          "base_uri": "https://localhost:8080/",
          "height": 37
        },
        "id": "04b1381d-0c5a-4632-a45d-6fccfcd47408",
        "outputId": "0784e66b-84e6-42bd-91bf-af4903859338"
      },
      "outputs": [
        {
          "output_type": "execute_result",
          "data": {
            "text/plain": [
              "19.6953958861830"
            ],
            "text/latex": "$\\displaystyle 19.695395886183$"
          },
          "metadata": {},
          "execution_count": 21
        }
      ],
      "source": [
        "Regret_J_n[-1]"
      ]
    },
    {
      "cell_type": "code",
      "execution_count": null,
      "id": "d7ec1e6c-ad4f-4a57-8560-c74fe2019766",
      "metadata": {
        "colab": {
          "base_uri": "https://localhost:8080/",
          "height": 448
        },
        "id": "d7ec1e6c-ad4f-4a57-8560-c74fe2019766",
        "outputId": "c37ff0e5-1c54-4c98-df8d-0df8a078ceea"
      },
      "outputs": [
        {
          "output_type": "execute_result",
          "data": {
            "text/plain": [
              "[<matplotlib.lines.Line2D at 0x7860389bac90>]"
            ]
          },
          "metadata": {},
          "execution_count": 22
        },
        {
          "output_type": "display_data",
          "data": {
            "text/plain": [
              "<Figure size 640x480 with 1 Axes>"
            ],
            "image/png": "[encoded data removed]"
          },
          "metadata": {}
        }
      ],
      "source": [
        "plt.plot(Regret_J_n)"
      ]
    },
    {
      "cell_type": "markdown",
      "id": "ac0a6e17-a103-4eb3-8e20-dbd350843ada",
      "metadata": {
        "id": "ac0a6e17-a103-4eb3-8e20-dbd350843ada"
      },
      "source": [
        "## $\\psi$ = np.linspace(2, 3, T) + np.random.normal(0, 0.03, T)"
      ]
    },
    {
      "cell_type": "code",
      "execution_count": null,
      "id": "95e2a3f3-dc85-490c-8a37-b104ee975658",
      "metadata": {
        "id": "95e2a3f3-dc85-490c-8a37-b104ee975658"
      },
      "outputs": [],
      "source": [
        "# Set random seed for reproducibility\n",
        "np.random.seed(0)\n",
        "\n",
        "# Initialize weight vectors for main and auxiliary parameters\n",
        "w, w_wave = np.zeros((T, 2*N+1)), np.zeros((T, 2*N+1))\n",
        "w[0], w_wave[0] = np.random.random(2*N+1), np.random.random(2*N+1)\n",
        "\n",
        "# Initialize lists to track optimization performance\n",
        "Regret_J_n, Regret_J_n_sqrt = [], []\n",
        "Dif_J_n = []\n",
        "grads = []\n",
        "\n",
        "# Generate psi values for dynamics\n",
        "psi = np.linspace(2, 3, T) + np.random.normal(0, 0.03, T)\n",
        "\n",
        "# Learning rate schedule (decreasing with iterations)\n",
        "eta = [2/(80*(i+1)) for i in range(T)]\n",
        "gradient_w = np.zeros((T, 2*N+1))\n",
        "dif_grads_norm = []\n",
        "\n",
        "# Main optimization loop\n",
        "for i in range(T-1):\n",
        "    # Define time-dependent dynamics symbolically\n",
        "    t = symbols('t')\n",
        "    h_sp = 10*pi**2*cos(2*psi[i]*pi*t)\n",
        "    h = lambdify(t, h_sp)\n",
        "\n",
        "    # Solve the system dynamics\n",
        "    x_sp = solve_euler(h_sp, q)\n",
        "    x = lambdify(t, x_sp)\n",
        "\n",
        "    # Compute Fourier coefficients of solution and dynamics\n",
        "    a0, an, bn = pop_fourier_coefs(x)\n",
        "    h_a0, h_an, h_bn = pop_fourier_coefs(h)\n",
        "\n",
        "    # Combine Fourier coefficients into arrays\n",
        "    x_hat = join_arrs(a0, an, bn)\n",
        "    h_hat = join_arrs(h_a0, h_an, h_bn)\n",
        "\n",
        "    # Define gradient component for j-th coordinate\n",
        "    def grad_J(w, j):\n",
        "        return alphas[j]*(q**2 + (2*np.pi)**2*np.ceil(j/2)**2)*w[j] - sqrt(alphas[j])*h_hat[j]\n",
        "\n",
        "    # Compute full gradient vector\n",
        "    def gradient(w):\n",
        "        return np.array([grad_J(w, j) for j in range(2*N+1)])\n",
        "\n",
        "    # Define objective function\n",
        "    def J_n(w):\n",
        "        return 0.5*(np.sum([alphas[j]*(q**2 + ((2*np.pi)**2)*np.ceil(j/2)**2)*w[j]**2 for j in range(2*N + 1)])) - np.sum([sqrt(alphas[j])*h_hat[j]*w[j] for j in range(2*N + 1)])\n",
        "\n",
        "    # Store current gradient and compute difference from previous\n",
        "    gradient_w[i+1] = gradient(w[i])\n",
        "    dif_grads_norm.append(np.linalg.norm(gradient_w[i+1] - gradient_w[i], 2)**2)\n",
        "\n",
        "    # Update auxiliary and main weights with projection\n",
        "    w_wave[i+1] = np.clip(w_wave[i] - eta[i]*gradient(w[i]), -np.sqrt(alphas), np.sqrt(alphas))\n",
        "    w[i+1] = np.clip(w_wave[i+1] - eta[i+1]*gradient(w[i]), -np.sqrt(alphas), np.sqrt(alphas))\n",
        "\n",
        "    # Track optimization performance metrics\n",
        "    Dif_J_n.append(J_n(w[i]) - J_n(x_hat/np.sqrt(alphas)))\n",
        "    Regret_J_n_sqrt.append(np.sum(Dif_J_n)/np.sqrt(len(Dif_J_n)))\n",
        "    Regret_J_n.append(np.sum(Dif_J_n)/(len(Dif_J_n)))"
      ]
    },
    {
      "cell_type": "code",
      "execution_count": null,
      "id": "a9811f5c-a443-4ad3-8e18-5ab5b098a921",
      "metadata": {
        "colab": {
          "base_uri": "https://localhost:8080/",
          "height": 37
        },
        "id": "a9811f5c-a443-4ad3-8e18-5ab5b098a921",
        "outputId": "6714e963-3e47-43df-a8bd-cf41a5c4a1ee"
      },
      "outputs": [
        {
          "output_type": "execute_result",
          "data": {
            "text/plain": [
              "3.38607085562185"
            ],
            "text/latex": "$\\displaystyle 3.38607085562185$"
          },
          "metadata": {},
          "execution_count": 24
        }
      ],
      "source": [
        "np.abs(J_n(w[i]) - J_n(x_hat/np.sqrt(alphas)))"
      ]
    },
    {
      "cell_type": "code",
      "execution_count": null,
      "id": "f0428469-e09c-4a3c-a97e-ee7720c45e5f",
      "metadata": {
        "id": "f0428469-e09c-4a3c-a97e-ee7720c45e5f",
        "colab": {
          "base_uri": "https://localhost:8080/",
          "height": 37
        },
        "outputId": "da40eb27-721a-4810-b405-21bfd4aa8612"
      },
      "outputs": [
        {
          "output_type": "execute_result",
          "data": {
            "text/plain": [
              "11.7753038838482"
            ],
            "text/latex": "$\\displaystyle 11.7753038838482$"
          },
          "metadata": {},
          "execution_count": 25
        }
      ],
      "source": [
        "Regret_J_n[-1]"
      ]
    },
    {
      "cell_type": "code",
      "execution_count": null,
      "id": "f3a74ba5-3f1c-4a38-be86-aac9fc55c14f",
      "metadata": {
        "id": "f3a74ba5-3f1c-4a38-be86-aac9fc55c14f",
        "colab": {
          "base_uri": "https://localhost:8080/",
          "height": 448
        },
        "outputId": "0a046abe-a064-41fe-8e7c-a72560ec69b3"
      },
      "outputs": [
        {
          "output_type": "execute_result",
          "data": {
            "text/plain": [
              "[<matplotlib.lines.Line2D at 0x78601a714110>]"
            ]
          },
          "metadata": {},
          "execution_count": 26
        },
        {
          "output_type": "display_data",
          "data": {
            "text/plain": [
              "<Figure size 640x480 with 1 Axes>"
            ],
            "image/png": "[encoded data removed]"
          },
          "metadata": {}
        }
      ],
      "source": [
        "plt.plot(Regret_J_n)"
      ]
    },
    {
      "cell_type": "code",
      "source": [],
      "metadata": {
        "id": "eVqn0gCItoYj"
      },
      "id": "eVqn0gCItoYj",
      "execution_count": null,
      "outputs": []
    }
  ],
  "metadata": {
    "colab": {
      "toc_visible": true,
      "provenance": []
    },
    "kernelspec": {
      "display_name": "Python 3 (ipykernel)",
      "language": "python",
      "name": "python3"
    },
    "language_info": {
      "codemirror_mode": {
        "name": "ipython",
        "version": 3
      },
      "file_extension": ".py",
      "mimetype": "text/x-python",
      "name": "python",
      "nbconvert_exporter": "python",
      "pygments_lexer": "ipython3",
      "version": "3.12.4"
    }
  },
  "nbformat": 4,
  "nbformat_minor": 5
}