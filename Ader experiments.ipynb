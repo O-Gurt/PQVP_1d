{
  "cells": [
    {
      "cell_type": "code",
      "execution_count": null,
      "id": "dd465313-d2b1-4a15-8e5b-d2d77d9f3f02",
      "metadata": {
        "tags": [],
        "id": "dd465313-d2b1-4a15-8e5b-d2d77d9f3f02"
      },
      "outputs": [],
      "source": [
        "from copy import copy\n",
        "from sympy import *\n",
        "import numpy as np\n",
        "import matplotlib.pyplot as plt\n",
        "from sklearn.metrics import mean_squared_error as MSE"
      ]
    },
    {
      "cell_type": "code",
      "execution_count": null,
      "id": "8fce8344-caf3-48ce-b3ec-ecb7e616c879",
      "metadata": {
        "tags": [],
        "id": "8fce8344-caf3-48ce-b3ec-ecb7e616c879"
      },
      "outputs": [],
      "source": [
        "N = 30\n",
        "q = 1\n",
        "T = 5000\n",
        "\n",
        "b = 80\n",
        "C = 1\n",
        "D = C*np.sqrt(b)\n",
        "L = C*b\n",
        "G = C*np.sqrt(b**3)\n",
        "\n",
        "alphas = [(C*b)/np.sqrt(np.sum([((4*np.pi**2)**k)*((j/2)**(2*k)) for k in range(3)])) for j in range(2*N + 1)]\n",
        "D_2m = sum(4*alphas)\n",
        "\n",
        "alpha = np.sqrt(2/(T*(G**2)*(D**2)))\n",
        "M = int(np.ceil(0.5*np.log2(1 + 4*T/7)) + 1)\n",
        "eta = (((2**np.arange(0,M))*D)/G)*np.sqrt(7)/np.sqrt(2*T)"
      ]
    },
    {
      "cell_type": "code",
      "execution_count": null,
      "id": "9be1a8dc-911c-4272-852a-6d0e42133f17",
      "metadata": {
        "tags": [],
        "id": "9be1a8dc-911c-4272-852a-6d0e42133f17"
      },
      "outputs": [],
      "source": [
        "def join_arrs(a0, arr1, arr2):\n",
        "    new_arr = np.zeros(len(arr1) + len(arr2))\n",
        "    new_arr[::2] = arr1\n",
        "    new_arr[1::2] = arr2\n",
        "    new_arr = np.concatenate(([a0], new_arr))\n",
        "    return new_arr\n",
        "\n",
        "def solve_euler(h, q):\n",
        "    t = symbols('t')\n",
        "    x = Function('x')\n",
        "    C1 = symbols('C1')\n",
        "    C2 = symbols('C2')\n",
        "    x = dsolve(- diff(x(t), t, t) + q**2*x(t) - h , x(t)).rhs\n",
        "    cond1 = x.subs(t, 0) - x.subs(t, 1)\n",
        "    cond2 = diff(x, t).subs(t, 0) - diff(x, t).subs(t, 1)\n",
        "    solution = solve([cond1, cond2], [C1, C2])\n",
        "    x = x.subs(C1, solution[C1]).subs(C2, solution[C2])\n",
        "    return x\n",
        "\n",
        "def pop_fourier_coefs(func):\n",
        "    a0 =  np.trapezoid(func(np.linspace(0, 1, 100)), np.linspace(0, 1, 100))\n",
        "    an = np.zeros(N)\n",
        "    bn = np.zeros(N)\n",
        "\n",
        "    for n in range(1, N+1):\n",
        "        an[n-1] =  np.trapezoid(func(np.linspace(0, 1, 100)) * np.sqrt(2)*np.cos(n * 2*np.pi * np.linspace(0, 1, 100)), np.linspace(0, 1, 100))\n",
        "        bn[n-1] =  np.trapezoid(func(np.linspace(0, 1, 100)) * np.sqrt(2)*np.sin(n * 2*np.pi * np.linspace(0, 1, 100)), np.linspace(0, 1, 100))\n",
        "\n",
        "    return a0, an, bn\n",
        "\n",
        "def fourier_series(t, a0, an, bn, N):\n",
        "    return a0 + np.sum([an[n] * np.sqrt(2)*np.cos((n+1) * 2*np.pi * t) + bn[n] * np.sqrt(2)*np.sin((n+1) * 2*np.pi * t) for n in range(N)])\n"
      ]
    },
    {
      "cell_type": "markdown",
      "id": "3f2d9606-16c4-42b4-b340-c9f88d476d03",
      "metadata": {
        "id": "3f2d9606-16c4-42b4-b340-c9f88d476d03"
      },
      "source": [
        "## $\\psi$ = 1.5"
      ]
    },
    {
      "cell_type": "code",
      "execution_count": null,
      "id": "259adadb-b202-4891-a1e0-5e8c5035ab39",
      "metadata": {
        "id": "259adadb-b202-4891-a1e0-5e8c5035ab39"
      },
      "outputs": [],
      "source": [
        "p = np.zeros((T, M))\n",
        "p[0] =(M+1)/M * (1/(np.arange(1, M+1))/(np.arange(2, M+2)))\n",
        "\n",
        "np.random.seed(0)\n",
        "w_experts = np.zeros((T, M, 2*N+1))\n",
        "w_experts[0] = np.random.random((M, 2*N+1))\n",
        "\n",
        "w = np.zeros((T, 2*N+1))\n",
        "w[0] = np.sum(p[0].reshape(-1, 1)*w_experts[0], axis = 0)\n",
        "\n",
        "Regret_J_n, Regret_J_n_sqrt = [], []\n",
        "Dif_J_n = []\n",
        "grads = []\n",
        "psi = 1.5\n",
        "t = symbols('t')\n",
        "\n",
        "h_sp = 10*pi**2*cos(2*psi*pi*t)\n",
        "h = lambdify(t, h_sp)\n",
        "\n",
        "x_sp = solve_euler(h_sp, q)\n",
        "x = lambdify(t, x_sp)\n",
        "\n",
        "a0, an, bn = pop_fourier_coefs(x)\n",
        "h_a0, h_an, h_bn = pop_fourier_coefs(h)\n",
        "\n",
        "x_hat = join_arrs(a0, an, bn)\n",
        "h_hat = join_arrs(h_a0, h_an, h_bn)\n",
        "\n",
        "def grad_J(w, j):\n",
        "    return alphas[j]*(q**2 + (2*np.pi)**2*np.ceil(j/2)**2)*w[j] - sqrt(alphas[j])*h_hat[j]\n",
        "\n",
        "def gradient(w):\n",
        "    return np.array([grad_J(w, j) for j in range(2*N+1)])\n",
        "\n",
        "def J_n(w):\n",
        "    return 0.5*(np.sum([alphas[j]*(q**2 + ((2*np.pi)**2)*np.ceil(j/2)**2)*w[j]**2 for j in range(2*N + 1)]))- np.sum([sqrt(alphas[j])*h_hat[j]*w[j] for j in range(2*N + 1)])\n",
        "for i in range(T-1):\n",
        "\n",
        "\n",
        "    gradient_w = gradient(w[i])\n",
        "    loss = np.zeros(M)\n",
        "    for j in range(M):\n",
        "        w_experts[i+1][j] = np.clip(w_experts[i][j] - eta[j]*gradient_w, -np.sqrt(alphas), np.sqrt(alphas))\n",
        "        loss[j] = gradient_w.dot(w_experts[i][j] - w[i])\n",
        "    p[i+1] = np.exp(-alpha*loss)/np.sum(np.exp(-alpha*loss))\n",
        "    w[i+1] = np.sum(p[i+1].reshape(-1, 1)*w_experts[i+1], axis = 0)\n",
        "    Dif_J_n.append(J_n(w[i]) - J_n(x_hat/np.sqrt(alphas)))\n",
        "    Regret_J_n_sqrt.append(np.sum(Dif_J_n)/np.sqrt(len(Dif_J_n)))\n",
        "    Regret_J_n.append(np.sum(Dif_J_n)/(len(Dif_J_n)))"
      ]
    },
    {
      "cell_type": "code",
      "execution_count": null,
      "id": "2cea5792-ae31-48c6-8876-5d7678420b01",
      "metadata": {
        "colab": {
          "base_uri": "https://localhost:8080/",
          "height": 37
        },
        "id": "2cea5792-ae31-48c6-8876-5d7678420b01",
        "outputId": "ab1a657f-bf9f-42a8-8677-75ffd483c75b"
      },
      "outputs": [
        {
          "output_type": "execute_result",
          "data": {
            "text/plain": [
              "7.57834354594422e-5"
            ],
            "text/latex": "$\\displaystyle 7.57834354594422 \\cdot 10^{-5}$"
          },
          "metadata": {},
          "execution_count": 53
        }
      ],
      "source": [
        "np.abs(J_n(w[i]) - J_n(x_hat/np.sqrt(alphas)))"
      ]
    },
    {
      "cell_type": "code",
      "execution_count": null,
      "id": "9ee1c929-03e1-409b-a203-40f867322365",
      "metadata": {
        "colab": {
          "base_uri": "https://localhost:8080/",
          "height": 37
        },
        "id": "9ee1c929-03e1-409b-a203-40f867322365",
        "outputId": "0026a815-ebd7-4708-c336-9f2659f67e2d"
      },
      "outputs": [
        {
          "output_type": "execute_result",
          "data": {
            "text/plain": [
              "0.211162763859050"
            ],
            "text/latex": "$\\displaystyle 0.21116276385905$"
          },
          "metadata": {},
          "execution_count": 54
        }
      ],
      "source": [
        "Regret_J_n[-1]"
      ]
    },
    {
      "cell_type": "code",
      "execution_count": null,
      "id": "35585c39-9015-487c-9e31-852304cb1c91",
      "metadata": {
        "colab": {
          "base_uri": "https://localhost:8080/",
          "height": 448
        },
        "id": "35585c39-9015-487c-9e31-852304cb1c91",
        "outputId": "47cf7450-eb46-4141-cbf0-76f755697a0d"
      },
      "outputs": [
        {
          "output_type": "execute_result",
          "data": {
            "text/plain": [
              "[<matplotlib.lines.Line2D at 0x7e696e389850>]"
            ]
          },
          "metadata": {},
          "execution_count": 55
        },
        {
          "output_type": "display_data",
          "data": {
            "text/plain": [
              "<Figure size 640x480 with 1 Axes>"
            ],
            "image/png": "[encoded data removed]"
          },
          "metadata": {}
        }
      ],
      "source": [
        "plt.plot(Regret_J_n)"
      ]
    },
    {
      "cell_type": "markdown",
      "id": "1a2f9814-72d7-4d84-b75d-a6a543e04613",
      "metadata": {
        "id": "1a2f9814-72d7-4d84-b75d-a6a543e04613"
      },
      "source": [
        "## $\\psi$ = N(0, 0.03)"
      ]
    },
    {
      "cell_type": "code",
      "execution_count": null,
      "id": "19dcd815-4ff0-4d13-8f1b-34e426ead0d9",
      "metadata": {
        "tags": [],
        "id": "19dcd815-4ff0-4d13-8f1b-34e426ead0d9"
      },
      "outputs": [],
      "source": [
        "# Initialize probability distribution over experts\n",
        "p = np.zeros((T, M))\n",
        "p[0] = (M+1)/M * (1/(np.arange(1, M+1))/(np.arange(2, M+2)))\n",
        "\n",
        "# Set random seed for reproducibility\n",
        "np.random.seed(0)\n",
        "\n",
        "# Initialize experts' weights and aggregate weights\n",
        "w_experts = np.zeros((T, M, 2*N+1))\n",
        "w_experts[0] = np.random.random((M, 2*N+1))\n",
        "\n",
        "w = np.zeros((T, 2*N+1))\n",
        "w[0] = np.sum(p[0].reshape(-1, 1)*w_experts[0], axis=0)  # Initial weighted combination\n",
        "\n",
        "# Initialize performance tracking lists\n",
        "Regret_J_n, Regret_J_n_sqrt = [], []\n",
        "Dif_J_n = []\n",
        "grads = []\n",
        "psi = np.random.normal(0, 0.03, T)  # Psi values for every time step\n",
        "t = symbols('t')\n",
        "\n",
        "# Main optimization loop\n",
        "for i in range(T-1):\n",
        "    # Create symbolic functions for dynamics\n",
        "    h_sp = 10*pi**2*cos(2*psi[i]*pi*t)\n",
        "    h = lambdify(t, h_sp)\n",
        "\n",
        "    # Solve Euler-Lagrange equation\n",
        "    x_sp = solve_euler(h_sp, q)\n",
        "    x = lambdify(t, x_sp)\n",
        "\n",
        "    # Compute Fourier coefficients\n",
        "    a0, an, bn = pop_fourier_coefs(x)\n",
        "    h_a0, h_an, h_bn = pop_fourier_coefs(h)\n",
        "\n",
        "    # Combine coefficients into arrays\n",
        "    x_hat = join_arrs(a0, an, bn)\n",
        "    h_hat = join_arrs(h_a0, h_an, h_bn)\n",
        "\n",
        "    # Define gradient and objective functions\n",
        "    def grad_J(w, j):\n",
        "        return alphas[j]*(q**2 + (2*np.pi)**2*np.ceil(j/2)**2)*w[j] - sqrt(alphas[j])*h_hat[j]\n",
        "\n",
        "    def gradient(w):\n",
        "        return np.array([grad_J(w, j) for j in range(2*N+1)])\n",
        "\n",
        "    def J_n(w):\n",
        "        return 0.5*(np.sum([alphas[j]*(q**2 + ((2*np.pi)**2)*np.ceil(j/2)**2)*w[j]**2 for j in range(2*N + 1)]))- np.sum([sqrt(alphas[j])*h_hat[j]*w[j] for j in range(2*N + 1)])\n",
        "\n",
        "    # Compute gradient and update experts\n",
        "    gradient_w = gradient(w[i])\n",
        "    loss = np.zeros(M)\n",
        "    for j in range(M):\n",
        "        # Update expert with gradient step and projection\n",
        "        w_experts[i+1][j] = np.clip(w_experts[i][j] - eta[j]*gradient_w, -np.sqrt(alphas), np.sqrt(alphas))\n",
        "        loss[j] = gradient_w.dot(w_experts[i][j] - w[i])\n",
        "\n",
        "    # Update expert probabilities using exponential weights\n",
        "    p[i+1] = np.exp(-alpha*loss)/np.sum(np.exp(-alpha*loss))\n",
        "\n",
        "    # Update aggregate weights\n",
        "    w[i+1] = np.sum(p[i+1].reshape(-1, 1)*w_experts[i+1], axis=0)\n",
        "\n",
        "    # Track performance metrics\n",
        "    Dif_J_n.append(J_n(w[i]) - J_n(x_hat/np.sqrt(alphas)))\n",
        "    Regret_J_n_sqrt.append(np.sum(Dif_J_n)/np.sqrt(len(Dif_J_n)))\n",
        "    Regret_J_n.append(np.sum(Dif_J_n)/(len(Dif_J_n)))"
      ]
    },
    {
      "cell_type": "code",
      "execution_count": null,
      "id": "4cd8b65e-7207-46c5-8db9-0824055bddcf",
      "metadata": {
        "colab": {
          "base_uri": "https://localhost:8080/",
          "height": 37
        },
        "id": "4cd8b65e-7207-46c5-8db9-0824055bddcf",
        "outputId": "135c0e22-6ab4-4a2c-9dc1-7dee3c14ff4d"
      },
      "outputs": [
        {
          "output_type": "execute_result",
          "data": {
            "text/plain": [
              "171.591447725903"
            ],
            "text/latex": "$\\displaystyle 171.591447725903$"
          },
          "metadata": {},
          "execution_count": 57
        }
      ],
      "source": [
        "np.abs(J_n(w[i]) - J_n(x_hat/np.sqrt(alphas)))"
      ]
    },
    {
      "cell_type": "code",
      "execution_count": null,
      "id": "9ce4b24d-0a7a-4d20-9b50-cba6a55d852b",
      "metadata": {
        "colab": {
          "base_uri": "https://localhost:8080/",
          "height": 37
        },
        "id": "9ce4b24d-0a7a-4d20-9b50-cba6a55d852b",
        "outputId": "a7b993a4-aacd-429d-9d25-aa7b454513a6"
      },
      "outputs": [
        {
          "output_type": "execute_result",
          "data": {
            "text/plain": [
              "169.589026771394"
            ],
            "text/latex": "$\\displaystyle 169.589026771394$"
          },
          "metadata": {},
          "execution_count": 58
        }
      ],
      "source": [
        "Regret_J_n[-1]"
      ]
    },
    {
      "cell_type": "code",
      "execution_count": null,
      "id": "06de44d2-294a-4e7e-a0bf-26e65c344337",
      "metadata": {
        "colab": {
          "base_uri": "https://localhost:8080/",
          "height": 448
        },
        "id": "06de44d2-294a-4e7e-a0bf-26e65c344337",
        "outputId": "a1a34e61-186a-4236-8841-51eb41365674"
      },
      "outputs": [
        {
          "output_type": "execute_result",
          "data": {
            "text/plain": [
              "[<matplotlib.lines.Line2D at 0x7e696e516410>]"
            ]
          },
          "metadata": {},
          "execution_count": 59
        },
        {
          "output_type": "display_data",
          "data": {
            "text/plain": [
              "<Figure size 640x480 with 1 Axes>"
            ],
            "image/png": "[encoded data removed]"
          },
          "metadata": {}
        }
      ],
      "source": [
        "plt.plot(Regret_J_n)"
      ]
    },
    {
      "cell_type": "markdown",
      "id": "ecb16f70-0451-451d-bbf2-c5fdff2988d1",
      "metadata": {
        "id": "ecb16f70-0451-451d-bbf2-c5fdff2988d1"
      },
      "source": [
        "## $\\psi$ = np.linspace(2, 3, T)"
      ]
    },
    {
      "cell_type": "code",
      "execution_count": null,
      "id": "030c59af-0a1c-4500-b96e-bf59a2ec532b",
      "metadata": {
        "tags": [],
        "id": "030c59af-0a1c-4500-b96e-bf59a2ec532b"
      },
      "outputs": [],
      "source": [
        "# Initialize probability distribution over experts\n",
        "p = np.zeros((T, M))\n",
        "p[0] = (M+1)/M * (1/(np.arange(1, M+1))/(np.arange(2, M+2)))\n",
        "\n",
        "# Set random seed for reproducibility\n",
        "np.random.seed(0)\n",
        "\n",
        "# Initialize experts' weights and aggregate weights\n",
        "w_experts = np.zeros((T, M, 2*N+1))\n",
        "w_experts[0] = np.random.random((M, 2*N+1))\n",
        "\n",
        "w = np.zeros((T, 2*N+1))\n",
        "w[0] = np.sum(p[0].reshape(-1, 1)*w_experts[0], axis=0)  # Initial weighted combination\n",
        "\n",
        "# Initialize performance tracking lists\n",
        "Regret_J_n, Regret_J_n_sqrt = [], []\n",
        "Dif_J_n = []\n",
        "grads = []\n",
        "psi = np.linspace(2, 3, T)  # Psi values for every time step\n",
        "t = symbols('t')\n",
        "\n",
        "# Main optimization loop\n",
        "for i in range(T-1):\n",
        "    # Create symbolic functions for dynamics\n",
        "    h_sp = 10*pi**2*cos(2*psi[i]*pi*t)\n",
        "    h = lambdify(t, h_sp)\n",
        "\n",
        "    # Solve Euler-Lagrange equation\n",
        "    x_sp = solve_euler(h_sp, q)\n",
        "    x = lambdify(t, x_sp)\n",
        "\n",
        "    # Compute Fourier coefficients\n",
        "    a0, an, bn = pop_fourier_coefs(x)\n",
        "    h_a0, h_an, h_bn = pop_fourier_coefs(h)\n",
        "\n",
        "    # Combine coefficients into arrays\n",
        "    x_hat = join_arrs(a0, an, bn)\n",
        "    h_hat = join_arrs(h_a0, h_an, h_bn)\n",
        "\n",
        "    # Define gradient and objective functions\n",
        "    def grad_J(w, j):\n",
        "        return alphas[j]*(q**2 + (2*np.pi)**2*np.ceil(j/2)**2)*w[j] - sqrt(alphas[j])*h_hat[j]\n",
        "\n",
        "    def gradient(w):\n",
        "        return np.array([grad_J(w, j) for j in range(2*N+1)])\n",
        "\n",
        "    def J_n(w):\n",
        "        return 0.5*(np.sum([alphas[j]*(q**2 + ((2*np.pi)**2)*np.ceil(j/2)**2)*w[j]**2 for j in range(2*N + 1)]))- np.sum([sqrt(alphas[j])*h_hat[j]*w[j] for j in range(2*N + 1)])\n",
        "\n",
        "    # Compute gradient and update experts\n",
        "    gradient_w = gradient(w[i])\n",
        "    loss = np.zeros(M)\n",
        "    for j in range(M):\n",
        "        # Update expert with gradient step and projection\n",
        "        w_experts[i+1][j] = np.clip(w_experts[i][j] - eta[j]*gradient_w, -np.sqrt(alphas), np.sqrt(alphas))\n",
        "        loss[j] = gradient_w.dot(w_experts[i][j] - w[i])\n",
        "\n",
        "    # Update expert probabilities using exponential weights\n",
        "    p[i+1] = np.exp(-alpha*loss)/np.sum(np.exp(-alpha*loss))\n",
        "\n",
        "    # Update aggregate weights\n",
        "    w[i+1] = np.sum(p[i+1].reshape(-1, 1)*w_experts[i+1], axis=0)\n",
        "\n",
        "    # Track performance metrics\n",
        "    Dif_J_n.append(J_n(w[i]) - J_n(x_hat/np.sqrt(alphas)))\n",
        "    Regret_J_n_sqrt.append(np.sum(Dif_J_n)/np.sqrt(len(Dif_J_n)))\n",
        "    Regret_J_n.append(np.sum(Dif_J_n)/(len(Dif_J_n)))"
      ]
    },
    {
      "cell_type": "code",
      "execution_count": null,
      "id": "ce248dd5-89e0-4198-9ec4-4a12385172c1",
      "metadata": {
        "colab": {
          "base_uri": "https://localhost:8080/",
          "height": 37
        },
        "id": "ce248dd5-89e0-4198-9ec4-4a12385172c1",
        "outputId": "f2909802-a17b-4aa6-ac5c-7e3cb67f2afc"
      },
      "outputs": [
        {
          "output_type": "execute_result",
          "data": {
            "text/plain": [
              "0.000142994375588401"
            ],
            "text/latex": "$\\displaystyle 0.000142994375588401$"
          },
          "metadata": {},
          "execution_count": 61
        }
      ],
      "source": [
        "np.abs(J_n(w[i]) - J_n(x_hat/np.sqrt(alphas)))"
      ]
    },
    {
      "cell_type": "code",
      "execution_count": null,
      "id": "b145f947-0457-4ff1-a6e2-0c8a5f06edbc",
      "metadata": {
        "colab": {
          "base_uri": "https://localhost:8080/",
          "height": 37
        },
        "id": "b145f947-0457-4ff1-a6e2-0c8a5f06edbc",
        "outputId": "b243d24b-d606-4041-f8ab-96a5e6d81003"
      },
      "outputs": [
        {
          "output_type": "execute_result",
          "data": {
            "text/plain": [
              "0.197848183273382"
            ],
            "text/latex": "$\\displaystyle 0.197848183273382$"
          },
          "metadata": {},
          "execution_count": 62
        }
      ],
      "source": [
        "Regret_J_n[-1]"
      ]
    },
    {
      "cell_type": "code",
      "execution_count": null,
      "id": "f4fe8f91-7a3e-4856-8650-9eb11eb678c3",
      "metadata": {
        "colab": {
          "base_uri": "https://localhost:8080/",
          "height": 448
        },
        "id": "f4fe8f91-7a3e-4856-8650-9eb11eb678c3",
        "outputId": "e979bc5a-5966-4a25-b5c7-9b0c220154cc"
      },
      "outputs": [
        {
          "output_type": "execute_result",
          "data": {
            "text/plain": [
              "[<matplotlib.lines.Line2D at 0x7e694e666410>]"
            ]
          },
          "metadata": {},
          "execution_count": 63
        },
        {
          "output_type": "display_data",
          "data": {
            "text/plain": [
              "<Figure size 640x480 with 1 Axes>"
            ],
            "image/png": "[encoded data removed]"
          },
          "metadata": {}
        }
      ],
      "source": [
        "plt.plot(Regret_J_n)"
      ]
    },
    {
      "cell_type": "markdown",
      "id": "98bbf530-421f-4517-a4fb-cd2257ff19fb",
      "metadata": {
        "id": "98bbf530-421f-4517-a4fb-cd2257ff19fb"
      },
      "source": [
        "## $\\psi$ = [0.5]*int(T/2) + [1.5]*int(T/2)"
      ]
    },
    {
      "cell_type": "code",
      "execution_count": null,
      "id": "dcbdf5d2-cd56-4d77-a6e4-5814ebd97f94",
      "metadata": {
        "tags": [],
        "id": "dcbdf5d2-cd56-4d77-a6e4-5814ebd97f94"
      },
      "outputs": [],
      "source": [
        "# Initialize probability distribution over experts\n",
        "p = np.zeros((T, M))\n",
        "p[0] = (M+1)/M * (1/(np.arange(1, M+1))/(np.arange(2, M+2)))\n",
        "\n",
        "# Set random seed for reproducibility\n",
        "np.random.seed(0)\n",
        "\n",
        "# Initialize experts' weights and aggregate weights\n",
        "w_experts = np.zeros((T, M, 2*N+1))\n",
        "w_experts[0] = np.random.random((M, 2*N+1))\n",
        "\n",
        "w = np.zeros((T, 2*N+1))\n",
        "w[0] = np.sum(p[0].reshape(-1, 1)*w_experts[0], axis=0)  # Initial weighted combination\n",
        "\n",
        "# Initialize performance tracking lists\n",
        "Regret_J_n, Regret_J_n_sqrt = [], []\n",
        "Dif_J_n = []\n",
        "grads = []\n",
        "psi =  [0.5]*int(T/2) + [1.5]*int(T/2)  # Psi values for every time step\n",
        "t = symbols('t')\n",
        "\n",
        "# Main optimization loop\n",
        "for i in range(T-1):\n",
        "    # Create symbolic functions for dynamics\n",
        "    h_sp = 10*pi**2*cos(2*psi[i]*pi*t)\n",
        "    h = lambdify(t, h_sp)\n",
        "\n",
        "    # Solve Euler-Lagrange equation\n",
        "    x_sp = solve_euler(h_sp, q)\n",
        "    x = lambdify(t, x_sp)\n",
        "\n",
        "    # Compute Fourier coefficients\n",
        "    a0, an, bn = pop_fourier_coefs(x)\n",
        "    h_a0, h_an, h_bn = pop_fourier_coefs(h)\n",
        "\n",
        "    # Combine coefficients into arrays\n",
        "    x_hat = join_arrs(a0, an, bn)\n",
        "    h_hat = join_arrs(h_a0, h_an, h_bn)\n",
        "\n",
        "    # Define gradient and objective functions\n",
        "    def grad_J(w, j):\n",
        "        return alphas[j]*(q**2 + (2*np.pi)**2*np.ceil(j/2)**2)*w[j] - sqrt(alphas[j])*h_hat[j]\n",
        "\n",
        "    def gradient(w):\n",
        "        return np.array([grad_J(w, j) for j in range(2*N+1)])\n",
        "\n",
        "    def J_n(w):\n",
        "        return 0.5*(np.sum([alphas[j]*(q**2 + ((2*np.pi)**2)*np.ceil(j/2)**2)*w[j]**2 for j in range(2*N + 1)]))- np.sum([sqrt(alphas[j])*h_hat[j]*w[j] for j in range(2*N + 1)])\n",
        "\n",
        "    # Compute gradient and update experts\n",
        "    gradient_w = gradient(w[i])\n",
        "    loss = np.zeros(M)\n",
        "    for j in range(M):\n",
        "        # Update expert with gradient step and projection\n",
        "        w_experts[i+1][j] = np.clip(w_experts[i][j] - eta[j]*gradient_w, -np.sqrt(alphas), np.sqrt(alphas))\n",
        "        loss[j] = gradient_w.dot(w_experts[i][j] - w[i])\n",
        "\n",
        "    # Update expert probabilities using exponential weights\n",
        "    p[i+1] = np.exp(-alpha*loss)/np.sum(np.exp(-alpha*loss))\n",
        "\n",
        "    # Update aggregate weights\n",
        "    w[i+1] = np.sum(p[i+1].reshape(-1, 1)*w_experts[i+1], axis=0)\n",
        "\n",
        "    # Track performance metrics\n",
        "    Dif_J_n.append(J_n(w[i]) - J_n(x_hat/np.sqrt(alphas)))\n",
        "    Regret_J_n_sqrt.append(np.sum(Dif_J_n)/np.sqrt(len(Dif_J_n)))\n",
        "    Regret_J_n.append(np.sum(Dif_J_n)/(len(Dif_J_n)))"
      ]
    },
    {
      "cell_type": "code",
      "execution_count": null,
      "id": "4add6180-fc11-4fef-a846-0ed2ce6b1417",
      "metadata": {
        "colab": {
          "base_uri": "https://localhost:8080/",
          "height": 37
        },
        "id": "4add6180-fc11-4fef-a846-0ed2ce6b1417",
        "outputId": "b0e60970-ca76-47f5-fb13-0f76b8f49ac0"
      },
      "outputs": [
        {
          "output_type": "execute_result",
          "data": {
            "text/plain": [
              "7.57834354594422e-5"
            ],
            "text/latex": "$\\displaystyle 7.57834354594422 \\cdot 10^{-5}$"
          },
          "metadata": {},
          "execution_count": 65
        }
      ],
      "source": [
        "np.abs(J_n(w[i]) - J_n(x_hat/np.sqrt(alphas)))"
      ]
    },
    {
      "cell_type": "code",
      "execution_count": null,
      "id": "12d2c088-3103-4d78-9a4b-8083a539b130",
      "metadata": {
        "colab": {
          "base_uri": "https://localhost:8080/",
          "height": 37
        },
        "id": "12d2c088-3103-4d78-9a4b-8083a539b130",
        "outputId": "cfa27d65-f614-4a82-a4e8-d15a037dd71a"
      },
      "outputs": [
        {
          "output_type": "execute_result",
          "data": {
            "text/plain": [
              "0.240181597975428"
            ],
            "text/latex": "$\\displaystyle 0.240181597975428$"
          },
          "metadata": {},
          "execution_count": 66
        }
      ],
      "source": [
        "Regret_J_n[-1]"
      ]
    },
    {
      "cell_type": "code",
      "execution_count": null,
      "id": "6ae0aed6-3cb2-4e04-a7f4-069a9a1261f3",
      "metadata": {
        "colab": {
          "base_uri": "https://localhost:8080/",
          "height": 448
        },
        "id": "6ae0aed6-3cb2-4e04-a7f4-069a9a1261f3",
        "outputId": "0d59138e-d699-4483-ce0d-58ab0490c424"
      },
      "outputs": [
        {
          "output_type": "execute_result",
          "data": {
            "text/plain": [
              "[<matplotlib.lines.Line2D at 0x7e6931e36810>]"
            ]
          },
          "metadata": {},
          "execution_count": 67
        },
        {
          "output_type": "display_data",
          "data": {
            "text/plain": [
              "<Figure size 640x480 with 1 Axes>"
            ],
            "image/png": "[encoded data removed]"
          },
          "metadata": {}
        }
      ],
      "source": [
        "plt.plot(Regret_J_n)"
      ]
    },
    {
      "cell_type": "markdown",
      "id": "24235f90-15dc-4989-9d2a-ab825d3a31bc",
      "metadata": {
        "id": "24235f90-15dc-4989-9d2a-ab825d3a31bc"
      },
      "source": [
        "## $\\psi$ = np.linspace(2, 3, T) + np.random.normal(0, 0.03, T)"
      ]
    },
    {
      "cell_type": "code",
      "execution_count": null,
      "id": "f418df2e-1a98-4e67-9cce-b22abea98aaa",
      "metadata": {
        "tags": [],
        "id": "f418df2e-1a98-4e67-9cce-b22abea98aaa"
      },
      "outputs": [],
      "source": [
        "# Initialize probability distribution over experts\n",
        "p = np.zeros((T, M))\n",
        "p[0] = (M+1)/M * (1/(np.arange(1, M+1))/(np.arange(2, M+2)))\n",
        "\n",
        "# Set random seed for reproducibility\n",
        "np.random.seed(0)\n",
        "\n",
        "# Initialize experts' weights and aggregate weights\n",
        "w_experts = np.zeros((T, M, 2*N+1))\n",
        "w_experts[0] = np.random.random((M, 2*N+1))\n",
        "\n",
        "w = np.zeros((T, 2*N+1))\n",
        "w[0] = np.sum(p[0].reshape(-1, 1)*w_experts[0], axis=0)  # Initial weighted combination\n",
        "\n",
        "# Initialize performance tracking lists\n",
        "Regret_J_n, Regret_J_n_sqrt = [], []\n",
        "Dif_J_n = []\n",
        "grads = []\n",
        "psi =  np.linspace(2, 3, T) + np.random.normal(0, 0.03, T)  # Psi values for every time step\n",
        "t = symbols('t')\n",
        "\n",
        "# Main optimization loop\n",
        "for i in range(T-1):\n",
        "    # Create symbolic functions for dynamics\n",
        "    h_sp = 10*pi**2*cos(2*psi[i]*pi*t)\n",
        "    h = lambdify(t, h_sp)\n",
        "\n",
        "    # Solve Euler-Lagrange equation\n",
        "    x_sp = solve_euler(h_sp, q)\n",
        "    x = lambdify(t, x_sp)\n",
        "\n",
        "    # Compute Fourier coefficients\n",
        "    a0, an, bn = pop_fourier_coefs(x)\n",
        "    h_a0, h_an, h_bn = pop_fourier_coefs(h)\n",
        "\n",
        "    # Combine coefficients into arrays\n",
        "    x_hat = join_arrs(a0, an, bn)\n",
        "    h_hat = join_arrs(h_a0, h_an, h_bn)\n",
        "\n",
        "    # Define gradient and objective functions\n",
        "    def grad_J(w, j):\n",
        "        return alphas[j]*(q**2 + (2*np.pi)**2*np.ceil(j/2)**2)*w[j] - sqrt(alphas[j])*h_hat[j]\n",
        "\n",
        "    def gradient(w):\n",
        "        return np.array([grad_J(w, j) for j in range(2*N+1)])\n",
        "\n",
        "    def J_n(w):\n",
        "        return 0.5*(np.sum([alphas[j]*(q**2 + ((2*np.pi)**2)*np.ceil(j/2)**2)*w[j]**2 for j in range(2*N + 1)]))- np.sum([sqrt(alphas[j])*h_hat[j]*w[j] for j in range(2*N + 1)])\n",
        "\n",
        "    # Compute gradient and update experts\n",
        "    gradient_w = gradient(w[i])\n",
        "    loss = np.zeros(M)\n",
        "    for j in range(M):\n",
        "        # Update expert with gradient step and projection\n",
        "        w_experts[i+1][j] = np.clip(w_experts[i][j] - eta[j]*gradient_w, -np.sqrt(alphas), np.sqrt(alphas))\n",
        "        loss[j] = gradient_w.dot(w_experts[i][j] - w[i])\n",
        "\n",
        "    # Update expert probabilities using exponential weights\n",
        "    p[i+1] = np.exp(-alpha*loss)/np.sum(np.exp(-alpha*loss))\n",
        "\n",
        "    # Update aggregate weights\n",
        "    w[i+1] = np.sum(p[i+1].reshape(-1, 1)*w_experts[i+1], axis=0)\n",
        "\n",
        "    # Track performance metrics\n",
        "    Dif_J_n.append(J_n(w[i]) - J_n(x_hat/np.sqrt(alphas)))\n",
        "    Regret_J_n_sqrt.append(np.sum(Dif_J_n)/np.sqrt(len(Dif_J_n)))\n",
        "    Regret_J_n.append(np.sum(Dif_J_n)/(len(Dif_J_n)))"
      ]
    },
    {
      "cell_type": "code",
      "execution_count": null,
      "id": "4ba032cd-9f5f-40e0-894f-6deed068227d",
      "metadata": {
        "colab": {
          "base_uri": "https://localhost:8080/",
          "height": 37
        },
        "id": "4ba032cd-9f5f-40e0-894f-6deed068227d",
        "outputId": "71c9f878-c6aa-4550-d180-86833cd1ebc7"
      },
      "outputs": [
        {
          "data": {
            "text/latex": "$\\displaystyle 0.189888093371338$",
            "text/plain": [
              "0.189888093371338"
            ]
          },
          "execution_count": 69,
          "metadata": {},
          "output_type": "execute_result"
        }
      ],
      "source": [
        "np.abs(J_n(w[i]) - J_n(x_hat/np.sqrt(alphas)))"
      ]
    },
    {
      "cell_type": "code",
      "execution_count": null,
      "id": "b043352f-dcfb-4219-89fb-f4373566643e",
      "metadata": {
        "colab": {
          "base_uri": "https://localhost:8080/",
          "height": 37
        },
        "id": "b043352f-dcfb-4219-89fb-f4373566643e",
        "outputId": "1ae922e2-dde2-45ae-f948-11f58308b5be"
      },
      "outputs": [
        {
          "data": {
            "text/latex": "$\\displaystyle 1.22870062725308$",
            "text/plain": [
              "1.22870062725308"
            ]
          },
          "execution_count": 70,
          "metadata": {},
          "output_type": "execute_result"
        }
      ],
      "source": [
        "Regret_J_n[-1]"
      ]
    },
    {
      "cell_type": "code",
      "execution_count": null,
      "id": "c52b50c7-fde5-4645-bb4d-e1c36970908a",
      "metadata": {
        "colab": {
          "base_uri": "https://localhost:8080/",
          "height": 448
        },
        "id": "c52b50c7-fde5-4645-bb4d-e1c36970908a",
        "outputId": "9ccb288d-cef8-4b89-f44a-61ff0bb81cf2"
      },
      "outputs": [
        {
          "output_type": "execute_result",
          "data": {
            "text/plain": [
              "[<matplotlib.lines.Line2D at 0x7e692c51f6d0>]"
            ]
          },
          "metadata": {},
          "execution_count": 71
        },
        {
          "output_type": "display_data",
          "data": {
            "text/plain": [
              "<Figure size 640x480 with 1 Axes>"
            ],
            "image/png": "[encoded data removed]"
          },
          "metadata": {}
        }
      ],
      "source": [
        "plt.plot(Regret_J_n)"
      ]
    },
    {
      "cell_type": "code",
      "execution_count": null,
      "id": "62b617ef-73c8-45ea-97a4-44610d1ed1e6",
      "metadata": {
        "id": "62b617ef-73c8-45ea-97a4-44610d1ed1e6"
      },
      "outputs": [],
      "source": []
    }
  ],
  "metadata": {
    "kernelspec": {
      "display_name": "Python 3 (ipykernel)",
      "language": "python",
      "name": "python3"
    },
    "language_info": {
      "codemirror_mode": {
        "name": "ipython",
        "version": 3
      },
      "file_extension": ".py",
      "mimetype": "text/x-python",
      "name": "python",
      "nbconvert_exporter": "python",
      "pygments_lexer": "ipython3",
      "version": "3.11.5"
    },
    "colab": {
      "provenance": [],
      "toc_visible": true
    }
  },
  "nbformat": 4,
  "nbformat_minor": 5
}