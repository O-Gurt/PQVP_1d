{
  "cells": [
    {
      "cell_type": "code",
      "execution_count": null,
      "id": "e9642299-d017-4791-96f4-cb324423ec57",
      "metadata": {
        "tags": [],
        "id": "e9642299-d017-4791-96f4-cb324423ec57"
      },
      "outputs": [],
      "source": [
        "from copy import copy\n",
        "from sympy import *\n",
        "import numpy as np\n",
        "import matplotlib.pyplot as plt\n",
        "from sklearn.metrics import mean_squared_error as MSE"
      ]
    },
    {
      "cell_type": "code",
      "execution_count": null,
      "id": "1e68cbf9-0801-4a9c-a010-d37da4aaec2d",
      "metadata": {
        "tags": [],
        "id": "1e68cbf9-0801-4a9c-a010-d37da4aaec2d"
      },
      "outputs": [],
      "source": [
        "N = 30\n",
        "q = 1\n",
        "T = 5000\n",
        "np.random.seed(0)\n",
        "alphas = [80/np.sqrt(np.sum([((4*np.pi**2)**k)*((j/2)**(2*k)) for k in range(3)])) for j in range(2*N + 1)]\n",
        "D_2m = np.sum(4*alphas)"
      ]
    },
    {
      "cell_type": "code",
      "execution_count": null,
      "id": "59d9ff24-db04-4243-a0dd-5116358dcd7e",
      "metadata": {
        "tags": [],
        "id": "59d9ff24-db04-4243-a0dd-5116358dcd7e"
      },
      "outputs": [],
      "source": [
        "def join_arrs(a0, arr1, arr2):\n",
        "    new_arr = np.zeros(len(arr1) + len(arr2))\n",
        "    new_arr[::2] = arr1\n",
        "    new_arr[1::2] = arr2\n",
        "    new_arr = np.concatenate(([a0], new_arr))\n",
        "    return new_arr\n",
        "\n",
        "def solve_euler(h, q):\n",
        "    t = symbols('t')\n",
        "    x = Function('x')\n",
        "    C1 = symbols('C1')\n",
        "    C2 = symbols('C2')\n",
        "    x = dsolve(- diff(x(t), t, t) + q**2*x(t) - h , x(t)).rhs\n",
        "    cond1 = x.subs(t, 0) - x.subs(t, 1)\n",
        "    cond2 = diff(x, t).subs(t, 0) - diff(x, t).subs(t, 1)\n",
        "    solution = solve([cond1, cond2], [C1, C2])\n",
        "    x = x.subs(C1, solution[C1]).subs(C2, solution[C2])\n",
        "    return x\n",
        "\n",
        "def pop_fourier_coefs(func):\n",
        "    a0 =  np.trapezoid(func(np.linspace(0, 1, 100)), np.linspace(0, 1, 100))\n",
        "    an = np.zeros(N)\n",
        "    bn = np.zeros(N)\n",
        "\n",
        "    for n in range(1, N+1):\n",
        "        an[n-1] =  np.trapezoid(func(np.linspace(0, 1, 100)) * np.sqrt(2)*np.cos(n * 2*np.pi * np.linspace(0, 1, 100)), np.linspace(0, 1, 100))\n",
        "        bn[n-1] =  np.trapezoid(func(np.linspace(0, 1, 100)) * np.sqrt(2)*np.sin(n * 2*np.pi * np.linspace(0, 1, 100)), np.linspace(0, 1, 100))\n",
        "\n",
        "    return a0, an, bn\n",
        "\n",
        "def fourier_series(t, a0, an, bn, N):\n",
        "    return a0 + np.sum([an[n] * np.sqrt(2)*np.cos((n+1) * 2*np.pi * t) + bn[n] * np.sqrt(2)*np.sin((n+1) * 2*np.pi * t) for n in range(N)])\n"
      ]
    },
    {
      "cell_type": "markdown",
      "id": "84c233f5-17de-47f5-a3f0-d76af35e0adc",
      "metadata": {
        "id": "84c233f5-17de-47f5-a3f0-d76af35e0adc"
      },
      "source": [
        "## $\\psi$ = 1.5"
      ]
    },
    {
      "cell_type": "code",
      "execution_count": null,
      "id": "dbbf93d7-47f4-49f3-ae94-7ebac5097a44",
      "metadata": {
        "tags": [],
        "id": "dbbf93d7-47f4-49f3-ae94-7ebac5097a44"
      },
      "outputs": [],
      "source": [
        "# Symbolic function setup\n",
        "x_func = Function('x')\n",
        "t = symbols('t')\n",
        "psi = 1.5  # Frequency parameter\n",
        "\n",
        "# Define forcing function and solution\n",
        "h_sp = 10 * pi**2 * cos(2 * psi * pi * t)\n",
        "h = lambdify(t, h_sp, 'numpy')  # Convert to numeric function\n",
        "x_sp = solve_euler(h_sp, q)  # Solve ODE\n",
        "x = lambdify(t, x_sp, 'numpy')  # Convert solution to numeric\n",
        "\n",
        "# Compute Fourier coefficients\n",
        "a0, an, bn = pop_fourier_coefs(x)\n",
        "h_a0, h_an, h_bn = pop_fourier_coefs(h)\n",
        "x_hat = join_arrs(a0, an, bn)  # Combined solution coefficients\n",
        "h_hat = join_arrs(h_a0, h_an, h_bn)  # Combined forcing coefficients\n",
        "\n",
        "# Gradient and objective functions\n",
        "def grad_J(w, j):\n",
        "    \"\"\"Compute gradient component j\"\"\"\n",
        "    freq_term = q**2 + (2*np.pi)**2 * np.ceil(j/2)**2\n",
        "    return alphas[j] * freq_term * w[j] - np.sqrt(alphas[j]) * h_hat[j]\n",
        "\n",
        "def J_n(w):\n",
        "    \"\"\"Compute objective value\"\"\"\n",
        "    freq_terms = q**2 + (2*np.pi)**2 * np.ceil(np.arange(2*N+1)/2)**2\n",
        "    return 0.5*np.sum(alphas * freq_terms * w**2) - np.sum(np.sqrt(alphas) * h_hat * w)\n",
        "\n",
        "# Initialize variables\n",
        "w_iter = np.zeros((T, 2*N + 1))  # Weight history\n",
        "Regret_J_n, Regret_J_n_sqrt = [], []  # Regret metrics\n",
        "Dif_J_n = []  # Objective differences\n",
        "grads = []  # Gradient norms\n",
        "x_hat_normalized = x_hat / np.sqrt(alphas)  # Normalized target\n",
        "\n",
        "# Main optimization loop\n",
        "for i in range(T-1):\n",
        "    # Compute gradient and its norm\n",
        "    vec = np.array([grad_J(w_iter[i], k) for k in range(2*N+1)])\n",
        "    norm_sq = np.dot(vec, vec)\n",
        "    grads.append(norm_sq)\n",
        "\n",
        "    # Adaptive learning rate\n",
        "    eta = np.sqrt(2)/2 * (D_2m / np.sqrt(np.sum(grads)))\n",
        "\n",
        "    # Update weights\n",
        "    for j in range(2*N + 1):\n",
        "        w_iter[i+1, j] = np.clip(w_iter[i, j] - eta * grad_J(w_iter[i], j), -np.sqrt(alphas[j]), np.sqrt(alphas[j]))\n",
        "\n",
        "    # Track performance\n",
        "    current_diff = J_n(w_iter[i+1]) - J_n(x_hat_normalized)\n",
        "    Dif_J_n.append(current_diff)\n",
        "    Regret_J_n.append(np.mean(Dif_J_n))"
      ]
    },
    {
      "cell_type": "code",
      "execution_count": null,
      "id": "124dc3fe-9184-4c34-8f19-45b85fdb4025",
      "metadata": {
        "tags": [],
        "colab": {
          "base_uri": "https://localhost:8080/"
        },
        "id": "124dc3fe-9184-4c34-8f19-45b85fdb4025",
        "outputId": "349ff292-0753-43b9-c9c5-a6e7ac48b6a2"
      },
      "outputs": [
        {
          "output_type": "execute_result",
          "data": {
            "text/plain": [
              "np.float64(7.578343544523136e-05)"
            ]
          },
          "metadata": {},
          "execution_count": 28
        }
      ],
      "source": [
        "np.abs(J_n(w_iter[i+1]) - J_n(x_hat/np.sqrt(alphas)))"
      ]
    },
    {
      "cell_type": "code",
      "execution_count": null,
      "id": "06ded4e9-5c67-49a1-a639-b9a71661b3bb",
      "metadata": {
        "tags": [],
        "colab": {
          "base_uri": "https://localhost:8080/"
        },
        "id": "06ded4e9-5c67-49a1-a639-b9a71661b3bb",
        "outputId": "a2d7fd4f-cefe-450b-8cbe-eabbdd11160d"
      },
      "outputs": [
        {
          "output_type": "execute_result",
          "data": {
            "text/plain": [
              "np.float64(595.81547551112)"
            ]
          },
          "metadata": {},
          "execution_count": 29
        }
      ],
      "source": [
        "Regret_J_n[-1]"
      ]
    },
    {
      "cell_type": "code",
      "source": [
        "plt.plot(Regret_J_n)"
      ],
      "metadata": {
        "colab": {
          "base_uri": "https://localhost:8080/",
          "height": 448
        },
        "id": "55bAF2tovfyD",
        "outputId": "32e85a85-a1d3-4a22-c4b1-9c88ac9c30b6"
      },
      "id": "55bAF2tovfyD",
      "execution_count": null,
      "outputs": [
        {
          "output_type": "execute_result",
          "data": {
            "text/plain": [
              "[<matplotlib.lines.Line2D at 0x7aaf563a1850>]"
            ]
          },
          "metadata": {},
          "execution_count": 30
        },
        {
          "output_type": "display_data",
          "data": {
            "text/plain": [
              "<Figure size 640x480 with 1 Axes>"
            ],
            "image/png": "[encoded data removed]"
          },
          "metadata": {}
        }
      ]
    },
    {
      "cell_type": "markdown",
      "id": "2b0284f6-04db-476f-a324-f991eae919a0",
      "metadata": {
        "id": "2b0284f6-04db-476f-a324-f991eae919a0"
      },
      "source": [
        "## $\\psi$ = N(0, 0.03)"
      ]
    },
    {
      "cell_type": "code",
      "execution_count": null,
      "id": "d0757f26-a9e5-4965-aa7a-d9ce6e4102bf",
      "metadata": {
        "tags": [],
        "id": "d0757f26-a9e5-4965-aa7a-d9ce6e4102bf"
      },
      "outputs": [],
      "source": [
        "# Symbolic setup and initialization\n",
        "x_func = Function('x')  # Symbolic function\n",
        "t = symbols('t')        # Symbolic time variable\n",
        "q = 1                   # System parameter\n",
        "w_iter = np.zeros((T, 2*N + 1))  # Weight matrix\n",
        "psi = np.random.normal(0, 0.03, T)  # psi values for each timestamp\n",
        "\n",
        "# Tracking variables\n",
        "Regret_J_n, Regret_J_n_sqrt = [], []  # Regret metrics\n",
        "Dif_J_n = []  # Objective differences\n",
        "grads = []    # Gradient norms\n",
        "\n",
        "# Precompute frequency terms\n",
        "freq_terms = q**2 + (2*np.pi)**2 * np.ceil(np.arange(2*N+1)/2)**2\n",
        "sqrt_alphas = np.sqrt(alphas)\n",
        "alpha_freq = alphas * freq_terms  # Combined coefficients\n",
        "\n",
        "for i in range(T-1):\n",
        "    # System dynamics for current psi\n",
        "    h_sp = 10*pi**2*cos(2*psi[i]*pi*t)\n",
        "    h = lambdify(t, h_sp, 'numpy')\n",
        "    x_sp = solve_euler(h_sp, q)\n",
        "    x_func = lambdify(t, x_sp, 'numpy')\n",
        "\n",
        "    # Fourier analysis\n",
        "    a0, an, bn = pop_fourier_coefs(x_func)\n",
        "    h_a0, h_an, h_bn = pop_fourier_coefs(h)\n",
        "    x_hat = join_arrs(a0, an, bn)  # Solution coefficients\n",
        "    h_hat = join_arrs(h_a0, h_an, h_bn)  # Forcing coefficients\n",
        "\n",
        "    # Gradient and objective computations\n",
        "    grad_J_vec = alpha_freq * w_iter[i] - sqrt_alphas * h_hat\n",
        "    J_n_current = 0.5*np.sum(alpha_freq * w_iter[i]**2) - np.sum(sqrt_alphas * h_hat * w_iter[i])\n",
        "\n",
        "    # Adaptive learning rate\n",
        "    norm_sq = np.dot(grad_J_vec, grad_J_vec)\n",
        "    grads.append(norm_sq)\n",
        "    eta = np.sqrt(2)/2 * (D_2m/np.sqrt(np.sum(grads)))\n",
        "\n",
        "    # Weight update\n",
        "    w_iter[i+1] = np.clip(w_iter[i] - eta * grad_J_vec, -np.sqrt(alphas), np.sqrt(alphas))\n",
        "\n",
        "    # Regret computation\n",
        "    x_opt = x_hat/sqrt_alphas\n",
        "    J_n_opt = 0.5*np.sum(alpha_freq * x_opt**2) - np.sum(sqrt_alphas * h_hat * x_opt)\n",
        "    current_diff = J_n_current - J_n_opt\n",
        "    Dif_J_n.append(current_diff)\n",
        "\n",
        "    # Update regret metrics\n",
        "    n = len(Dif_J_n)\n",
        "    Regret_J_n_sqrt.append(np.sum(Dif_J_n)/np.sqrt(n))\n",
        "    Regret_J_n.append(np.sum(Dif_J_n)/n)"
      ]
    },
    {
      "cell_type": "code",
      "execution_count": null,
      "id": "b1712202-241c-4425-bd7d-7ded8633d2ef",
      "metadata": {
        "tags": [],
        "colab": {
          "base_uri": "https://localhost:8080/"
        },
        "id": "b1712202-241c-4425-bd7d-7ded8633d2ef",
        "outputId": "610ffab5-1b79-4df7-c44a-bd64c5a4b28b"
      },
      "outputs": [
        {
          "output_type": "execute_result",
          "data": {
            "text/plain": [
              "np.float64(174.78943524637089)"
            ]
          },
          "metadata": {},
          "execution_count": 32
        }
      ],
      "source": [
        "np.abs(J_n(w_iter[i+1]) - J_n(x_hat/np.sqrt(alphas)))"
      ]
    },
    {
      "cell_type": "code",
      "execution_count": null,
      "id": "4ef52629-add0-403b-8648-693609b1c016",
      "metadata": {
        "tags": [],
        "colab": {
          "base_uri": "https://localhost:8080/"
        },
        "id": "4ef52629-add0-403b-8648-693609b1c016",
        "outputId": "890e5c8f-23db-45a9-f58d-46e2efdca8c4"
      },
      "outputs": [
        {
          "output_type": "execute_result",
          "data": {
            "text/plain": [
              "np.float64(701.1464357563752)"
            ]
          },
          "metadata": {},
          "execution_count": 33
        }
      ],
      "source": [
        "Regret_J_n[-1]"
      ]
    },
    {
      "cell_type": "code",
      "source": [
        "plt.plot(Regret_J_n)"
      ],
      "metadata": {
        "colab": {
          "base_uri": "https://localhost:8080/",
          "height": 448
        },
        "id": "TYTMfo-yv9rT",
        "outputId": "e2ec3959-ec2b-4070-e017-34bc3669d086"
      },
      "id": "TYTMfo-yv9rT",
      "execution_count": null,
      "outputs": [
        {
          "output_type": "execute_result",
          "data": {
            "text/plain": [
              "[<matplotlib.lines.Line2D at 0x7aaf34ecf2d0>]"
            ]
          },
          "metadata": {},
          "execution_count": 34
        },
        {
          "output_type": "display_data",
          "data": {
            "text/plain": [
              "<Figure size 640x480 with 1 Axes>"
            ],
            "image/png": "[encoded data removed]"
          },
          "metadata": {}
        }
      ]
    },
    {
      "cell_type": "markdown",
      "id": "58dc8c38-7161-4cb7-9db6-9673ee43eaa5",
      "metadata": {
        "id": "58dc8c38-7161-4cb7-9db6-9673ee43eaa5"
      },
      "source": [
        "## $\\psi$ = np.linspace(2, 3, T)"
      ]
    },
    {
      "cell_type": "code",
      "execution_count": null,
      "id": "2a38eb24-f0aa-419c-b6d6-9cfd1d8400d1",
      "metadata": {
        "tags": [],
        "id": "2a38eb24-f0aa-419c-b6d6-9cfd1d8400d1"
      },
      "outputs": [],
      "source": [
        "# Symbolic setup and initialization\n",
        "x_func = Function('x')  # Symbolic function\n",
        "t = symbols('t')        # Symbolic time variable\n",
        "q = 1                   # System parameter\n",
        "w_iter = np.zeros((T, 2*N + 1))  # Weight matrix\n",
        "psi = np.linspace(2, 3, T)  # psi values for each timestep\n",
        "\n",
        "# Tracking variables\n",
        "Regret_J_n, Regret_J_n_sqrt = [], []  # Regret metrics\n",
        "Dif_J_n = []  # Objective differences\n",
        "grads = []    # Gradient norms\n",
        "\n",
        "# Precompute frequency terms\n",
        "freq_terms = q**2 + (2*np.pi)**2 * np.ceil(np.arange(2*N+1)/2)**2\n",
        "sqrt_alphas = np.sqrt(alphas)\n",
        "alpha_freq = alphas * freq_terms  # Combined coefficients\n",
        "\n",
        "for i in range(T-1):\n",
        "    # System dynamics for current psi\n",
        "    h_sp = 10*pi**2*cos(2*psi[i]*pi*t)\n",
        "    h = lambdify(t, h_sp, 'numpy')\n",
        "    x_sp = solve_euler(h_sp, q)\n",
        "    x_func = lambdify(t, x_sp, 'numpy')\n",
        "\n",
        "    # Fourier analysis\n",
        "    a0, an, bn = pop_fourier_coefs(x_func)\n",
        "    h_a0, h_an, h_bn = pop_fourier_coefs(h)\n",
        "    x_hat = join_arrs(a0, an, bn)  # Solution coefficients\n",
        "    h_hat = join_arrs(h_a0, h_an, h_bn)  # Forcing coefficients\n",
        "\n",
        "    # Gradient and objective computations\n",
        "    grad_J_vec = alpha_freq * w_iter[i] - sqrt_alphas * h_hat\n",
        "    J_n_current = 0.5*np.sum(alpha_freq * w_iter[i]**2) - np.sum(sqrt_alphas * h_hat * w_iter[i])\n",
        "\n",
        "    # Adaptive learning rate\n",
        "    norm_sq = np.dot(grad_J_vec, grad_J_vec)\n",
        "    grads.append(norm_sq)\n",
        "    eta = np.sqrt(2)/2 * (D_2m/np.sqrt(np.sum(grads)))\n",
        "\n",
        "    # Weight update\n",
        "    w_iter[i+1] = np.clip(w_iter[i] - eta * grad_J_vec, -np.sqrt(alphas), np.sqrt(alphas))\n",
        "\n",
        "    # Regret computation\n",
        "    x_opt = x_hat/sqrt_alphas\n",
        "    J_n_opt = 0.5*np.sum(alpha_freq * x_opt**2) - np.sum(sqrt_alphas * h_hat * x_opt)\n",
        "    current_diff = J_n_current - J_n_opt\n",
        "    Dif_J_n.append(current_diff)\n",
        "\n",
        "    # Update regret metrics\n",
        "    n = len(Dif_J_n)\n",
        "    Regret_J_n_sqrt.append(np.sum(Dif_J_n)/np.sqrt(n))\n",
        "    Regret_J_n.append(np.sum(Dif_J_n)/n)"
      ]
    },
    {
      "cell_type": "code",
      "execution_count": null,
      "id": "90f89421-79f7-4645-b1be-3fa938198020",
      "metadata": {
        "tags": [],
        "colab": {
          "base_uri": "https://localhost:8080/"
        },
        "id": "90f89421-79f7-4645-b1be-3fa938198020",
        "outputId": "63eb32e7-9924-41de-de7c-e09caf4c939f"
      },
      "outputs": [
        {
          "output_type": "execute_result",
          "data": {
            "text/plain": [
              "np.float64(2.2943339993197753e-05)"
            ]
          },
          "metadata": {},
          "execution_count": 36
        }
      ],
      "source": [
        "np.abs(J_n(w_iter[i+1]) - J_n(x_hat/np.sqrt(alphas)))"
      ]
    },
    {
      "cell_type": "code",
      "execution_count": null,
      "id": "d1998f87-9333-4bb1-aeea-8585364f8fb6",
      "metadata": {
        "tags": [],
        "colab": {
          "base_uri": "https://localhost:8080/"
        },
        "id": "d1998f87-9333-4bb1-aeea-8585364f8fb6",
        "outputId": "5cc70b59-5a94-467d-ee19-0b43c4e944ad"
      },
      "outputs": [
        {
          "output_type": "execute_result",
          "data": {
            "text/plain": [
              "np.float64(595.3935393609452)"
            ]
          },
          "metadata": {},
          "execution_count": 37
        }
      ],
      "source": [
        "Regret_J_n[-1]"
      ]
    },
    {
      "cell_type": "markdown",
      "id": "e22394fe-11b2-44e2-a1d5-f6dd44f0b9a0",
      "metadata": {
        "id": "e22394fe-11b2-44e2-a1d5-f6dd44f0b9a0"
      },
      "source": [
        "## $\\psi$ = [0.5]*int(T/2) + [1.5]*int(T/2)"
      ]
    },
    {
      "cell_type": "code",
      "execution_count": null,
      "id": "0bacbdce-4292-4958-b921-ae82424a760e",
      "metadata": {
        "tags": [],
        "id": "0bacbdce-4292-4958-b921-ae82424a760e"
      },
      "outputs": [],
      "source": [
        "# Symbolic setup and initialization\n",
        "x_func = Function('x')  # Symbolic function\n",
        "t = symbols('t')        # Symbolic time variable\n",
        "q = 1                   # System parameter\n",
        "w_iter = np.zeros((T, 2*N + 1))  # Weight matrix\n",
        "psi = [0.5]*int(T/2) + [1.5]*int(T/2)  # psi values for each timestep\n",
        "\n",
        "# Tracking variables\n",
        "Regret_J_n, Regret_J_n_sqrt = [], []  # Regret metrics\n",
        "Dif_J_n = []  # Objective differences\n",
        "grads = []    # Gradient norms\n",
        "\n",
        "# Precompute frequency terms\n",
        "freq_terms = q**2 + (2*np.pi)**2 * np.ceil(np.arange(2*N+1)/2)**2\n",
        "sqrt_alphas = np.sqrt(alphas)\n",
        "alpha_freq = alphas * freq_terms  # Combined coefficients\n",
        "\n",
        "for i in range(T-1):\n",
        "    # System dynamics for current psi\n",
        "    h_sp = 10*pi**2*cos(2*psi[i]*pi*t)\n",
        "    h = lambdify(t, h_sp, 'numpy')\n",
        "    x_sp = solve_euler(h_sp, q)\n",
        "    x_func = lambdify(t, x_sp, 'numpy')\n",
        "\n",
        "    # Fourier analysis\n",
        "    a0, an, bn = pop_fourier_coefs(x_func)\n",
        "    h_a0, h_an, h_bn = pop_fourier_coefs(h)\n",
        "    x_hat = join_arrs(a0, an, bn)  # Solution coefficients\n",
        "    h_hat = join_arrs(h_a0, h_an, h_bn)  # Forcing coefficients\n",
        "\n",
        "    # Gradient and objective computations\n",
        "    grad_J_vec = alpha_freq * w_iter[i] - sqrt_alphas * h_hat\n",
        "    J_n_current = 0.5*np.sum(alpha_freq * w_iter[i]**2) - np.sum(sqrt_alphas * h_hat * w_iter[i])\n",
        "\n",
        "    # Adaptive learning rate\n",
        "    norm_sq = np.dot(grad_J_vec, grad_J_vec)\n",
        "    grads.append(norm_sq)\n",
        "    eta = np.sqrt(2)/2 * (D_2m/np.sqrt(np.sum(grads)))\n",
        "\n",
        "    # Weight update\n",
        "    w_iter[i+1] = np.clip(w_iter[i] - eta * grad_J_vec, -np.sqrt(alphas), np.sqrt(alphas))\n",
        "\n",
        "    # Regret computation\n",
        "    x_opt = x_hat/sqrt_alphas\n",
        "    J_n_opt = 0.5*np.sum(alpha_freq * x_opt**2) - np.sum(sqrt_alphas * h_hat * x_opt)\n",
        "    current_diff = J_n_current - J_n_opt\n",
        "    Dif_J_n.append(current_diff)\n",
        "\n",
        "    # Update regret metrics\n",
        "    n = len(Dif_J_n)\n",
        "    Regret_J_n_sqrt.append(np.sum(Dif_J_n)/np.sqrt(n))\n",
        "    Regret_J_n.append(np.sum(Dif_J_n)/n)"
      ]
    },
    {
      "cell_type": "code",
      "execution_count": null,
      "id": "bd343669-e458-4e2c-911e-b59b73c27a08",
      "metadata": {
        "tags": [],
        "colab": {
          "base_uri": "https://localhost:8080/"
        },
        "id": "bd343669-e458-4e2c-911e-b59b73c27a08",
        "outputId": "d10cd93a-abf6-46ff-9109-aca8b58dc574"
      },
      "outputs": [
        {
          "output_type": "execute_result",
          "data": {
            "text/plain": [
              "np.float64(7.578343545233679e-05)"
            ]
          },
          "metadata": {},
          "execution_count": 39
        }
      ],
      "source": [
        "np.abs(J_n(w_iter[i+1]) - J_n(x_hat/np.sqrt(alphas)))"
      ]
    },
    {
      "cell_type": "code",
      "execution_count": null,
      "id": "95ccd426-d43e-4b21-9405-0986a40cfcb2",
      "metadata": {
        "tags": [],
        "colab": {
          "base_uri": "https://localhost:8080/"
        },
        "id": "95ccd426-d43e-4b21-9405-0986a40cfcb2",
        "outputId": "4981a069-4cf3-40dd-e621-3c6b6c4a6c2f"
      },
      "outputs": [
        {
          "output_type": "execute_result",
          "data": {
            "text/plain": [
              "np.float64(595.3791061312212)"
            ]
          },
          "metadata": {},
          "execution_count": 40
        }
      ],
      "source": [
        "Regret_J_n[-1]"
      ]
    },
    {
      "cell_type": "markdown",
      "id": "567172d6-26c1-49b9-a617-8cd442489957",
      "metadata": {
        "id": "567172d6-26c1-49b9-a617-8cd442489957"
      },
      "source": [
        "## $\\psi$ = np.linspace(2, 3, T) + np.random.normal(0, 0.03, T)"
      ]
    },
    {
      "cell_type": "code",
      "execution_count": null,
      "id": "37287648-e437-48af-a88e-334ec9ab53ac",
      "metadata": {
        "tags": [],
        "id": "37287648-e437-48af-a88e-334ec9ab53ac"
      },
      "outputs": [],
      "source": [
        "# Symbolic setup and initialization\n",
        "x_func = Function('x')  # Symbolic function\n",
        "t = symbols('t')        # Symbolic time variable\n",
        "q = 1                   # System parameter\n",
        "w_iter = np.zeros((T, 2*N + 1))  # Weight matrix\n",
        "psi = np.linspace(2, 3, T) + np.random.normal(0, 0.03, T)  # psi values for each timestep\n",
        "\n",
        "# Tracking variables\n",
        "Regret_J_n, Regret_J_n_sqrt = [], []  # Regret metrics\n",
        "Dif_J_n = []  # Objective differences\n",
        "grads = []    # Gradient norms\n",
        "\n",
        "# Precompute frequency terms\n",
        "freq_terms = q**2 + (2*np.pi)**2 * np.ceil(np.arange(2*N+1)/2)**2\n",
        "sqrt_alphas = np.sqrt(alphas)\n",
        "alpha_freq = alphas * freq_terms  # Combined coefficients\n",
        "\n",
        "for i in range(T-1):\n",
        "    # System dynamics for current psi\n",
        "    h_sp = 10*pi**2*cos(2*psi[i]*pi*t)\n",
        "    h = lambdify(t, h_sp, 'numpy')\n",
        "    x_sp = solve_euler(h_sp, q)\n",
        "    x_func = lambdify(t, x_sp, 'numpy')\n",
        "\n",
        "    # Fourier analysis\n",
        "    a0, an, bn = pop_fourier_coefs(x_func)\n",
        "    h_a0, h_an, h_bn = pop_fourier_coefs(h)\n",
        "    x_hat = join_arrs(a0, an, bn)  # Solution coefficients\n",
        "    h_hat = join_arrs(h_a0, h_an, h_bn)  # Forcing coefficients\n",
        "\n",
        "    # Gradient and objective computations\n",
        "    grad_J_vec = alpha_freq * w_iter[i] - sqrt_alphas * h_hat\n",
        "    J_n_current = 0.5*np.sum(alpha_freq * w_iter[i]**2) - np.sum(sqrt_alphas * h_hat * w_iter[i])\n",
        "\n",
        "    # Adaptive learning rate\n",
        "    norm_sq = np.dot(grad_J_vec, grad_J_vec)\n",
        "    grads.append(norm_sq)\n",
        "    eta = np.sqrt(2)/2 * (D_2m/np.sqrt(np.sum(grads)))\n",
        "\n",
        "    # Weight update\n",
        "    w_iter[i+1] = np.clip(w_iter[i] - eta * grad_J_vec, -np.sqrt(alphas), np.sqrt(alphas))\n",
        "\n",
        "    # Regret computation\n",
        "    x_opt = x_hat/sqrt_alphas\n",
        "    J_n_opt = 0.5*np.sum(alpha_freq * x_opt**2) - np.sum(sqrt_alphas * h_hat * x_opt)\n",
        "    current_diff = J_n_current - J_n_opt\n",
        "    Dif_J_n.append(current_diff)\n",
        "\n",
        "    # Update regret metrics\n",
        "    n = len(Dif_J_n)\n",
        "    Regret_J_n_sqrt.append(np.sum(Dif_J_n)/np.sqrt(n))\n",
        "    Regret_J_n.append(np.sum(Dif_J_n)/n)"
      ]
    },
    {
      "cell_type": "code",
      "execution_count": null,
      "id": "22d746bf-750b-4151-82c8-f1c0aede4132",
      "metadata": {
        "tags": [],
        "colab": {
          "base_uri": "https://localhost:8080/"
        },
        "id": "22d746bf-750b-4151-82c8-f1c0aede4132",
        "outputId": "3a6264fe-83e3-4f55-a4e6-45caf157d4b3"
      },
      "outputs": [
        {
          "output_type": "execute_result",
          "data": {
            "text/plain": [
              "np.float64(0.5024636873110468)"
            ]
          },
          "metadata": {},
          "execution_count": 42
        }
      ],
      "source": [
        "np.abs(J_n(w_iter[i+1]) - J_n(x_hat/np.sqrt(alphas)))"
      ]
    },
    {
      "cell_type": "code",
      "execution_count": null,
      "id": "b97c0b2d-95f8-40ef-9bc5-0513039c7287",
      "metadata": {
        "tags": [],
        "colab": {
          "base_uri": "https://localhost:8080/"
        },
        "id": "b97c0b2d-95f8-40ef-9bc5-0513039c7287",
        "outputId": "f51bd747-2ebd-4102-b984-df5d60af038f"
      },
      "outputs": [
        {
          "output_type": "execute_result",
          "data": {
            "text/plain": [
              "np.float64(598.34776188575)"
            ]
          },
          "metadata": {},
          "execution_count": 43
        }
      ],
      "source": [
        "Regret_J_n[-1]"
      ]
    },
    {
      "cell_type": "markdown",
      "id": "734873e2-90e3-4663-9cf6-17496c1d852d",
      "metadata": {
        "tags": [],
        "id": "734873e2-90e3-4663-9cf6-17496c1d852d"
      },
      "source": [
        "## Strong convexity (take another $\\eta$)"
      ]
    },
    {
      "cell_type": "markdown",
      "id": "d72d5242-cb4e-4dfc-b3d8-bd9aa9359d78",
      "metadata": {
        "id": "d72d5242-cb4e-4dfc-b3d8-bd9aa9359d78"
      },
      "source": [
        "## $\\psi$ = 1.5"
      ]
    },
    {
      "cell_type": "code",
      "execution_count": null,
      "id": "a5d6a4bb-1a8e-4930-9638-116b8e772458",
      "metadata": {
        "tags": [],
        "id": "a5d6a4bb-1a8e-4930-9638-116b8e772458"
      },
      "outputs": [],
      "source": [
        "# Symbolic math setup\n",
        "x_func = Function('x')  # Define symbolic function\n",
        "t = symbols('t')        # Symbolic time variable\n",
        "psi = 1.5               # Frequency parameter\n",
        "\n",
        "# Define forcing function and convert to numeric\n",
        "h_sp = 10 * pi**2 * cos(2 * psi * pi * t)\n",
        "h = lambdify(t, h_sp, 'numpy')\n",
        "\n",
        "# Solve system and get numeric solution\n",
        "x_sp = solve_euler(h_sp, q)\n",
        "x = lambdify(t, x_sp, 'numpy')\n",
        "\n",
        "# Compute Fourier coefficients\n",
        "a0, an, bn = pop_fourier_coefs(x)       # For solution\n",
        "h_a0, h_an, h_bn = pop_fourier_coefs(h) # For forcing function\n",
        "x_hat = join_arrs(a0, an, bn)           # Combined solution coeffs\n",
        "h_hat = join_arrs(h_a0, h_an, h_bn)     # Combined forcing coeffs\n",
        "\n",
        "# Gradient and objective functions\n",
        "def grad_J(w, j):\n",
        "    \"\"\"Compute gradient for j-th component\"\"\"\n",
        "    freq = q**2 + (2*np.pi)**2 * (j//2 + 1)**2  # Precompute frequency term\n",
        "    return alphas[j] * freq * w[j] - np.sqrt(alphas[j]) * h_hat[j]\n",
        "\n",
        "def J_n(w):\n",
        "    \"\"\"Compute objective function value\"\"\"\n",
        "    freqs = q**2 + (2*np.pi)**2 * np.ceil(np.arange(2*N+1)/2)**2\n",
        "    return 0.5*np.sum(alphas * freqs * w**2) - np.sum(np.sqrt(alphas) * h_hat * w)\n",
        "\n",
        "# Initialize variables\n",
        "w_iter = np.zeros((T, 2*N + 1))        # Weight matrix\n",
        "x_hat_normalized = x_hat/np.sqrt(alphas)  # Normalized target\n",
        "Regret_J_n = []                         # Average regret\n",
        "Dif_J_n = []                            # Objective differences\n",
        "grads = []                              # Gradient norms\n",
        "\n",
        "# Main optimization loop\n",
        "for i in range(T-1):\n",
        "    # Compute gradient and its norm\n",
        "    grad = np.array([grad_J(w_iter[i], j) for j in range(2*N+1)])\n",
        "    grads.append(np.dot(grad, grad))\n",
        "\n",
        "    # Update learning rate (decaying)\n",
        "    eta = 2/(80*(i+1))\n",
        "\n",
        "    # Update weights\n",
        "    for j in range(2*N + 1):\n",
        "        w_iter[i+1,j] = np.clip(w_iter[i,j] - eta * grad_J(w_iter[i], j),-np.sqrt(alphas[j]), np.sqrt(alphas[j]))\n",
        "\n",
        "    # Track performance\n",
        "    current_diff = J_n(w_iter[i+1]) - J_n(x_hat_normalized)\n",
        "    Dif_J_n.append(current_diff)\n",
        "    Regret_J_n.append(np.mean(Dif_J_n))"
      ]
    },
    {
      "cell_type": "code",
      "execution_count": null,
      "id": "6b51897c-9af2-447e-bafe-c1410f632e1b",
      "metadata": {
        "tags": [],
        "colab": {
          "base_uri": "https://localhost:8080/"
        },
        "id": "6b51897c-9af2-447e-bafe-c1410f632e1b",
        "outputId": "b2713520-cfad-476b-8617-09c572adeded"
      },
      "outputs": [
        {
          "output_type": "execute_result",
          "data": {
            "text/plain": [
              "np.float64(11.289439478445752)"
            ]
          },
          "metadata": {},
          "execution_count": 17
        }
      ],
      "source": [
        "np.abs(J_n(w_iter[i+1]) - J_n(x_hat/np.sqrt(alphas)))"
      ]
    },
    {
      "cell_type": "code",
      "execution_count": null,
      "id": "d3dd57f7-620d-4a10-ac56-0cb125cc73db",
      "metadata": {
        "tags": [],
        "colab": {
          "base_uri": "https://localhost:8080/"
        },
        "id": "d3dd57f7-620d-4a10-ac56-0cb125cc73db",
        "outputId": "c8c029d9-b6b1-4b0e-d4a2-2b4f237e41c8"
      },
      "outputs": [
        {
          "output_type": "execute_result",
          "data": {
            "text/plain": [
              "np.float64(26.741380540563718)"
            ]
          },
          "metadata": {},
          "execution_count": 18
        }
      ],
      "source": [
        "Regret_J_n[-1]"
      ]
    },
    {
      "cell_type": "markdown",
      "id": "4cd6b755-a055-4459-98e3-b11d3e604e46",
      "metadata": {
        "id": "4cd6b755-a055-4459-98e3-b11d3e604e46"
      },
      "source": [
        "## $\\psi$ = N(0, 0.03)"
      ]
    },
    {
      "cell_type": "code",
      "execution_count": null,
      "id": "fc8dd936-3483-46cd-aee8-271d9edb6810",
      "metadata": {
        "tags": [],
        "id": "fc8dd936-3483-46cd-aee8-271d9edb6810"
      },
      "outputs": [],
      "source": [
        "# Symbolic setup\n",
        "x_func = Function('x')  # Solution function\n",
        "t = symbols('t')        # Time variable\n",
        "q = 1                   # System parameter\n",
        "\n",
        "# Initialize arrays\n",
        "w_iter = np.zeros((T, 2*N + 1))  # Weight matrix\n",
        "psi = np.random.normal(0, 0.03, T)  # psi values for every timestamp\n",
        "\n",
        "# Tracking variables\n",
        "Regret_J_n = []         # Average regret\n",
        "Regret_J_n_sqrt = []    # Scaled regret\n",
        "Dif_J_n = []            # Objective differences\n",
        "\n",
        "# Precompute frequency terms\n",
        "freq_terms = q**2 + (2*np.pi)**2 * np.ceil(np.arange(2*N+1)/2)**2\n",
        "sqrt_alphas = np.sqrt(alphas)\n",
        "alpha_freq = alphas * freq_terms  # Combined coefficients\n",
        "\n",
        "for i in range(T-1):\n",
        "    # Current system dynamics\n",
        "    h_sp = 10*pi**2*cos(2*psi[i]*pi*t)  # Forcing function\n",
        "    h = lambdify(t, h_sp, 'numpy')       # Numeric function\n",
        "    x_sp = solve_euler(h_sp, q)          # Solve ODE\n",
        "    x_func = lambdify(t, x_sp, 'numpy')  # Numeric solution\n",
        "\n",
        "    # Fourier coefficients\n",
        "    a0, an, bn = pop_fourier_coefs(x_func)\n",
        "    h_a0, h_an, h_bn = pop_fourier_coefs(h)\n",
        "    x_hat = join_arrs(a0, an, bn)        # Solution coeffs\n",
        "    h_hat = join_arrs(h_a0, h_an, h_bn)  # Forcing coeffs\n",
        "\n",
        "    # Gradient and objective\n",
        "    grad_J_vec = alpha_freq * w_iter[i] - sqrt_alphas * h_hat\n",
        "    J_n_current = 0.5*np.sum(alpha_freq * w_iter[i]**2) - np.sum(sqrt_alphas * h_hat * w_iter[i])\n",
        "\n",
        "    # Update weights with decaying learning rate\n",
        "    eta = 2/(80*(i+1))\n",
        "    w_iter[i+1] = np.clip(w_iter[i] - eta * grad_J_vec, -np.sqrt(alphas), np.sqrt(alphas))\n",
        "\n",
        "    # Compute optimal solution difference\n",
        "    x_opt = x_hat/sqrt_alphas\n",
        "    J_n_opt = 0.5*np.sum(alpha_freq * x_opt**2) - np.sum(sqrt_alphas * h_hat * x_opt)\n",
        "    current_diff = J_n_current - J_n_opt\n",
        "\n",
        "    # Update regret metrics\n",
        "    Dif_J_n.append(current_diff)\n",
        "    n = len(Dif_J_n)\n",
        "    Regret_J_n_sqrt.append(np.sum(Dif_J_n)/np.sqrt(n))\n",
        "    Regret_J_n.append(np.sum(Dif_J_n)/n)"
      ]
    },
    {
      "cell_type": "code",
      "execution_count": null,
      "id": "1a58a527-9409-4fbc-8365-7044a3cffea1",
      "metadata": {
        "tags": [],
        "colab": {
          "base_uri": "https://localhost:8080/"
        },
        "id": "1a58a527-9409-4fbc-8365-7044a3cffea1",
        "outputId": "2fa110f6-1ddf-4c58-981c-d0e906d1d53c"
      },
      "outputs": [
        {
          "output_type": "execute_result",
          "data": {
            "text/plain": [
              "np.float64(174.19835138601957)"
            ]
          },
          "metadata": {},
          "execution_count": 20
        }
      ],
      "source": [
        "np.abs(J_n(w_iter[i+1]) - J_n(x_hat/np.sqrt(alphas)))"
      ]
    },
    {
      "cell_type": "code",
      "execution_count": null,
      "id": "b501a827-3468-4e40-8991-a62a4875df3e",
      "metadata": {
        "tags": [],
        "colab": {
          "base_uri": "https://localhost:8080/"
        },
        "id": "b501a827-3468-4e40-8991-a62a4875df3e",
        "outputId": "c8cca0f3-b75d-4a47-e2ff-f4a84f743c89"
      },
      "outputs": [
        {
          "output_type": "execute_result",
          "data": {
            "text/plain": [
              "np.float64(165.59285946500896)"
            ]
          },
          "metadata": {},
          "execution_count": 21
        }
      ],
      "source": [
        "Regret_J_n[-1]"
      ]
    },
    {
      "cell_type": "code",
      "source": [
        "plt.plot(Regret_J_n)"
      ],
      "metadata": {
        "colab": {
          "base_uri": "https://localhost:8080/",
          "height": 448
        },
        "id": "PtzYOCeYwMhm",
        "outputId": "467fe4de-fdb0-4b82-988b-f5dfcb1bc270"
      },
      "id": "PtzYOCeYwMhm",
      "execution_count": null,
      "outputs": [
        {
          "output_type": "execute_result",
          "data": {
            "text/plain": [
              "[<matplotlib.lines.Line2D at 0x7927e2a8fa50>]"
            ]
          },
          "metadata": {},
          "execution_count": 22
        },
        {
          "output_type": "display_data",
          "data": {
            "text/plain": [
              "<Figure size 640x480 with 1 Axes>"
            ],
            "image/png": "[encoded data removed]"
          },
          "metadata": {}
        }
      ]
    },
    {
      "cell_type": "markdown",
      "id": "6e30a3c8-b388-45fd-8208-a2b37d257619",
      "metadata": {
        "id": "6e30a3c8-b388-45fd-8208-a2b37d257619"
      },
      "source": [
        "## $\\psi$ = np.linspace(2, 3, T)"
      ]
    },
    {
      "cell_type": "code",
      "execution_count": null,
      "id": "e2a07364-1527-4565-aa13-8f3424cd9bcc",
      "metadata": {
        "tags": [],
        "id": "e2a07364-1527-4565-aa13-8f3424cd9bcc"
      },
      "outputs": [],
      "source": [
        "# Symbolic setup\n",
        "x_func = Function('x')  # Solution function\n",
        "t = symbols('t')        # Time variable\n",
        "q = 1                   # System parameter\n",
        "\n",
        "# Initialize arrays\n",
        "w_iter = np.zeros((T, 2*N + 1))  # Weight matrix\n",
        "psi = np.linspace(2, 3, T)  # psi values for every timestamp\n",
        "\n",
        "# Tracking variables\n",
        "Regret_J_n = []         # Average regret\n",
        "Regret_J_n_sqrt = []    # Scaled regret\n",
        "Dif_J_n = []            # Objective differences\n",
        "\n",
        "# Precompute frequency terms\n",
        "freq_terms = q**2 + (2*np.pi)**2 * np.ceil(np.arange(2*N+1)/2)**2\n",
        "sqrt_alphas = np.sqrt(alphas)\n",
        "alpha_freq = alphas * freq_terms  # Combined coefficients\n",
        "\n",
        "for i in range(T-1):\n",
        "    # Current system dynamics\n",
        "    h_sp = 10*pi**2*cos(2*psi[i]*pi*t)  # Forcing function\n",
        "    h = lambdify(t, h_sp, 'numpy')       # Numeric function\n",
        "    x_sp = solve_euler(h_sp, q)          # Solve ODE\n",
        "    x_func = lambdify(t, x_sp, 'numpy')  # Numeric solution\n",
        "\n",
        "    # Fourier coefficients\n",
        "    a0, an, bn = pop_fourier_coefs(x_func)\n",
        "    h_a0, h_an, h_bn = pop_fourier_coefs(h)\n",
        "    x_hat = join_arrs(a0, an, bn)        # Solution coeffs\n",
        "    h_hat = join_arrs(h_a0, h_an, h_bn)  # Forcing coeffs\n",
        "\n",
        "    # Gradient and objective\n",
        "    grad_J_vec = alpha_freq * w_iter[i] - sqrt_alphas * h_hat\n",
        "    J_n_current = 0.5*np.sum(alpha_freq * w_iter[i]**2) - np.sum(sqrt_alphas * h_hat * w_iter[i])\n",
        "\n",
        "    # Update weights with decaying learning rate\n",
        "    eta = 2/(80*(i+1))\n",
        "    w_iter[i+1] = np.clip(w_iter[i] - eta * grad_J_vec, -np.sqrt(alphas), np.sqrt(alphas))\n",
        "\n",
        "    # Compute optimal solution difference\n",
        "    x_opt = x_hat/sqrt_alphas\n",
        "    J_n_opt = 0.5*np.sum(alpha_freq * x_opt**2) - np.sum(sqrt_alphas * h_hat * x_opt)\n",
        "    current_diff = J_n_current - J_n_opt\n",
        "\n",
        "    # Update regret metrics\n",
        "    Dif_J_n.append(current_diff)\n",
        "    n = len(Dif_J_n)\n",
        "    Regret_J_n_sqrt.append(np.sum(Dif_J_n)/np.sqrt(n))\n",
        "    Regret_J_n.append(np.sum(Dif_J_n)/n)"
      ]
    },
    {
      "cell_type": "code",
      "execution_count": null,
      "id": "4e024828-682c-4e93-a92a-91d49b2f083d",
      "metadata": {
        "tags": [],
        "colab": {
          "base_uri": "https://localhost:8080/"
        },
        "id": "4e024828-682c-4e93-a92a-91d49b2f083d",
        "outputId": "48cec4c8-513d-45d8-9a9d-f00a97d8b4c6"
      },
      "outputs": [
        {
          "output_type": "execute_result",
          "data": {
            "text/plain": [
              "np.float64(6.13912844619671)"
            ]
          },
          "metadata": {},
          "execution_count": 24
        }
      ],
      "source": [
        "np.abs(J_n(w_iter[i+1]) - J_n(x_hat/np.sqrt(alphas)))"
      ]
    },
    {
      "cell_type": "code",
      "execution_count": null,
      "id": "e53e6235-84dc-4d0b-8022-07a7b59a7d7d",
      "metadata": {
        "tags": [],
        "colab": {
          "base_uri": "https://localhost:8080/"
        },
        "id": "e53e6235-84dc-4d0b-8022-07a7b59a7d7d",
        "outputId": "f409de14-f71b-40f3-a9fb-14981824d02a"
      },
      "outputs": [
        {
          "output_type": "execute_result",
          "data": {
            "text/plain": [
              "np.float64(8.177831290501397)"
            ]
          },
          "metadata": {},
          "execution_count": 25
        }
      ],
      "source": [
        "Regret_J_n[-1]"
      ]
    },
    {
      "cell_type": "markdown",
      "id": "ab1ef8c4-d1bf-4d15-9e44-244c760cb3d7",
      "metadata": {
        "id": "ab1ef8c4-d1bf-4d15-9e44-244c760cb3d7"
      },
      "source": [
        "## $\\psi$ = [0.5]*(T/2) + [1.5]*(T/2) (switch)"
      ]
    },
    {
      "cell_type": "code",
      "execution_count": null,
      "id": "6bd52d02-31e7-488d-8775-d29ed994ca83",
      "metadata": {
        "tags": [],
        "id": "6bd52d02-31e7-488d-8775-d29ed994ca83"
      },
      "outputs": [],
      "source": [
        "# Symbolic setup\n",
        "x_func = Function('x')  # Solution function\n",
        "t = symbols('t')        # Time variable\n",
        "q = 1                   # System parameter\n",
        "\n",
        "# Initialize arrays\n",
        "w_iter = np.zeros((T, 2*N + 1))  # Weight matrix\n",
        "psi = [0.5]*int(T/2) + [1.5]*int(T/2)  # psi values for every timestamp\n",
        "\n",
        "# Tracking variables\n",
        "Regret_J_n = []         # Average regret\n",
        "Regret_J_n_sqrt = []    # Scaled regret\n",
        "Dif_J_n = []            # Objective differences\n",
        "\n",
        "# Precompute frequency terms\n",
        "freq_terms = q**2 + (2*np.pi)**2 * np.ceil(np.arange(2*N+1)/2)**2\n",
        "sqrt_alphas = np.sqrt(alphas)\n",
        "alpha_freq = alphas * freq_terms  # Combined coefficients\n",
        "\n",
        "for i in range(T-1):\n",
        "    # Current system dynamics\n",
        "    h_sp = 10*pi**2*cos(2*psi[i]*pi*t)  # Forcing function\n",
        "    h = lambdify(t, h_sp, 'numpy')       # Numeric function\n",
        "    x_sp = solve_euler(h_sp, q)          # Solve ODE\n",
        "    x_func = lambdify(t, x_sp, 'numpy')  # Numeric solution\n",
        "\n",
        "    # Fourier coefficients\n",
        "    a0, an, bn = pop_fourier_coefs(x_func)\n",
        "    h_a0, h_an, h_bn = pop_fourier_coefs(h)\n",
        "    x_hat = join_arrs(a0, an, bn)        # Solution coeffs\n",
        "    h_hat = join_arrs(h_a0, h_an, h_bn)  # Forcing coeffs\n",
        "\n",
        "    # Gradient and objective\n",
        "    grad_J_vec = alpha_freq * w_iter[i] - sqrt_alphas * h_hat\n",
        "    J_n_current = 0.5*np.sum(alpha_freq * w_iter[i]**2) - np.sum(sqrt_alphas * h_hat * w_iter[i])\n",
        "\n",
        "    # Update weights with decaying learning rate\n",
        "    eta = 2/(80*(i+1))\n",
        "    w_iter[i+1] = np.clip(w_iter[i] - eta * grad_J_vec, -np.sqrt(alphas), np.sqrt(alphas))\n",
        "\n",
        "    # Compute optimal solution difference\n",
        "    x_opt = x_hat/sqrt_alphas\n",
        "    J_n_opt = 0.5*np.sum(alpha_freq * x_opt**2) - np.sum(sqrt_alphas * h_hat * x_opt)\n",
        "    current_diff = J_n_current - J_n_opt\n",
        "\n",
        "    # Update regret metrics\n",
        "    Dif_J_n.append(current_diff)\n",
        "    n = len(Dif_J_n)\n",
        "    Regret_J_n_sqrt.append(np.sum(Dif_J_n)/np.sqrt(n))\n",
        "    Regret_J_n.append(np.sum(Dif_J_n)/n)"
      ]
    },
    {
      "cell_type": "code",
      "execution_count": null,
      "id": "2e4bae0d-63ce-442c-be06-76f8f0e1ad3a",
      "metadata": {
        "tags": [],
        "colab": {
          "base_uri": "https://localhost:8080/"
        },
        "id": "2e4bae0d-63ce-442c-be06-76f8f0e1ad3a",
        "outputId": "3dc681f5-b7c6-4767-f8fe-f920a59b68ec"
      },
      "outputs": [
        {
          "output_type": "execute_result",
          "data": {
            "text/plain": [
              "np.float64(6.851005522986995)"
            ]
          },
          "metadata": {},
          "execution_count": 27
        }
      ],
      "source": [
        "np.abs(J_n(w_iter[i+1]) - J_n(x_hat/np.sqrt(alphas)))"
      ]
    },
    {
      "cell_type": "code",
      "execution_count": null,
      "id": "ead0719e-d3b8-4e9a-9419-429b252ad860",
      "metadata": {
        "tags": [],
        "colab": {
          "base_uri": "https://localhost:8080/"
        },
        "id": "ead0719e-d3b8-4e9a-9419-429b252ad860",
        "outputId": "9055192f-5dce-46e2-808e-3893ca1a4b54"
      },
      "outputs": [
        {
          "output_type": "execute_result",
          "data": {
            "text/plain": [
              "np.float64(16.358902156254917)"
            ]
          },
          "metadata": {},
          "execution_count": 28
        }
      ],
      "source": [
        "Regret_J_n[-1]"
      ]
    },
    {
      "cell_type": "markdown",
      "id": "b33c22eb-e11c-4a49-8608-01cf96ad4e6d",
      "metadata": {
        "id": "b33c22eb-e11c-4a49-8608-01cf96ad4e6d"
      },
      "source": [
        "## $\\psi$ = np.linspace(2, 3, T) + np.random.normal(0, 0.03, T)"
      ]
    },
    {
      "cell_type": "code",
      "execution_count": null,
      "id": "b7048860-c32a-4a7d-8b5b-117b7f686e2c",
      "metadata": {
        "tags": [],
        "id": "b7048860-c32a-4a7d-8b5b-117b7f686e2c"
      },
      "outputs": [],
      "source": [
        "# Symbolic setup\n",
        "x_func = Function('x')  # Solution function\n",
        "t = symbols('t')        # Time variable\n",
        "q = 1                   # System parameter\n",
        "\n",
        "# Initialize arrays\n",
        "w_iter = np.zeros((T, 2*N + 1))  # Weight matrix\n",
        "psi = np.linspace(2, 3, T) + np.random.normal(0, 0.03, T)  # psi values for every timestamp\n",
        "\n",
        "# Tracking variables\n",
        "Regret_J_n = []         # Average regret\n",
        "Regret_J_n_sqrt = []    # Scaled regret\n",
        "Dif_J_n = []            # Objective differences\n",
        "\n",
        "# Precompute frequency terms\n",
        "freq_terms = q**2 + (2*np.pi)**2 * np.ceil(np.arange(2*N+1)/2)**2\n",
        "sqrt_alphas = np.sqrt(alphas)\n",
        "alpha_freq = alphas * freq_terms  # Combined coefficients\n",
        "\n",
        "for i in range(T-1):\n",
        "    # Current system dynamics\n",
        "    h_sp = 10*pi**2*cos(2*psi[i]*pi*t)  # Forcing function\n",
        "    h = lambdify(t, h_sp, 'numpy')       # Numeric function\n",
        "    x_sp = solve_euler(h_sp, q)          # Solve ODE\n",
        "    x_func = lambdify(t, x_sp, 'numpy')  # Numeric solution\n",
        "\n",
        "    # Fourier coefficients\n",
        "    a0, an, bn = pop_fourier_coefs(x_func)\n",
        "    h_a0, h_an, h_bn = pop_fourier_coefs(h)\n",
        "    x_hat = join_arrs(a0, an, bn)        # Solution coeffs\n",
        "    h_hat = join_arrs(h_a0, h_an, h_bn)  # Forcing coeffs\n",
        "\n",
        "    # Gradient and objective\n",
        "    grad_J_vec = alpha_freq * w_iter[i] - sqrt_alphas * h_hat\n",
        "    J_n_current = 0.5*np.sum(alpha_freq * w_iter[i]**2) - np.sum(sqrt_alphas * h_hat * w_iter[i])\n",
        "\n",
        "    # Update weights with decaying learning rate\n",
        "    eta = 2/(80*(i+1))\n",
        "    w_iter[i+1] = np.clip(w_iter[i] - eta * grad_J_vec, -np.sqrt(alphas), np.sqrt(alphas))\n",
        "\n",
        "    # Compute optimal solution difference\n",
        "    x_opt = x_hat/sqrt_alphas\n",
        "    J_n_opt = 0.5*np.sum(alpha_freq * x_opt**2) - np.sum(sqrt_alphas * h_hat * x_opt)\n",
        "    current_diff = J_n_current - J_n_opt\n",
        "\n",
        "    # Update regret metrics\n",
        "    Dif_J_n.append(current_diff)\n",
        "    n = len(Dif_J_n)\n",
        "    Regret_J_n_sqrt.append(np.sum(Dif_J_n)/np.sqrt(n))\n",
        "    Regret_J_n.append(np.sum(Dif_J_n)/n)"
      ]
    },
    {
      "cell_type": "code",
      "execution_count": null,
      "id": "63104bd3-ba8e-4f53-9514-75f43c3a3b76",
      "metadata": {
        "tags": [],
        "colab": {
          "base_uri": "https://localhost:8080/"
        },
        "id": "63104bd3-ba8e-4f53-9514-75f43c3a3b76",
        "outputId": "4cb8115a-056e-4fc6-956c-2768c8442508"
      },
      "outputs": [
        {
          "output_type": "execute_result",
          "data": {
            "text/plain": [
              "np.float64(6.010878301985639)"
            ]
          },
          "metadata": {},
          "execution_count": 30
        }
      ],
      "source": [
        "np.abs(J_n(w_iter[i+1]) - J_n(x_hat/np.sqrt(alphas)))"
      ]
    },
    {
      "cell_type": "code",
      "execution_count": null,
      "id": "bae13008-2d2f-4007-a576-395b783a5fdc",
      "metadata": {
        "tags": [],
        "colab": {
          "base_uri": "https://localhost:8080/"
        },
        "id": "bae13008-2d2f-4007-a576-395b783a5fdc",
        "outputId": "e3292932-e6ff-4997-d6d8-d533af9451c2"
      },
      "outputs": [
        {
          "output_type": "execute_result",
          "data": {
            "text/plain": [
              "np.float64(8.435809820279058)"
            ]
          },
          "metadata": {},
          "execution_count": 31
        }
      ],
      "source": [
        "Regret_J_n[-1]"
      ]
    },
    {
      "cell_type": "code",
      "source": [],
      "metadata": {
        "id": "X6Gxpli-u9A5"
      },
      "id": "X6Gxpli-u9A5",
      "execution_count": null,
      "outputs": []
    }
  ],
  "metadata": {
    "kernelspec": {
      "display_name": "Python 3 (ipykernel)",
      "language": "python",
      "name": "python3"
    },
    "language_info": {
      "codemirror_mode": {
        "name": "ipython",
        "version": 3
      },
      "file_extension": ".py",
      "mimetype": "text/x-python",
      "name": "python",
      "nbconvert_exporter": "python",
      "pygments_lexer": "ipython3",
      "version": "3.11.5"
    },
    "toc-showcode": false,
    "colab": {
      "provenance": [],
      "toc_visible": true
    }
  },
  "nbformat": 4,
  "nbformat_minor": 5
}